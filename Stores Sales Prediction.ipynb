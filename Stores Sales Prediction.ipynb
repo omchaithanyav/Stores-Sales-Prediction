{
 "cells": [
  {
   "cell_type": "code",
   "execution_count": 1,
   "id": "30061f7a",
   "metadata": {},
   "outputs": [],
   "source": [
    "import pandas as pd\n",
    "import numpy as np\n",
    "import matplotlib.pyplot as plt\n",
    "import seaborn as sns\n",
    "import klib"
   ]
  },
  {
   "cell_type": "code",
   "execution_count": 2,
   "id": "187969ad",
   "metadata": {},
   "outputs": [
    {
     "data": {
      "text/html": [
       "<div>\n",
       "<style scoped>\n",
       "    .dataframe tbody tr th:only-of-type {\n",
       "        vertical-align: middle;\n",
       "    }\n",
       "\n",
       "    .dataframe tbody tr th {\n",
       "        vertical-align: top;\n",
       "    }\n",
       "\n",
       "    .dataframe thead th {\n",
       "        text-align: right;\n",
       "    }\n",
       "</style>\n",
       "<table border=\"1\" class=\"dataframe\">\n",
       "  <thead>\n",
       "    <tr style=\"text-align: right;\">\n",
       "      <th></th>\n",
       "      <th>Item_Identifier</th>\n",
       "      <th>Item_Weight</th>\n",
       "      <th>Item_Fat_Content</th>\n",
       "      <th>Item_Visibility</th>\n",
       "      <th>Item_Type</th>\n",
       "      <th>Item_MRP</th>\n",
       "      <th>Outlet_Identifier</th>\n",
       "      <th>Outlet_Establishment_Year</th>\n",
       "      <th>Outlet_Size</th>\n",
       "      <th>Outlet_Location_Type</th>\n",
       "      <th>Outlet_Type</th>\n",
       "      <th>Item_Outlet_Sales</th>\n",
       "    </tr>\n",
       "  </thead>\n",
       "  <tbody>\n",
       "    <tr>\n",
       "      <th>0</th>\n",
       "      <td>FDA15</td>\n",
       "      <td>9.30</td>\n",
       "      <td>Low Fat</td>\n",
       "      <td>0.016047</td>\n",
       "      <td>Dairy</td>\n",
       "      <td>249.8092</td>\n",
       "      <td>OUT049</td>\n",
       "      <td>1999</td>\n",
       "      <td>Medium</td>\n",
       "      <td>Tier 1</td>\n",
       "      <td>Supermarket Type1</td>\n",
       "      <td>3735.1380</td>\n",
       "    </tr>\n",
       "    <tr>\n",
       "      <th>1</th>\n",
       "      <td>DRC01</td>\n",
       "      <td>5.92</td>\n",
       "      <td>Regular</td>\n",
       "      <td>0.019278</td>\n",
       "      <td>Soft Drinks</td>\n",
       "      <td>48.2692</td>\n",
       "      <td>OUT018</td>\n",
       "      <td>2009</td>\n",
       "      <td>Medium</td>\n",
       "      <td>Tier 3</td>\n",
       "      <td>Supermarket Type2</td>\n",
       "      <td>443.4228</td>\n",
       "    </tr>\n",
       "    <tr>\n",
       "      <th>2</th>\n",
       "      <td>FDN15</td>\n",
       "      <td>17.50</td>\n",
       "      <td>Low Fat</td>\n",
       "      <td>0.016760</td>\n",
       "      <td>Meat</td>\n",
       "      <td>141.6180</td>\n",
       "      <td>OUT049</td>\n",
       "      <td>1999</td>\n",
       "      <td>Medium</td>\n",
       "      <td>Tier 1</td>\n",
       "      <td>Supermarket Type1</td>\n",
       "      <td>2097.2700</td>\n",
       "    </tr>\n",
       "    <tr>\n",
       "      <th>3</th>\n",
       "      <td>FDX07</td>\n",
       "      <td>19.20</td>\n",
       "      <td>Regular</td>\n",
       "      <td>0.000000</td>\n",
       "      <td>Fruits and Vegetables</td>\n",
       "      <td>182.0950</td>\n",
       "      <td>OUT010</td>\n",
       "      <td>1998</td>\n",
       "      <td>NaN</td>\n",
       "      <td>Tier 3</td>\n",
       "      <td>Grocery Store</td>\n",
       "      <td>732.3800</td>\n",
       "    </tr>\n",
       "    <tr>\n",
       "      <th>4</th>\n",
       "      <td>NCD19</td>\n",
       "      <td>8.93</td>\n",
       "      <td>Low Fat</td>\n",
       "      <td>0.000000</td>\n",
       "      <td>Household</td>\n",
       "      <td>53.8614</td>\n",
       "      <td>OUT013</td>\n",
       "      <td>1987</td>\n",
       "      <td>High</td>\n",
       "      <td>Tier 3</td>\n",
       "      <td>Supermarket Type1</td>\n",
       "      <td>994.7052</td>\n",
       "    </tr>\n",
       "  </tbody>\n",
       "</table>\n",
       "</div>"
      ],
      "text/plain": [
       "  Item_Identifier  Item_Weight Item_Fat_Content  Item_Visibility  \\\n",
       "0           FDA15         9.30          Low Fat         0.016047   \n",
       "1           DRC01         5.92          Regular         0.019278   \n",
       "2           FDN15        17.50          Low Fat         0.016760   \n",
       "3           FDX07        19.20          Regular         0.000000   \n",
       "4           NCD19         8.93          Low Fat         0.000000   \n",
       "\n",
       "               Item_Type  Item_MRP Outlet_Identifier  \\\n",
       "0                  Dairy  249.8092            OUT049   \n",
       "1            Soft Drinks   48.2692            OUT018   \n",
       "2                   Meat  141.6180            OUT049   \n",
       "3  Fruits and Vegetables  182.0950            OUT010   \n",
       "4              Household   53.8614            OUT013   \n",
       "\n",
       "   Outlet_Establishment_Year Outlet_Size Outlet_Location_Type  \\\n",
       "0                       1999      Medium               Tier 1   \n",
       "1                       2009      Medium               Tier 3   \n",
       "2                       1999      Medium               Tier 1   \n",
       "3                       1998         NaN               Tier 3   \n",
       "4                       1987        High               Tier 3   \n",
       "\n",
       "         Outlet_Type  Item_Outlet_Sales  \n",
       "0  Supermarket Type1          3735.1380  \n",
       "1  Supermarket Type2           443.4228  \n",
       "2  Supermarket Type1          2097.2700  \n",
       "3      Grocery Store           732.3800  \n",
       "4  Supermarket Type1           994.7052  "
      ]
     },
     "execution_count": 2,
     "metadata": {},
     "output_type": "execute_result"
    }
   ],
   "source": [
    "# Load the data\n",
    "df = pd.read_csv('Train.csv')\n",
    "df.head()"
   ]
  },
  {
   "cell_type": "markdown",
   "id": "930dac6a",
   "metadata": {},
   "source": [
    "# Data Preprocessing"
   ]
  },
  {
   "cell_type": "code",
   "execution_count": 3,
   "id": "48209f01",
   "metadata": {},
   "outputs": [
    {
     "data": {
      "text/plain": [
       "(8523, 12)"
      ]
     },
     "execution_count": 3,
     "metadata": {},
     "output_type": "execute_result"
    }
   ],
   "source": [
    "df.shape"
   ]
  },
  {
   "cell_type": "code",
   "execution_count": 4,
   "id": "db1a7afb",
   "metadata": {},
   "outputs": [
    {
     "name": "stdout",
     "output_type": "stream",
     "text": [
      "<class 'pandas.core.frame.DataFrame'>\n",
      "RangeIndex: 8523 entries, 0 to 8522\n",
      "Data columns (total 12 columns):\n",
      " #   Column                     Non-Null Count  Dtype  \n",
      "---  ------                     --------------  -----  \n",
      " 0   Item_Identifier            8523 non-null   object \n",
      " 1   Item_Weight                7060 non-null   float64\n",
      " 2   Item_Fat_Content           8523 non-null   object \n",
      " 3   Item_Visibility            8523 non-null   float64\n",
      " 4   Item_Type                  8523 non-null   object \n",
      " 5   Item_MRP                   8523 non-null   float64\n",
      " 6   Outlet_Identifier          8523 non-null   object \n",
      " 7   Outlet_Establishment_Year  8523 non-null   int64  \n",
      " 8   Outlet_Size                6113 non-null   object \n",
      " 9   Outlet_Location_Type       8523 non-null   object \n",
      " 10  Outlet_Type                8523 non-null   object \n",
      " 11  Item_Outlet_Sales          8523 non-null   float64\n",
      "dtypes: float64(4), int64(1), object(7)\n",
      "memory usage: 799.2+ KB\n"
     ]
    }
   ],
   "source": [
    "df.info()"
   ]
  },
  {
   "cell_type": "code",
   "execution_count": 5,
   "id": "89f4ab72",
   "metadata": {},
   "outputs": [
    {
     "data": {
      "text/html": [
       "<div>\n",
       "<style scoped>\n",
       "    .dataframe tbody tr th:only-of-type {\n",
       "        vertical-align: middle;\n",
       "    }\n",
       "\n",
       "    .dataframe tbody tr th {\n",
       "        vertical-align: top;\n",
       "    }\n",
       "\n",
       "    .dataframe thead th {\n",
       "        text-align: right;\n",
       "    }\n",
       "</style>\n",
       "<table border=\"1\" class=\"dataframe\">\n",
       "  <thead>\n",
       "    <tr style=\"text-align: right;\">\n",
       "      <th></th>\n",
       "      <th>Item_Weight</th>\n",
       "      <th>Item_Visibility</th>\n",
       "      <th>Item_MRP</th>\n",
       "      <th>Outlet_Establishment_Year</th>\n",
       "      <th>Item_Outlet_Sales</th>\n",
       "    </tr>\n",
       "  </thead>\n",
       "  <tbody>\n",
       "    <tr>\n",
       "      <th>count</th>\n",
       "      <td>7060.000000</td>\n",
       "      <td>8523.000000</td>\n",
       "      <td>8523.000000</td>\n",
       "      <td>8523.000000</td>\n",
       "      <td>8523.000000</td>\n",
       "    </tr>\n",
       "    <tr>\n",
       "      <th>mean</th>\n",
       "      <td>12.857645</td>\n",
       "      <td>0.066132</td>\n",
       "      <td>140.992782</td>\n",
       "      <td>1997.831867</td>\n",
       "      <td>2181.288914</td>\n",
       "    </tr>\n",
       "    <tr>\n",
       "      <th>std</th>\n",
       "      <td>4.643456</td>\n",
       "      <td>0.051598</td>\n",
       "      <td>62.275067</td>\n",
       "      <td>8.371760</td>\n",
       "      <td>1706.499616</td>\n",
       "    </tr>\n",
       "    <tr>\n",
       "      <th>min</th>\n",
       "      <td>4.555000</td>\n",
       "      <td>0.000000</td>\n",
       "      <td>31.290000</td>\n",
       "      <td>1985.000000</td>\n",
       "      <td>33.290000</td>\n",
       "    </tr>\n",
       "    <tr>\n",
       "      <th>25%</th>\n",
       "      <td>8.773750</td>\n",
       "      <td>0.026989</td>\n",
       "      <td>93.826500</td>\n",
       "      <td>1987.000000</td>\n",
       "      <td>834.247400</td>\n",
       "    </tr>\n",
       "    <tr>\n",
       "      <th>50%</th>\n",
       "      <td>12.600000</td>\n",
       "      <td>0.053931</td>\n",
       "      <td>143.012800</td>\n",
       "      <td>1999.000000</td>\n",
       "      <td>1794.331000</td>\n",
       "    </tr>\n",
       "    <tr>\n",
       "      <th>75%</th>\n",
       "      <td>16.850000</td>\n",
       "      <td>0.094585</td>\n",
       "      <td>185.643700</td>\n",
       "      <td>2004.000000</td>\n",
       "      <td>3101.296400</td>\n",
       "    </tr>\n",
       "    <tr>\n",
       "      <th>max</th>\n",
       "      <td>21.350000</td>\n",
       "      <td>0.328391</td>\n",
       "      <td>266.888400</td>\n",
       "      <td>2009.000000</td>\n",
       "      <td>13086.964800</td>\n",
       "    </tr>\n",
       "  </tbody>\n",
       "</table>\n",
       "</div>"
      ],
      "text/plain": [
       "       Item_Weight  Item_Visibility     Item_MRP  Outlet_Establishment_Year  \\\n",
       "count  7060.000000      8523.000000  8523.000000                8523.000000   \n",
       "mean     12.857645         0.066132   140.992782                1997.831867   \n",
       "std       4.643456         0.051598    62.275067                   8.371760   \n",
       "min       4.555000         0.000000    31.290000                1985.000000   \n",
       "25%       8.773750         0.026989    93.826500                1987.000000   \n",
       "50%      12.600000         0.053931   143.012800                1999.000000   \n",
       "75%      16.850000         0.094585   185.643700                2004.000000   \n",
       "max      21.350000         0.328391   266.888400                2009.000000   \n",
       "\n",
       "       Item_Outlet_Sales  \n",
       "count        8523.000000  \n",
       "mean         2181.288914  \n",
       "std          1706.499616  \n",
       "min            33.290000  \n",
       "25%           834.247400  \n",
       "50%          1794.331000  \n",
       "75%          3101.296400  \n",
       "max         13086.964800  "
      ]
     },
     "execution_count": 5,
     "metadata": {},
     "output_type": "execute_result"
    }
   ],
   "source": [
    "df.describe()"
   ]
  },
  {
   "cell_type": "code",
   "execution_count": 6,
   "id": "821acfc2",
   "metadata": {},
   "outputs": [
    {
     "data": {
      "text/html": [
       "<div>\n",
       "<style scoped>\n",
       "    .dataframe tbody tr th:only-of-type {\n",
       "        vertical-align: middle;\n",
       "    }\n",
       "\n",
       "    .dataframe tbody tr th {\n",
       "        vertical-align: top;\n",
       "    }\n",
       "\n",
       "    .dataframe thead th {\n",
       "        text-align: right;\n",
       "    }\n",
       "</style>\n",
       "<table border=\"1\" class=\"dataframe\">\n",
       "  <thead>\n",
       "    <tr style=\"text-align: right;\">\n",
       "      <th></th>\n",
       "      <th>Item_Weight</th>\n",
       "      <th>Item_Visibility</th>\n",
       "      <th>Item_MRP</th>\n",
       "      <th>Outlet_Establishment_Year</th>\n",
       "      <th>Item_Outlet_Sales</th>\n",
       "    </tr>\n",
       "  </thead>\n",
       "  <tbody>\n",
       "    <tr>\n",
       "      <th>0</th>\n",
       "      <td>9.30</td>\n",
       "      <td>0.016047</td>\n",
       "      <td>249.8092</td>\n",
       "      <td>1999</td>\n",
       "      <td>3735.1380</td>\n",
       "    </tr>\n",
       "    <tr>\n",
       "      <th>1</th>\n",
       "      <td>5.92</td>\n",
       "      <td>0.019278</td>\n",
       "      <td>48.2692</td>\n",
       "      <td>2009</td>\n",
       "      <td>443.4228</td>\n",
       "    </tr>\n",
       "    <tr>\n",
       "      <th>2</th>\n",
       "      <td>17.50</td>\n",
       "      <td>0.016760</td>\n",
       "      <td>141.6180</td>\n",
       "      <td>1999</td>\n",
       "      <td>2097.2700</td>\n",
       "    </tr>\n",
       "    <tr>\n",
       "      <th>3</th>\n",
       "      <td>19.20</td>\n",
       "      <td>0.000000</td>\n",
       "      <td>182.0950</td>\n",
       "      <td>1998</td>\n",
       "      <td>732.3800</td>\n",
       "    </tr>\n",
       "    <tr>\n",
       "      <th>4</th>\n",
       "      <td>8.93</td>\n",
       "      <td>0.000000</td>\n",
       "      <td>53.8614</td>\n",
       "      <td>1987</td>\n",
       "      <td>994.7052</td>\n",
       "    </tr>\n",
       "  </tbody>\n",
       "</table>\n",
       "</div>"
      ],
      "text/plain": [
       "   Item_Weight  Item_Visibility  Item_MRP  Outlet_Establishment_Year  \\\n",
       "0         9.30         0.016047  249.8092                       1999   \n",
       "1         5.92         0.019278   48.2692                       2009   \n",
       "2        17.50         0.016760  141.6180                       1999   \n",
       "3        19.20         0.000000  182.0950                       1998   \n",
       "4         8.93         0.000000   53.8614                       1987   \n",
       "\n",
       "   Item_Outlet_Sales  \n",
       "0          3735.1380  \n",
       "1           443.4228  \n",
       "2          2097.2700  \n",
       "3           732.3800  \n",
       "4           994.7052  "
      ]
     },
     "execution_count": 6,
     "metadata": {},
     "output_type": "execute_result"
    }
   ],
   "source": [
    "# numerical columns\n",
    "\n",
    "num_cols = [col for col in df.columns if df[col].dtype == 'int64' or df[col].dtype == 'float64']\n",
    "df[num_cols].head()"
   ]
  },
  {
   "cell_type": "code",
   "execution_count": 7,
   "id": "c7e467c6",
   "metadata": {},
   "outputs": [
    {
     "data": {
      "text/html": [
       "<div>\n",
       "<style scoped>\n",
       "    .dataframe tbody tr th:only-of-type {\n",
       "        vertical-align: middle;\n",
       "    }\n",
       "\n",
       "    .dataframe tbody tr th {\n",
       "        vertical-align: top;\n",
       "    }\n",
       "\n",
       "    .dataframe thead th {\n",
       "        text-align: right;\n",
       "    }\n",
       "</style>\n",
       "<table border=\"1\" class=\"dataframe\">\n",
       "  <thead>\n",
       "    <tr style=\"text-align: right;\">\n",
       "      <th></th>\n",
       "      <th>Item_Identifier</th>\n",
       "      <th>Item_Fat_Content</th>\n",
       "      <th>Item_Type</th>\n",
       "      <th>Outlet_Identifier</th>\n",
       "      <th>Outlet_Size</th>\n",
       "      <th>Outlet_Location_Type</th>\n",
       "      <th>Outlet_Type</th>\n",
       "    </tr>\n",
       "  </thead>\n",
       "  <tbody>\n",
       "    <tr>\n",
       "      <th>0</th>\n",
       "      <td>FDA15</td>\n",
       "      <td>Low Fat</td>\n",
       "      <td>Dairy</td>\n",
       "      <td>OUT049</td>\n",
       "      <td>Medium</td>\n",
       "      <td>Tier 1</td>\n",
       "      <td>Supermarket Type1</td>\n",
       "    </tr>\n",
       "    <tr>\n",
       "      <th>1</th>\n",
       "      <td>DRC01</td>\n",
       "      <td>Regular</td>\n",
       "      <td>Soft Drinks</td>\n",
       "      <td>OUT018</td>\n",
       "      <td>Medium</td>\n",
       "      <td>Tier 3</td>\n",
       "      <td>Supermarket Type2</td>\n",
       "    </tr>\n",
       "    <tr>\n",
       "      <th>2</th>\n",
       "      <td>FDN15</td>\n",
       "      <td>Low Fat</td>\n",
       "      <td>Meat</td>\n",
       "      <td>OUT049</td>\n",
       "      <td>Medium</td>\n",
       "      <td>Tier 1</td>\n",
       "      <td>Supermarket Type1</td>\n",
       "    </tr>\n",
       "    <tr>\n",
       "      <th>3</th>\n",
       "      <td>FDX07</td>\n",
       "      <td>Regular</td>\n",
       "      <td>Fruits and Vegetables</td>\n",
       "      <td>OUT010</td>\n",
       "      <td>NaN</td>\n",
       "      <td>Tier 3</td>\n",
       "      <td>Grocery Store</td>\n",
       "    </tr>\n",
       "    <tr>\n",
       "      <th>4</th>\n",
       "      <td>NCD19</td>\n",
       "      <td>Low Fat</td>\n",
       "      <td>Household</td>\n",
       "      <td>OUT013</td>\n",
       "      <td>High</td>\n",
       "      <td>Tier 3</td>\n",
       "      <td>Supermarket Type1</td>\n",
       "    </tr>\n",
       "  </tbody>\n",
       "</table>\n",
       "</div>"
      ],
      "text/plain": [
       "  Item_Identifier Item_Fat_Content              Item_Type Outlet_Identifier  \\\n",
       "0           FDA15          Low Fat                  Dairy            OUT049   \n",
       "1           DRC01          Regular            Soft Drinks            OUT018   \n",
       "2           FDN15          Low Fat                   Meat            OUT049   \n",
       "3           FDX07          Regular  Fruits and Vegetables            OUT010   \n",
       "4           NCD19          Low Fat              Household            OUT013   \n",
       "\n",
       "  Outlet_Size Outlet_Location_Type        Outlet_Type  \n",
       "0      Medium               Tier 1  Supermarket Type1  \n",
       "1      Medium               Tier 3  Supermarket Type2  \n",
       "2      Medium               Tier 1  Supermarket Type1  \n",
       "3         NaN               Tier 3      Grocery Store  \n",
       "4        High               Tier 3  Supermarket Type1  "
      ]
     },
     "execution_count": 7,
     "metadata": {},
     "output_type": "execute_result"
    }
   ],
   "source": [
    "#categorical colmuns\n",
    "\n",
    "cat_cols = [col for col in df.columns if df[col].dtype == 'object']\n",
    "df[cat_cols].head()"
   ]
  },
  {
   "cell_type": "code",
   "execution_count": 8,
   "id": "205f25fc",
   "metadata": {},
   "outputs": [
    {
     "data": {
      "text/plain": [
       "Item_Identifier                 0\n",
       "Item_Weight                  1463\n",
       "Item_Fat_Content                0\n",
       "Item_Visibility                 0\n",
       "Item_Type                       0\n",
       "Item_MRP                        0\n",
       "Outlet_Identifier               0\n",
       "Outlet_Establishment_Year       0\n",
       "Outlet_Size                  2410\n",
       "Outlet_Location_Type            0\n",
       "Outlet_Type                     0\n",
       "Item_Outlet_Sales               0\n",
       "dtype: int64"
      ]
     },
     "execution_count": 8,
     "metadata": {},
     "output_type": "execute_result"
    }
   ],
   "source": [
    "# null value in each feature\n",
    "df.isnull().sum()"
   ]
  },
  {
   "cell_type": "code",
   "execution_count": 9,
   "id": "b87bfbf4",
   "metadata": {},
   "outputs": [
    {
     "data": {
      "text/plain": [
       "(array([ 9.3  ,  5.92 , 17.5  , 19.2  ,  8.93 , 10.395, 13.65 ,    nan]),\n",
       " array(['Medium', nan, 'High', 'Small'], dtype=object))"
      ]
     },
     "execution_count": 9,
     "metadata": {},
     "output_type": "execute_result"
    }
   ],
   "source": [
    "df.Item_Weight.unique()[:8], df.Outlet_Size.unique()"
   ]
  },
  {
   "cell_type": "code",
   "execution_count": 10,
   "id": "6bd283e3",
   "metadata": {},
   "outputs": [
    {
     "name": "stdout",
     "output_type": "stream",
     "text": [
      "5\n"
     ]
    },
    {
     "data": {
      "text/plain": [
       "array(['Low Fat', 'Regular', 'low fat', 'LF', 'reg'], dtype=object)"
      ]
     },
     "execution_count": 10,
     "metadata": {},
     "output_type": "execute_result"
    }
   ],
   "source": [
    "print(df.Item_Fat_Content.nunique())\n",
    "df.Item_Fat_Content.unique()"
   ]
  },
  {
   "cell_type": "code",
   "execution_count": 11,
   "id": "d5a3709d",
   "metadata": {},
   "outputs": [
    {
     "data": {
      "text/plain": [
       "Low Fat    5517\n",
       "Regular    3006\n",
       "Name: Item_Fat_Content, dtype: int64"
      ]
     },
     "execution_count": 11,
     "metadata": {},
     "output_type": "execute_result"
    }
   ],
   "source": [
    "# Replacing duplicate classes in 'Item_Fat' column\n",
    "df.Item_Fat_Content.replace({'low fat':'Low Fat', 'LF':'Low Fat', 'reg':'Regular'}, inplace = True)\n",
    "df.Item_Fat_Content.value_counts()"
   ]
  },
  {
   "cell_type": "code",
   "execution_count": 12,
   "id": "b87f60aa",
   "metadata": {},
   "outputs": [
    {
     "data": {
      "text/html": [
       "<div>\n",
       "<style scoped>\n",
       "    .dataframe tbody tr th:only-of-type {\n",
       "        vertical-align: middle;\n",
       "    }\n",
       "\n",
       "    .dataframe tbody tr th {\n",
       "        vertical-align: top;\n",
       "    }\n",
       "\n",
       "    .dataframe thead th {\n",
       "        text-align: right;\n",
       "    }\n",
       "</style>\n",
       "<table border=\"1\" class=\"dataframe\">\n",
       "  <thead>\n",
       "    <tr style=\"text-align: right;\">\n",
       "      <th></th>\n",
       "      <th>Item_Identifier</th>\n",
       "      <th>Item_Weight</th>\n",
       "      <th>Item_Fat_Content</th>\n",
       "      <th>Item_Visibility</th>\n",
       "      <th>Item_Type</th>\n",
       "      <th>Item_MRP</th>\n",
       "      <th>Outlet_Identifier</th>\n",
       "      <th>Outlet_Establishment_Year</th>\n",
       "      <th>Outlet_Size</th>\n",
       "      <th>Outlet_Location_Type</th>\n",
       "      <th>Outlet_Type</th>\n",
       "      <th>Item_Outlet_Sales</th>\n",
       "      <th>Outlet_Age</th>\n",
       "    </tr>\n",
       "  </thead>\n",
       "  <tbody>\n",
       "    <tr>\n",
       "      <th>0</th>\n",
       "      <td>FDA15</td>\n",
       "      <td>9.30</td>\n",
       "      <td>Low Fat</td>\n",
       "      <td>0.016047</td>\n",
       "      <td>Dairy</td>\n",
       "      <td>249.8092</td>\n",
       "      <td>OUT049</td>\n",
       "      <td>1999</td>\n",
       "      <td>Medium</td>\n",
       "      <td>Tier 1</td>\n",
       "      <td>Supermarket Type1</td>\n",
       "      <td>3735.1380</td>\n",
       "      <td>22</td>\n",
       "    </tr>\n",
       "    <tr>\n",
       "      <th>1</th>\n",
       "      <td>DRC01</td>\n",
       "      <td>5.92</td>\n",
       "      <td>Regular</td>\n",
       "      <td>0.019278</td>\n",
       "      <td>Soft Drinks</td>\n",
       "      <td>48.2692</td>\n",
       "      <td>OUT018</td>\n",
       "      <td>2009</td>\n",
       "      <td>Medium</td>\n",
       "      <td>Tier 3</td>\n",
       "      <td>Supermarket Type2</td>\n",
       "      <td>443.4228</td>\n",
       "      <td>12</td>\n",
       "    </tr>\n",
       "  </tbody>\n",
       "</table>\n",
       "</div>"
      ],
      "text/plain": [
       "  Item_Identifier  Item_Weight Item_Fat_Content  Item_Visibility    Item_Type  \\\n",
       "0           FDA15         9.30          Low Fat         0.016047        Dairy   \n",
       "1           DRC01         5.92          Regular         0.019278  Soft Drinks   \n",
       "\n",
       "   Item_MRP Outlet_Identifier  Outlet_Establishment_Year Outlet_Size  \\\n",
       "0  249.8092            OUT049                       1999      Medium   \n",
       "1   48.2692            OUT018                       2009      Medium   \n",
       "\n",
       "  Outlet_Location_Type        Outlet_Type  Item_Outlet_Sales  Outlet_Age  \n",
       "0               Tier 1  Supermarket Type1          3735.1380          22  \n",
       "1               Tier 3  Supermarket Type2           443.4228          12  "
      ]
     },
     "execution_count": 12,
     "metadata": {},
     "output_type": "execute_result"
    }
   ],
   "source": [
    "# Adding a new column 'Outlet_Age' and drop 'Outlet_Establishment_Year' \n",
    "\n",
    "df['Outlet_Age'] = 2021 - df['Outlet_Establishment_Year'] \n",
    "df.head(2)"
   ]
  },
  {
   "cell_type": "code",
   "execution_count": 13,
   "id": "60c99854",
   "metadata": {
    "scrolled": true
   },
   "outputs": [
    {
     "name": "stderr",
     "output_type": "stream",
     "text": [
      "<ipython-input-13-0dc40daf9a16>:6: SettingWithCopyWarning: \n",
      "A value is trying to be set on a copy of a slice from a DataFrame\n",
      "\n",
      "See the caveats in the documentation: https://pandas.pydata.org/pandas-docs/stable/user_guide/indexing.html#returning-a-view-versus-a-copy\n",
      "  df['Item_Category'][i] = val[0:2]\n"
     ]
    },
    {
     "data": {
      "text/plain": [
       "FD    6125\n",
       "NC    1599\n",
       "DR     799\n",
       "Name: Item_Category, dtype: int64"
      ]
     },
     "execution_count": 13,
     "metadata": {},
     "output_type": "execute_result"
    }
   ],
   "source": [
    "# add new attribute'Item_Category'\n",
    "\n",
    "df['Item_Category'] = df['Item_Identifier']\n",
    "\n",
    "for i, val in enumerate(df['Item_Category']):\n",
    "    df['Item_Category'][i] = val[0:2]  \n",
    "\n",
    "df['Item_Category'].value_counts()"
   ]
  },
  {
   "cell_type": "code",
   "execution_count": 14,
   "id": "0ea32adf",
   "metadata": {},
   "outputs": [],
   "source": [
    "# Dealing with nan values in 'Outlet_Size' and 'Item_Weight' columns "
   ]
  },
  {
   "cell_type": "code",
   "execution_count": 15,
   "id": "6083c7c4",
   "metadata": {},
   "outputs": [
    {
     "data": {
      "text/plain": [
       "GridSpec(6, 6)"
      ]
     },
     "execution_count": 15,
     "metadata": {},
     "output_type": "execute_result"
    },
    {
     "data": {
      "image/png": "[encoded data removed]",
      "text/plain": [
       "<Figure size 1440x1440 with 4 Axes>"
      ]
     },
     "metadata": {
      "needs_background": "light"
     },
     "output_type": "display_data"
    }
   ],
   "source": [
    "klib.missingval_plot(df) "
   ]
  },
  {
   "cell_type": "code",
   "execution_count": 16,
   "id": "20938aec",
   "metadata": {
    "scrolled": true
   },
   "outputs": [
    {
     "data": {
      "text/html": [
       "<div>\n",
       "<style scoped>\n",
       "    .dataframe tbody tr th:only-of-type {\n",
       "        vertical-align: middle;\n",
       "    }\n",
       "\n",
       "    .dataframe tbody tr th {\n",
       "        vertical-align: top;\n",
       "    }\n",
       "\n",
       "    .dataframe thead th {\n",
       "        text-align: right;\n",
       "    }\n",
       "</style>\n",
       "<table border=\"1\" class=\"dataframe\">\n",
       "  <thead>\n",
       "    <tr style=\"text-align: right;\">\n",
       "      <th>Outlet_Type</th>\n",
       "      <th>Grocery Store</th>\n",
       "      <th>Supermarket Type1</th>\n",
       "      <th>Supermarket Type2</th>\n",
       "      <th>Supermarket Type3</th>\n",
       "    </tr>\n",
       "    <tr>\n",
       "      <th>Outlet_Size</th>\n",
       "      <th></th>\n",
       "      <th></th>\n",
       "      <th></th>\n",
       "      <th></th>\n",
       "    </tr>\n",
       "  </thead>\n",
       "  <tbody>\n",
       "    <tr>\n",
       "      <th>High</th>\n",
       "      <td>0</td>\n",
       "      <td>932</td>\n",
       "      <td>0</td>\n",
       "      <td>0</td>\n",
       "    </tr>\n",
       "    <tr>\n",
       "      <th>Medium</th>\n",
       "      <td>0</td>\n",
       "      <td>930</td>\n",
       "      <td>928</td>\n",
       "      <td>935</td>\n",
       "    </tr>\n",
       "    <tr>\n",
       "      <th>Small</th>\n",
       "      <td>528</td>\n",
       "      <td>1860</td>\n",
       "      <td>0</td>\n",
       "      <td>0</td>\n",
       "    </tr>\n",
       "  </tbody>\n",
       "</table>\n",
       "</div>"
      ],
      "text/plain": [
       "Outlet_Type  Grocery Store  Supermarket Type1  Supermarket Type2  \\\n",
       "Outlet_Size                                                        \n",
       "High                     0                932                  0   \n",
       "Medium                   0                930                928   \n",
       "Small                  528               1860                  0   \n",
       "\n",
       "Outlet_Type  Supermarket Type3  \n",
       "Outlet_Size                     \n",
       "High                         0  \n",
       "Medium                     935  \n",
       "Small                        0  "
      ]
     },
     "execution_count": 16,
     "metadata": {},
     "output_type": "execute_result"
    }
   ],
   "source": [
    "pd.crosstab(index = df['Outlet_Size'], columns = df['Outlet_Type'])"
   ]
  },
  {
   "cell_type": "code",
   "execution_count": 17,
   "id": "b22c92f7",
   "metadata": {},
   "outputs": [
    {
     "name": "stderr",
     "output_type": "stream",
     "text": [
      "<ipython-input-17-5179b8be90ae>:4: SettingWithCopyWarning: \n",
      "A value is trying to be set on a copy of a slice from a DataFrame\n",
      "\n",
      "See the caveats in the documentation: https://pandas.pydata.org/pandas-docs/stable/user_guide/indexing.html#returning-a-view-versus-a-copy\n",
      "  df['Outlet_Size'][i] = 'Small'\n",
      "<ipython-input-17-5179b8be90ae>:7: SettingWithCopyWarning: \n",
      "A value is trying to be set on a copy of a slice from a DataFrame\n",
      "\n",
      "See the caveats in the documentation: https://pandas.pydata.org/pandas-docs/stable/user_guide/indexing.html#returning-a-view-versus-a-copy\n",
      "  df['Outlet_Size'][i] = 'Small'\n"
     ]
    }
   ],
   "source": [
    "for i, val in enumerate(df['Outlet_Size']):\n",
    "    \n",
    "    if(df['Outlet_Type'][i] == 'Grocery Store' and df['Outlet_Size'].isnull()[i] == True):\n",
    "        df['Outlet_Size'][i] = 'Small'\n",
    "    \n",
    "    elif(df['Outlet_Type'][i] == 'Supermarket Type1' and df['Outlet_Size'].isnull()[i] == True):\n",
    "        df['Outlet_Size'][i] = 'Small'  \n",
    "    \n",
    "    elif(df['Outlet_Type'][i] == 'Supermarket Type2' and df['Outlet_Size'].isnull()[i] == True):\n",
    "        df['Outlet_Size'][i] = 'Medium'\n",
    "    \n",
    "    elif(df['Outlet_Type'][i] == 'Supermarket Type3' and df['Outlet_Size'].isnull()[i] == True):\n",
    "        df['Outlet_Size'][i] = 'Medium'"
   ]
  },
  {
   "cell_type": "code",
   "execution_count": 18,
   "id": "90769d20",
   "metadata": {},
   "outputs": [
    {
     "data": {
      "text/plain": [
       "Small     4798\n",
       "Medium    2793\n",
       "High       932\n",
       "Name: Outlet_Size, dtype: int64"
      ]
     },
     "execution_count": 18,
     "metadata": {},
     "output_type": "execute_result"
    }
   ],
   "source": [
    "df['Outlet_Size'].value_counts()"
   ]
  },
  {
   "cell_type": "code",
   "execution_count": 19,
   "id": "fd91e83d",
   "metadata": {},
   "outputs": [
    {
     "data": {
      "text/plain": [
       "0"
      ]
     },
     "execution_count": 19,
     "metadata": {},
     "output_type": "execute_result"
    }
   ],
   "source": [
    "df['Outlet_Size'].isnull().sum()"
   ]
  },
  {
   "cell_type": "code",
   "execution_count": null,
   "id": "534383ad",
   "metadata": {},
   "outputs": [],
   "source": []
  },
  {
   "cell_type": "code",
   "execution_count": 20,
   "id": "5410ce8c",
   "metadata": {},
   "outputs": [
    {
     "data": {
      "text/html": [
       "<div>\n",
       "<style scoped>\n",
       "    .dataframe tbody tr th:only-of-type {\n",
       "        vertical-align: middle;\n",
       "    }\n",
       "\n",
       "    .dataframe tbody tr th {\n",
       "        vertical-align: top;\n",
       "    }\n",
       "\n",
       "    .dataframe thead th {\n",
       "        text-align: right;\n",
       "    }\n",
       "</style>\n",
       "<table border=\"1\" class=\"dataframe\">\n",
       "  <thead>\n",
       "    <tr style=\"text-align: right;\">\n",
       "      <th></th>\n",
       "      <th>Item_Weight</th>\n",
       "    </tr>\n",
       "    <tr>\n",
       "      <th>Item_Category</th>\n",
       "      <th></th>\n",
       "    </tr>\n",
       "  </thead>\n",
       "  <tbody>\n",
       "    <tr>\n",
       "      <th>DR</th>\n",
       "      <td>12.072348</td>\n",
       "    </tr>\n",
       "    <tr>\n",
       "      <th>FD</th>\n",
       "      <td>12.832186</td>\n",
       "    </tr>\n",
       "    <tr>\n",
       "      <th>NC</th>\n",
       "      <td>13.354532</td>\n",
       "    </tr>\n",
       "  </tbody>\n",
       "</table>\n",
       "</div>"
      ],
      "text/plain": [
       "               Item_Weight\n",
       "Item_Category             \n",
       "DR               12.072348\n",
       "FD               12.832186\n",
       "NC               13.354532"
      ]
     },
     "execution_count": 20,
     "metadata": {},
     "output_type": "execute_result"
    }
   ],
   "source": [
    "df.pivot_table(values = \"Item_Weight\", index = 'Item_Category')"
   ]
  },
  {
   "cell_type": "code",
   "execution_count": 21,
   "id": "19a4dc40",
   "metadata": {},
   "outputs": [],
   "source": [
    "df[\"Item_Weight\"].fillna(df[\"Item_Weight\"].mean(), inplace = True)"
   ]
  },
  {
   "cell_type": "code",
   "execution_count": 22,
   "id": "c0ca1fde",
   "metadata": {},
   "outputs": [
    {
     "data": {
      "text/plain": [
       "0"
      ]
     },
     "execution_count": 22,
     "metadata": {},
     "output_type": "execute_result"
    }
   ],
   "source": [
    "df.isnull().sum().sum()"
   ]
  },
  {
   "cell_type": "code",
   "execution_count": null,
   "id": "aba20541",
   "metadata": {},
   "outputs": [],
   "source": []
  },
  {
   "cell_type": "code",
   "execution_count": 23,
   "id": "f8eee182",
   "metadata": {},
   "outputs": [
    {
     "data": {
      "text/html": [
       "<div>\n",
       "<style scoped>\n",
       "    .dataframe tbody tr th:only-of-type {\n",
       "        vertical-align: middle;\n",
       "    }\n",
       "\n",
       "    .dataframe tbody tr th {\n",
       "        vertical-align: top;\n",
       "    }\n",
       "\n",
       "    .dataframe thead th {\n",
       "        text-align: right;\n",
       "    }\n",
       "</style>\n",
       "<table border=\"1\" class=\"dataframe\">\n",
       "  <thead>\n",
       "    <tr style=\"text-align: right;\">\n",
       "      <th></th>\n",
       "      <th>Item_Identifier</th>\n",
       "      <th>Item_Weight</th>\n",
       "      <th>Item_Fat_Content</th>\n",
       "      <th>Item_Visibility</th>\n",
       "      <th>Item_Type</th>\n",
       "      <th>Item_MRP</th>\n",
       "      <th>Outlet_Identifier</th>\n",
       "      <th>Outlet_Establishment_Year</th>\n",
       "      <th>Outlet_Size</th>\n",
       "      <th>Outlet_Location_Type</th>\n",
       "      <th>Outlet_Type</th>\n",
       "      <th>Item_Outlet_Sales</th>\n",
       "      <th>Outlet_Age</th>\n",
       "      <th>Item_Category</th>\n",
       "    </tr>\n",
       "  </thead>\n",
       "  <tbody>\n",
       "    <tr>\n",
       "      <th>8520</th>\n",
       "      <td>NCJ29</td>\n",
       "      <td>10.60</td>\n",
       "      <td>Low Fat</td>\n",
       "      <td>0.035186</td>\n",
       "      <td>Health and Hygiene</td>\n",
       "      <td>85.1224</td>\n",
       "      <td>OUT035</td>\n",
       "      <td>2004</td>\n",
       "      <td>Small</td>\n",
       "      <td>Tier 2</td>\n",
       "      <td>Supermarket Type1</td>\n",
       "      <td>1193.1136</td>\n",
       "      <td>17</td>\n",
       "      <td>NC</td>\n",
       "    </tr>\n",
       "    <tr>\n",
       "      <th>8521</th>\n",
       "      <td>FDN46</td>\n",
       "      <td>7.21</td>\n",
       "      <td>Regular</td>\n",
       "      <td>0.145221</td>\n",
       "      <td>Snack Foods</td>\n",
       "      <td>103.1332</td>\n",
       "      <td>OUT018</td>\n",
       "      <td>2009</td>\n",
       "      <td>Medium</td>\n",
       "      <td>Tier 3</td>\n",
       "      <td>Supermarket Type2</td>\n",
       "      <td>1845.5976</td>\n",
       "      <td>12</td>\n",
       "      <td>FD</td>\n",
       "    </tr>\n",
       "    <tr>\n",
       "      <th>8522</th>\n",
       "      <td>DRG01</td>\n",
       "      <td>14.80</td>\n",
       "      <td>Low Fat</td>\n",
       "      <td>0.044878</td>\n",
       "      <td>Soft Drinks</td>\n",
       "      <td>75.4670</td>\n",
       "      <td>OUT046</td>\n",
       "      <td>1997</td>\n",
       "      <td>Small</td>\n",
       "      <td>Tier 1</td>\n",
       "      <td>Supermarket Type1</td>\n",
       "      <td>765.6700</td>\n",
       "      <td>24</td>\n",
       "      <td>DR</td>\n",
       "    </tr>\n",
       "  </tbody>\n",
       "</table>\n",
       "</div>"
      ],
      "text/plain": [
       "     Item_Identifier  Item_Weight Item_Fat_Content  Item_Visibility  \\\n",
       "8520           NCJ29        10.60          Low Fat         0.035186   \n",
       "8521           FDN46         7.21          Regular         0.145221   \n",
       "8522           DRG01        14.80          Low Fat         0.044878   \n",
       "\n",
       "               Item_Type  Item_MRP Outlet_Identifier  \\\n",
       "8520  Health and Hygiene   85.1224            OUT035   \n",
       "8521         Snack Foods  103.1332            OUT018   \n",
       "8522         Soft Drinks   75.4670            OUT046   \n",
       "\n",
       "      Outlet_Establishment_Year Outlet_Size Outlet_Location_Type  \\\n",
       "8520                       2004       Small               Tier 2   \n",
       "8521                       2009      Medium               Tier 3   \n",
       "8522                       1997       Small               Tier 1   \n",
       "\n",
       "            Outlet_Type  Item_Outlet_Sales  Outlet_Age Item_Category  \n",
       "8520  Supermarket Type1          1193.1136          17            NC  \n",
       "8521  Supermarket Type2          1845.5976          12            FD  \n",
       "8522  Supermarket Type1           765.6700          24            DR  "
      ]
     },
     "execution_count": 23,
     "metadata": {},
     "output_type": "execute_result"
    }
   ],
   "source": [
    "df.tail(3)"
   ]
  },
  {
   "cell_type": "code",
   "execution_count": 24,
   "id": "98563008",
   "metadata": {},
   "outputs": [],
   "source": [
    "# Check other features"
   ]
  },
  {
   "cell_type": "code",
   "execution_count": 25,
   "id": "fee6bd3a",
   "metadata": {},
   "outputs": [
    {
     "data": {
      "text/plain": [
       "Fruits and Vegetables    1232\n",
       "Snack Foods              1200\n",
       "Household                 910\n",
       "Frozen Foods              856\n",
       "Dairy                     682\n",
       "Canned                    649\n",
       "Baking Goods              648\n",
       "Health and Hygiene        520\n",
       "Soft Drinks               445\n",
       "Meat                      425\n",
       "Breads                    251\n",
       "Hard Drinks               214\n",
       "Others                    169\n",
       "Starchy Foods             148\n",
       "Breakfast                 110\n",
       "Seafood                    64\n",
       "Name: Item_Type, dtype: int64"
      ]
     },
     "execution_count": 25,
     "metadata": {},
     "output_type": "execute_result"
    }
   ],
   "source": [
    "df['Item_Type'].value_counts() "
   ]
  },
  {
   "cell_type": "code",
   "execution_count": 26,
   "id": "9e598394",
   "metadata": {
    "scrolled": true
   },
   "outputs": [
    {
     "data": {
      "text/plain": [
       "0.000000    526\n",
       "0.076975      3\n",
       "0.072238      2\n",
       "0.080766      2\n",
       "0.058543      2\n",
       "           ... \n",
       "0.024343      1\n",
       "0.041823      1\n",
       "0.023154      1\n",
       "0.047783      1\n",
       "0.031007      1\n",
       "Name: Item_Visibility, Length: 7880, dtype: int64"
      ]
     },
     "execution_count": 26,
     "metadata": {},
     "output_type": "execute_result"
    }
   ],
   "source": [
    "df['Item_Visibility'].value_counts()"
   ]
  },
  {
   "cell_type": "code",
   "execution_count": 27,
   "id": "b9b47fdc",
   "metadata": {},
   "outputs": [],
   "source": [
    "# Replace the 'Item_Visibility' for items whose Item_Visibility is 0 \n",
    "\n",
    "df['Item_Visibility'].replace(0, df['Item_Visibility'].mean(), inplace = True)"
   ]
  },
  {
   "cell_type": "code",
   "execution_count": 28,
   "id": "57e61643",
   "metadata": {},
   "outputs": [
    {
     "data": {
      "text/plain": [
       "0.066132    526\n",
       "0.076975      3\n",
       "0.107037      2\n",
       "0.159165      2\n",
       "0.112859      2\n",
       "           ... \n",
       "0.087380      1\n",
       "0.024343      1\n",
       "0.041823      1\n",
       "0.023154      1\n",
       "0.031007      1\n",
       "Name: Item_Visibility, Length: 7880, dtype: int64"
      ]
     },
     "execution_count": 28,
     "metadata": {},
     "output_type": "execute_result"
    }
   ],
   "source": [
    "df['Item_Visibility'].value_counts()"
   ]
  },
  {
   "cell_type": "code",
   "execution_count": 29,
   "id": "b597a694",
   "metadata": {},
   "outputs": [
    {
     "data": {
      "text/plain": [
       "(31.29, 266.8884)"
      ]
     },
     "execution_count": 29,
     "metadata": {},
     "output_type": "execute_result"
    }
   ],
   "source": [
    "df['Item_MRP'].min(), df['Item_MRP'].max() "
   ]
  },
  {
   "cell_type": "code",
   "execution_count": 30,
   "id": "b6fea42b",
   "metadata": {},
   "outputs": [
    {
     "data": {
      "text/plain": [
       "array(['OUT049', 'OUT018', 'OUT010', 'OUT013', 'OUT027', 'OUT045',\n",
       "       'OUT017', 'OUT046', 'OUT035', 'OUT019'], dtype=object)"
      ]
     },
     "execution_count": 30,
     "metadata": {},
     "output_type": "execute_result"
    }
   ],
   "source": [
    "df['Outlet_Identifier'].unique() "
   ]
  },
  {
   "cell_type": "code",
   "execution_count": 31,
   "id": "25453189",
   "metadata": {},
   "outputs": [
    {
     "data": {
      "text/plain": [
       "(33.29, 13086.9648)"
      ]
     },
     "execution_count": 31,
     "metadata": {},
     "output_type": "execute_result"
    }
   ],
   "source": [
    "df['Item_Outlet_Sales'].min(), df['Item_Outlet_Sales'].max()"
   ]
  },
  {
   "cell_type": "code",
   "execution_count": 32,
   "id": "5f3e7747",
   "metadata": {},
   "outputs": [
    {
     "data": {
      "text/plain": [
       "edible        6924\n",
       "non-edible    1599\n",
       "Name: Item_Type, dtype: int64"
      ]
     },
     "execution_count": 32,
     "metadata": {},
     "output_type": "execute_result"
    }
   ],
   "source": [
    "df['Item_Type'].replace(['Fruits and Vegetables','Snack Foods','Household','Frozen Foods','Dairy','Canned','Baking Goods','Health and Hygiene','Soft Drinks','Meat','Breads','Hard Drinks','Starchy Foods','Breakfast','Seafood','Others'],['edible','edible','non-edible','edible','edible','edible','edible','non-edible','edible','edible','edible','edible','edible','edible','edible','non-edible'],inplace = True)\n",
    "df['Item_Type'].value_counts()"
   ]
  },
  {
   "cell_type": "code",
   "execution_count": 33,
   "id": "ee6a0672",
   "metadata": {},
   "outputs": [
    {
     "data": {
      "text/html": [
       "<div>\n",
       "<style scoped>\n",
       "    .dataframe tbody tr th:only-of-type {\n",
       "        vertical-align: middle;\n",
       "    }\n",
       "\n",
       "    .dataframe tbody tr th {\n",
       "        vertical-align: top;\n",
       "    }\n",
       "\n",
       "    .dataframe thead th {\n",
       "        text-align: right;\n",
       "    }\n",
       "</style>\n",
       "<table border=\"1\" class=\"dataframe\">\n",
       "  <thead>\n",
       "    <tr style=\"text-align: right;\">\n",
       "      <th></th>\n",
       "      <th>Item_Identifier</th>\n",
       "      <th>Item_Weight</th>\n",
       "      <th>Item_Fat_Content</th>\n",
       "      <th>Item_Visibility</th>\n",
       "      <th>Item_Type</th>\n",
       "      <th>Item_MRP</th>\n",
       "      <th>Outlet_Identifier</th>\n",
       "      <th>Outlet_Establishment_Year</th>\n",
       "      <th>Outlet_Size</th>\n",
       "      <th>Outlet_Location_Type</th>\n",
       "      <th>Outlet_Type</th>\n",
       "      <th>Item_Outlet_Sales</th>\n",
       "      <th>Outlet_Age</th>\n",
       "      <th>Item_Category</th>\n",
       "    </tr>\n",
       "  </thead>\n",
       "  <tbody>\n",
       "    <tr>\n",
       "      <th>0</th>\n",
       "      <td>FDA15</td>\n",
       "      <td>9.30</td>\n",
       "      <td>Low Fat</td>\n",
       "      <td>0.016047</td>\n",
       "      <td>edible</td>\n",
       "      <td>249.8092</td>\n",
       "      <td>OUT049</td>\n",
       "      <td>1999</td>\n",
       "      <td>Medium</td>\n",
       "      <td>Tier 1</td>\n",
       "      <td>Supermarket Type1</td>\n",
       "      <td>3735.1380</td>\n",
       "      <td>22</td>\n",
       "      <td>FD</td>\n",
       "    </tr>\n",
       "    <tr>\n",
       "      <th>1</th>\n",
       "      <td>DRC01</td>\n",
       "      <td>5.92</td>\n",
       "      <td>Regular</td>\n",
       "      <td>0.019278</td>\n",
       "      <td>edible</td>\n",
       "      <td>48.2692</td>\n",
       "      <td>OUT018</td>\n",
       "      <td>2009</td>\n",
       "      <td>Medium</td>\n",
       "      <td>Tier 3</td>\n",
       "      <td>Supermarket Type2</td>\n",
       "      <td>443.4228</td>\n",
       "      <td>12</td>\n",
       "      <td>DR</td>\n",
       "    </tr>\n",
       "    <tr>\n",
       "      <th>2</th>\n",
       "      <td>FDN15</td>\n",
       "      <td>17.50</td>\n",
       "      <td>Low Fat</td>\n",
       "      <td>0.016760</td>\n",
       "      <td>edible</td>\n",
       "      <td>141.6180</td>\n",
       "      <td>OUT049</td>\n",
       "      <td>1999</td>\n",
       "      <td>Medium</td>\n",
       "      <td>Tier 1</td>\n",
       "      <td>Supermarket Type1</td>\n",
       "      <td>2097.2700</td>\n",
       "      <td>22</td>\n",
       "      <td>FD</td>\n",
       "    </tr>\n",
       "    <tr>\n",
       "      <th>3</th>\n",
       "      <td>FDX07</td>\n",
       "      <td>19.20</td>\n",
       "      <td>Regular</td>\n",
       "      <td>0.066132</td>\n",
       "      <td>edible</td>\n",
       "      <td>182.0950</td>\n",
       "      <td>OUT010</td>\n",
       "      <td>1998</td>\n",
       "      <td>Small</td>\n",
       "      <td>Tier 3</td>\n",
       "      <td>Grocery Store</td>\n",
       "      <td>732.3800</td>\n",
       "      <td>23</td>\n",
       "      <td>FD</td>\n",
       "    </tr>\n",
       "    <tr>\n",
       "      <th>4</th>\n",
       "      <td>NCD19</td>\n",
       "      <td>8.93</td>\n",
       "      <td>Low Fat</td>\n",
       "      <td>0.066132</td>\n",
       "      <td>non-edible</td>\n",
       "      <td>53.8614</td>\n",
       "      <td>OUT013</td>\n",
       "      <td>1987</td>\n",
       "      <td>High</td>\n",
       "      <td>Tier 3</td>\n",
       "      <td>Supermarket Type1</td>\n",
       "      <td>994.7052</td>\n",
       "      <td>34</td>\n",
       "      <td>NC</td>\n",
       "    </tr>\n",
       "  </tbody>\n",
       "</table>\n",
       "</div>"
      ],
      "text/plain": [
       "  Item_Identifier  Item_Weight Item_Fat_Content  Item_Visibility   Item_Type  \\\n",
       "0           FDA15         9.30          Low Fat         0.016047      edible   \n",
       "1           DRC01         5.92          Regular         0.019278      edible   \n",
       "2           FDN15        17.50          Low Fat         0.016760      edible   \n",
       "3           FDX07        19.20          Regular         0.066132      edible   \n",
       "4           NCD19         8.93          Low Fat         0.066132  non-edible   \n",
       "\n",
       "   Item_MRP Outlet_Identifier  Outlet_Establishment_Year Outlet_Size  \\\n",
       "0  249.8092            OUT049                       1999      Medium   \n",
       "1   48.2692            OUT018                       2009      Medium   \n",
       "2  141.6180            OUT049                       1999      Medium   \n",
       "3  182.0950            OUT010                       1998       Small   \n",
       "4   53.8614            OUT013                       1987        High   \n",
       "\n",
       "  Outlet_Location_Type        Outlet_Type  Item_Outlet_Sales  Outlet_Age  \\\n",
       "0               Tier 1  Supermarket Type1          3735.1380          22   \n",
       "1               Tier 3  Supermarket Type2           443.4228          12   \n",
       "2               Tier 1  Supermarket Type1          2097.2700          22   \n",
       "3               Tier 3      Grocery Store           732.3800          23   \n",
       "4               Tier 3  Supermarket Type1           994.7052          34   \n",
       "\n",
       "  Item_Category  \n",
       "0            FD  \n",
       "1            DR  \n",
       "2            FD  \n",
       "3            FD  \n",
       "4            NC  "
      ]
     },
     "execution_count": 33,
     "metadata": {},
     "output_type": "execute_result"
    }
   ],
   "source": [
    "df.head()"
   ]
  },
  {
   "cell_type": "code",
   "execution_count": null,
   "id": "65caf91e",
   "metadata": {},
   "outputs": [],
   "source": []
  },
  {
   "cell_type": "markdown",
   "id": "53296e65",
   "metadata": {},
   "source": [
    "# Data Analysis"
   ]
  },
  {
   "cell_type": "code",
   "execution_count": 34,
   "id": "e0ae8e31",
   "metadata": {},
   "outputs": [
    {
     "data": {
      "text/plain": [
       "<AxesSubplot:ylabel='Item_Outlet_Sales'>"
      ]
     },
     "execution_count": 34,
     "metadata": {},
     "output_type": "execute_result"
    },
    {
     "data": {
      "image/png": "[encoded data removed]",
      "text/plain": [
       "<Figure size 432x288 with 1 Axes>"
      ]
     },
     "metadata": {
      "needs_background": "light"
     },
     "output_type": "display_data"
    }
   ],
   "source": [
    "sns.boxplot(y = df['Item_Outlet_Sales'])"
   ]
  },
  {
   "cell_type": "code",
   "execution_count": 35,
   "id": "ed272f49",
   "metadata": {},
   "outputs": [
    {
     "data": {
      "text/plain": [
       "<AxesSubplot:ylabel='Item_Weight'>"
      ]
     },
     "execution_count": 35,
     "metadata": {},
     "output_type": "execute_result"
    },
    {
     "data": {
      "image/png": "[encoded data removed]",
      "text/plain": [
       "<Figure size 432x288 with 1 Axes>"
      ]
     },
     "metadata": {
      "needs_background": "light"
     },
     "output_type": "display_data"
    }
   ],
   "source": [
    "sns.boxplot(y = df['Item_Weight'])"
   ]
  },
  {
   "cell_type": "code",
   "execution_count": 36,
   "id": "3675f17d",
   "metadata": {},
   "outputs": [
    {
     "data": {
      "text/plain": [
       "<AxesSubplot:xlabel='Item_Category', ylabel='Item_Outlet_Sales'>"
      ]
     },
     "execution_count": 36,
     "metadata": {},
     "output_type": "execute_result"
    },
    {
     "data": {
      "image/png": "[encoded data removed]",
      "text/plain": [
       "<Figure size 432x288 with 1 Axes>"
      ]
     },
     "metadata": {
      "needs_background": "light"
     },
     "output_type": "display_data"
    }
   ],
   "source": [
    "sns.boxplot(x = df[\"Item_Category\"], y = df['Item_Outlet_Sales'])"
   ]
  },
  {
   "cell_type": "code",
   "execution_count": 37,
   "id": "1e76a9eb",
   "metadata": {},
   "outputs": [
    {
     "data": {
      "text/plain": [
       "<AxesSubplot:xlabel='Outlet_Type', ylabel='Item_Outlet_Sales'>"
      ]
     },
     "execution_count": 37,
     "metadata": {},
     "output_type": "execute_result"
    },
    {
     "data": {
      "image/png": "[encoded data removed]",
      "text/plain": [
       "<Figure size 432x288 with 1 Axes>"
      ]
     },
     "metadata": {
      "needs_background": "light"
     },
     "output_type": "display_data"
    }
   ],
   "source": [
    "sns.boxplot(x = df['Outlet_Type'], y = df['Item_Outlet_Sales'], hue = df[\"Item_Category\"])"
   ]
  },
  {
   "cell_type": "code",
   "execution_count": 38,
   "id": "1a01f023",
   "metadata": {},
   "outputs": [
    {
     "name": "stderr",
     "output_type": "stream",
     "text": [
      "D:\\Anaconda\\lib\\site-packages\\seaborn\\distributions.py:2619: FutureWarning: `distplot` is a deprecated function and will be removed in a future version. Please adapt your code to use either `displot` (a figure-level function with similar flexibility) or `histplot` (an axes-level function for histograms).\n",
      "  warnings.warn(msg, FutureWarning)\n"
     ]
    },
    {
     "data": {
      "text/plain": [
       "<AxesSubplot:xlabel='Item_Outlet_Sales', ylabel='Density'>"
      ]
     },
     "execution_count": 38,
     "metadata": {},
     "output_type": "execute_result"
    },
    {
     "data": {
      "image/png": "[encoded data removed]",
      "text/plain": [
       "<Figure size 432x288 with 1 Axes>"
      ]
     },
     "metadata": {
      "needs_background": "light"
     },
     "output_type": "display_data"
    }
   ],
   "source": [
    "sns.distplot(df['Item_Outlet_Sales'])"
   ]
  },
  {
   "cell_type": "code",
   "execution_count": 39,
   "id": "e9391f88",
   "metadata": {},
   "outputs": [
    {
     "data": {
      "text/plain": [
       "<AxesSubplot:xlabel='Item_MRP', ylabel='Item_Outlet_Sales'>"
      ]
     },
     "execution_count": 39,
     "metadata": {},
     "output_type": "execute_result"
    },
    {
     "data": {
      "image/png": "[encoded data removed]",
      "text/plain": [
       "<Figure size 432x288 with 1 Axes>"
      ]
     },
     "metadata": {
      "needs_background": "light"
     },
     "output_type": "display_data"
    }
   ],
   "source": [
    "sns.regplot(x='Item_MRP',y='Item_Outlet_Sales',data = df)"
   ]
  },
  {
   "cell_type": "code",
   "execution_count": 40,
   "id": "7d725462",
   "metadata": {},
   "outputs": [
    {
     "data": {
      "text/plain": [
       "<AxesSubplot:xlabel='Item_Visibility', ylabel='Item_Outlet_Sales'>"
      ]
     },
     "execution_count": 40,
     "metadata": {},
     "output_type": "execute_result"
    },
    {
     "data": {
      "image/png": "[encoded data removed]",
      "text/plain": [
       "<Figure size 432x288 with 1 Axes>"
      ]
     },
     "metadata": {
      "needs_background": "light"
     },
     "output_type": "display_data"
    }
   ],
   "source": [
    "sns.regplot(x ='Item_Visibility',y ='Item_Outlet_Sales',data = df)"
   ]
  },
  {
   "cell_type": "code",
   "execution_count": 41,
   "id": "19c6f060",
   "metadata": {},
   "outputs": [],
   "source": [
    "# square root transformation or log transformation\n",
    "\n",
    "#df['Item_Outlet_Sales'] = np.sqrt(df['Item_Outlet_Sales']) \n",
    "#df['Item_Outlet_Sales'] = np.log(1 + df['Item_Outlet_Sales']) \n",
    "\n",
    "# Here we didnot do any transformation on the target variable because we are getting better results without transformation."
   ]
  },
  {
   "cell_type": "code",
   "execution_count": 42,
   "id": "538b960a",
   "metadata": {},
   "outputs": [
    {
     "name": "stderr",
     "output_type": "stream",
     "text": [
      "D:\\Anaconda\\lib\\site-packages\\seaborn\\distributions.py:2619: FutureWarning: `distplot` is a deprecated function and will be removed in a future version. Please adapt your code to use either `displot` (a figure-level function with similar flexibility) or `histplot` (an axes-level function for histograms).\n",
      "  warnings.warn(msg, FutureWarning)\n"
     ]
    },
    {
     "data": {
      "text/plain": [
       "<AxesSubplot:xlabel='Item_MRP', ylabel='Density'>"
      ]
     },
     "execution_count": 42,
     "metadata": {},
     "output_type": "execute_result"
    },
    {
     "data": {
      "image/png": "[encoded data removed]",
      "text/plain": [
       "<Figure size 432x288 with 1 Axes>"
      ]
     },
     "metadata": {
      "needs_background": "light"
     },
     "output_type": "display_data"
    }
   ],
   "source": [
    "sns.distplot(df['Item_MRP'])"
   ]
  },
  {
   "cell_type": "code",
   "execution_count": 43,
   "id": "f9e96c99",
   "metadata": {},
   "outputs": [
    {
     "name": "stderr",
     "output_type": "stream",
     "text": [
      "D:\\Anaconda\\lib\\site-packages\\seaborn\\distributions.py:2619: FutureWarning: `distplot` is a deprecated function and will be removed in a future version. Please adapt your code to use either `displot` (a figure-level function with similar flexibility) or `histplot` (an axes-level function for histograms).\n",
      "  warnings.warn(msg, FutureWarning)\n"
     ]
    },
    {
     "data": {
      "text/plain": [
       "<AxesSubplot:xlabel='Item_Visibility', ylabel='Density'>"
      ]
     },
     "execution_count": 43,
     "metadata": {},
     "output_type": "execute_result"
    },
    {
     "data": {
      "image/png": "[encoded data removed]",
      "text/plain": [
       "<Figure size 432x288 with 1 Axes>"
      ]
     },
     "metadata": {
      "needs_background": "light"
     },
     "output_type": "display_data"
    }
   ],
   "source": [
    "sns.distplot(df['Item_Visibility'])"
   ]
  },
  {
   "cell_type": "code",
   "execution_count": 44,
   "id": "b17f81c5",
   "metadata": {},
   "outputs": [
    {
     "name": "stderr",
     "output_type": "stream",
     "text": [
      "D:\\Anaconda\\lib\\site-packages\\seaborn\\_decorators.py:36: FutureWarning: Pass the following variable as a keyword arg: x. From version 0.12, the only valid positional argument will be `data`, and passing other arguments without an explicit keyword will result in an error or misinterpretation.\n",
      "  warnings.warn(\n"
     ]
    },
    {
     "data": {
      "text/plain": [
       "<AxesSubplot:xlabel='Outlet_Location_Type', ylabel='count'>"
      ]
     },
     "execution_count": 44,
     "metadata": {},
     "output_type": "execute_result"
    },
    {
     "data": {
      "image/png": "[encoded data removed]",
      "text/plain": [
       "<Figure size 432x288 with 1 Axes>"
      ]
     },
     "metadata": {
      "needs_background": "light"
     },
     "output_type": "display_data"
    }
   ],
   "source": [
    "sns.countplot(df['Outlet_Location_Type'])"
   ]
  },
  {
   "cell_type": "code",
   "execution_count": 45,
   "id": "7a75b440",
   "metadata": {
    "scrolled": true
   },
   "outputs": [
    {
     "name": "stderr",
     "output_type": "stream",
     "text": [
      "D:\\Anaconda\\lib\\site-packages\\seaborn\\distributions.py:2619: FutureWarning: `distplot` is a deprecated function and will be removed in a future version. Please adapt your code to use either `displot` (a figure-level function with similar flexibility) or `histplot` (an axes-level function for histograms).\n",
      "  warnings.warn(msg, FutureWarning)\n"
     ]
    },
    {
     "data": {
      "text/plain": [
       "<AxesSubplot:xlabel='Item_Weight', ylabel='Density'>"
      ]
     },
     "execution_count": 45,
     "metadata": {},
     "output_type": "execute_result"
    },
    {
     "data": {
      "image/png": "[encoded data removed]",
      "text/plain": [
       "<Figure size 432x288 with 1 Axes>"
      ]
     },
     "metadata": {
      "needs_background": "light"
     },
     "output_type": "display_data"
    }
   ],
   "source": [
    "sns.distplot(df['Item_Weight'])"
   ]
  },
  {
   "cell_type": "code",
   "execution_count": 46,
   "id": "73423663",
   "metadata": {},
   "outputs": [
    {
     "name": "stderr",
     "output_type": "stream",
     "text": [
      "D:\\Anaconda\\lib\\site-packages\\seaborn\\_decorators.py:36: FutureWarning: Pass the following variable as a keyword arg: x. From version 0.12, the only valid positional argument will be `data`, and passing other arguments without an explicit keyword will result in an error or misinterpretation.\n",
      "  warnings.warn(\n"
     ]
    },
    {
     "data": {
      "image/png": "[encoded data removed]",
      "text/plain": [
       "<Figure size 432x288 with 1 Axes>"
      ]
     },
     "metadata": {
      "needs_background": "light"
     },
     "output_type": "display_data"
    }
   ],
   "source": [
    "sns.countplot(df['Outlet_Age'])\n",
    "plt.xticks(rotation = 90)\n",
    "plt.show()"
   ]
  },
  {
   "cell_type": "code",
   "execution_count": 47,
   "id": "9b5f5a85",
   "metadata": {},
   "outputs": [
    {
     "data": {
      "text/plain": [
       "<AxesSubplot:>"
      ]
     },
     "execution_count": 47,
     "metadata": {},
     "output_type": "execute_result"
    },
    {
     "data": {
      "image/png": "[encoded data removed]",
      "text/plain": [
       "<Figure size 432x288 with 2 Axes>"
      ]
     },
     "metadata": {
      "needs_background": "light"
     },
     "output_type": "display_data"
    }
   ],
   "source": [
    "corr = df.corr()\n",
    "sns.heatmap(corr, annot=True)"
   ]
  },
  {
   "cell_type": "code",
   "execution_count": 48,
   "id": "c7ff85e5",
   "metadata": {},
   "outputs": [],
   "source": [
    "# plots using klib"
   ]
  },
  {
   "cell_type": "code",
   "execution_count": 49,
   "id": "fc63a1ca",
   "metadata": {},
   "outputs": [
    {
     "data": {
      "text/plain": [
       "<AxesSubplot:xlabel='Outlet_Age', ylabel='Density'>"
      ]
     },
     "execution_count": 49,
     "metadata": {},
     "output_type": "execute_result"
    },
    {
     "data": {
      "image/png": "[encoded data removed]",
      "text/plain": [
       "<Figure size 900x180 with 1 Axes>"
      ]
     },
     "metadata": {
      "needs_background": "light"
     },
     "output_type": "display_data"
    },
    {
     "data": {
      "image/png": "[encoded data removed]",
      "text/plain": [
       "<Figure size 900x180 with 1 Axes>"
      ]
     },
     "metadata": {
      "needs_background": "light"
     },
     "output_type": "display_data"
    },
    {
     "data": {
      "image/png": "[encoded data removed]",
      "text/plain": [
       "<Figure size 900x180 with 1 Axes>"
      ]
     },
     "metadata": {
      "needs_background": "light"
     },
     "output_type": "display_data"
    },
    {
     "data": {
      "image/png": "[encoded data removed]",
      "text/plain": [
       "<Figure size 900x180 with 1 Axes>"
      ]
     },
     "metadata": {
      "needs_background": "light"
     },
     "output_type": "display_data"
    },
    {
     "data": {
      "image/png": "[encoded data removed]",
      "text/plain": [
       "<Figure size 900x180 with 1 Axes>"
      ]
     },
     "metadata": {
      "needs_background": "light"
     },
     "output_type": "display_data"
    },
    {
     "data": {
      "image/png": "[encoded data removed]",
      "text/plain": [
       "<Figure size 900x180 with 1 Axes>"
      ]
     },
     "metadata": {
      "needs_background": "light"
     },
     "output_type": "display_data"
    }
   ],
   "source": [
    "klib.dist_plot(df) "
   ]
  },
  {
   "cell_type": "code",
   "execution_count": 50,
   "id": "108f5d09",
   "metadata": {},
   "outputs": [
    {
     "data": {
      "text/html": [
       "<style  type=\"text/css\" >\n",
       "#T_f53f6_row0_col0,#T_f53f6_row0_col2,#T_f53f6_row0_col4,#T_f53f6_row0_col5,#T_f53f6_row1_col1,#T_f53f6_row1_col5,#T_f53f6_row2_col0,#T_f53f6_row2_col2,#T_f53f6_row2_col3,#T_f53f6_row2_col4,#T_f53f6_row3_col2,#T_f53f6_row3_col3,#T_f53f6_row4_col0,#T_f53f6_row4_col2,#T_f53f6_row4_col4,#T_f53f6_row4_col5,#T_f53f6_row5_col0,#T_f53f6_row5_col1,#T_f53f6_row5_col4,#T_f53f6_row5_col5{\n",
       "            color:  None;\n",
       "        }#T_f53f6_row0_col1,#T_f53f6_row0_col3,#T_f53f6_row1_col0,#T_f53f6_row1_col2,#T_f53f6_row1_col3,#T_f53f6_row1_col4,#T_f53f6_row2_col1,#T_f53f6_row2_col5,#T_f53f6_row3_col0,#T_f53f6_row3_col1,#T_f53f6_row3_col4,#T_f53f6_row3_col5,#T_f53f6_row4_col1,#T_f53f6_row4_col3,#T_f53f6_row5_col2,#T_f53f6_row5_col3{\n",
       "            color:  #FF3344;\n",
       "        }</style><table id=\"T_f53f6_\" ><thead>    <tr>        <th class=\"blank level0\" ></th>        <th class=\"col_heading level0 col0\" >Item_Weight</th>        <th class=\"col_heading level0 col1\" >Item_Visibility</th>        <th class=\"col_heading level0 col2\" >Item_MRP</th>        <th class=\"col_heading level0 col3\" >Outlet_Establishment_Year</th>        <th class=\"col_heading level0 col4\" >Item_Outlet_Sales</th>        <th class=\"col_heading level0 col5\" >Outlet_Age</th>    </tr></thead><tbody>\n",
       "                <tr>\n",
       "                        <th id=\"T_f53f6_level0_row0\" class=\"row_heading level0 row0\" >Item_Weight</th>\n",
       "                        <td id=\"T_f53f6_row0_col0\" class=\"data row0 col0\" >1.00</td>\n",
       "                        <td id=\"T_f53f6_row0_col1\" class=\"data row0 col1\" >-0.02</td>\n",
       "                        <td id=\"T_f53f6_row0_col2\" class=\"data row0 col2\" >0.02</td>\n",
       "                        <td id=\"T_f53f6_row0_col3\" class=\"data row0 col3\" >-0.01</td>\n",
       "                        <td id=\"T_f53f6_row0_col4\" class=\"data row0 col4\" >0.01</td>\n",
       "                        <td id=\"T_f53f6_row0_col5\" class=\"data row0 col5\" >0.01</td>\n",
       "            </tr>\n",
       "            <tr>\n",
       "                        <th id=\"T_f53f6_level0_row1\" class=\"row_heading level0 row1\" >Item_Visibility</th>\n",
       "                        <td id=\"T_f53f6_row1_col0\" class=\"data row1 col0\" >-0.02</td>\n",
       "                        <td id=\"T_f53f6_row1_col1\" class=\"data row1 col1\" >1.00</td>\n",
       "                        <td id=\"T_f53f6_row1_col2\" class=\"data row1 col2\" >-0.01</td>\n",
       "                        <td id=\"T_f53f6_row1_col3\" class=\"data row1 col3\" >-0.08</td>\n",
       "                        <td id=\"T_f53f6_row1_col4\" class=\"data row1 col4\" >-0.13</td>\n",
       "                        <td id=\"T_f53f6_row1_col5\" class=\"data row1 col5\" >0.08</td>\n",
       "            </tr>\n",
       "            <tr>\n",
       "                        <th id=\"T_f53f6_level0_row2\" class=\"row_heading level0 row2\" >Item_MRP</th>\n",
       "                        <td id=\"T_f53f6_row2_col0\" class=\"data row2 col0\" >0.02</td>\n",
       "                        <td id=\"T_f53f6_row2_col1\" class=\"data row2 col1\" >-0.01</td>\n",
       "                        <td id=\"T_f53f6_row2_col2\" class=\"data row2 col2\" >1.00</td>\n",
       "                        <td id=\"T_f53f6_row2_col3\" class=\"data row2 col3\" >0.01</td>\n",
       "                        <td id=\"T_f53f6_row2_col4\" class=\"data row2 col4\" >0.57</td>\n",
       "                        <td id=\"T_f53f6_row2_col5\" class=\"data row2 col5\" >-0.01</td>\n",
       "            </tr>\n",
       "            <tr>\n",
       "                        <th id=\"T_f53f6_level0_row3\" class=\"row_heading level0 row3\" >Outlet_Establishment_Year</th>\n",
       "                        <td id=\"T_f53f6_row3_col0\" class=\"data row3 col0\" >-0.01</td>\n",
       "                        <td id=\"T_f53f6_row3_col1\" class=\"data row3 col1\" >-0.08</td>\n",
       "                        <td id=\"T_f53f6_row3_col2\" class=\"data row3 col2\" >0.01</td>\n",
       "                        <td id=\"T_f53f6_row3_col3\" class=\"data row3 col3\" >1.00</td>\n",
       "                        <td id=\"T_f53f6_row3_col4\" class=\"data row3 col4\" >-0.05</td>\n",
       "                        <td id=\"T_f53f6_row3_col5\" class=\"data row3 col5\" >-1.00</td>\n",
       "            </tr>\n",
       "            <tr>\n",
       "                        <th id=\"T_f53f6_level0_row4\" class=\"row_heading level0 row4\" >Item_Outlet_Sales</th>\n",
       "                        <td id=\"T_f53f6_row4_col0\" class=\"data row4 col0\" >0.01</td>\n",
       "                        <td id=\"T_f53f6_row4_col1\" class=\"data row4 col1\" >-0.13</td>\n",
       "                        <td id=\"T_f53f6_row4_col2\" class=\"data row4 col2\" >0.57</td>\n",
       "                        <td id=\"T_f53f6_row4_col3\" class=\"data row4 col3\" >-0.05</td>\n",
       "                        <td id=\"T_f53f6_row4_col4\" class=\"data row4 col4\" >1.00</td>\n",
       "                        <td id=\"T_f53f6_row4_col5\" class=\"data row4 col5\" >0.05</td>\n",
       "            </tr>\n",
       "            <tr>\n",
       "                        <th id=\"T_f53f6_level0_row5\" class=\"row_heading level0 row5\" >Outlet_Age</th>\n",
       "                        <td id=\"T_f53f6_row5_col0\" class=\"data row5 col0\" >0.01</td>\n",
       "                        <td id=\"T_f53f6_row5_col1\" class=\"data row5 col1\" >0.08</td>\n",
       "                        <td id=\"T_f53f6_row5_col2\" class=\"data row5 col2\" >-0.01</td>\n",
       "                        <td id=\"T_f53f6_row5_col3\" class=\"data row5 col3\" >-1.00</td>\n",
       "                        <td id=\"T_f53f6_row5_col4\" class=\"data row5 col4\" >0.05</td>\n",
       "                        <td id=\"T_f53f6_row5_col5\" class=\"data row5 col5\" >1.00</td>\n",
       "            </tr>\n",
       "    </tbody></table>"
      ],
      "text/plain": [
       "<pandas.io.formats.style.Styler at 0x1f29b8c2df0>"
      ]
     },
     "execution_count": 50,
     "metadata": {},
     "output_type": "execute_result"
    }
   ],
   "source": [
    "klib.corr_mat(df)"
   ]
  },
  {
   "cell_type": "code",
   "execution_count": 51,
   "id": "3b0b3d6f",
   "metadata": {},
   "outputs": [
    {
     "data": {
      "text/plain": [
       "<AxesSubplot:title={'center':'Feature-correlation (pearson)'}>"
      ]
     },
     "execution_count": 51,
     "metadata": {},
     "output_type": "execute_result"
    },
    {
     "data": {
      "image/png": "[encoded data removed]",
      "text/plain": [
       "<Figure size 864x720 with 2 Axes>"
      ]
     },
     "metadata": {
      "needs_background": "light"
     },
     "output_type": "display_data"
    }
   ],
   "source": [
    "klib.corr_plot(df, target='Item_Outlet_Sales')"
   ]
  },
  {
   "cell_type": "markdown",
   "id": "33307170",
   "metadata": {},
   "source": [
    "# Encoding "
   ]
  },
  {
   "cell_type": "code",
   "execution_count": 52,
   "id": "7f53e4c3",
   "metadata": {},
   "outputs": [],
   "source": [
    "from sklearn.preprocessing import LabelEncoder\n",
    "\n",
    "le = LabelEncoder()\n",
    "\n",
    "df['Item_Fat_Content'] = le.fit_transform(df['Item_Fat_Content'])\n",
    "df['Item_Type'] = le.fit_transform(df['Item_Type'])\n",
    "df['Outlet_Size'] = le.fit_transform(df['Outlet_Size'])\n",
    "df['Outlet_Location_Type'] = le.fit_transform(df['Outlet_Location_Type'])\n",
    "df['Outlet_Type'] = le.fit_transform(df['Outlet_Type'])"
   ]
  },
  {
   "cell_type": "code",
   "execution_count": 53,
   "id": "1b5d26b3",
   "metadata": {},
   "outputs": [],
   "source": [
    "# Onehot Encoding\n",
    "\n",
    "#df = pd.get_dummies(df, columns = ['Item_Fat_Content', 'Item_Type','Outlet_Size', 'Outlet_Location_Type', 'Outlet_Type'])"
   ]
  },
  {
   "cell_type": "code",
   "execution_count": 54,
   "id": "5d8578d7",
   "metadata": {
    "scrolled": true
   },
   "outputs": [
    {
     "data": {
      "text/html": [
       "<div>\n",
       "<style scoped>\n",
       "    .dataframe tbody tr th:only-of-type {\n",
       "        vertical-align: middle;\n",
       "    }\n",
       "\n",
       "    .dataframe tbody tr th {\n",
       "        vertical-align: top;\n",
       "    }\n",
       "\n",
       "    .dataframe thead th {\n",
       "        text-align: right;\n",
       "    }\n",
       "</style>\n",
       "<table border=\"1\" class=\"dataframe\">\n",
       "  <thead>\n",
       "    <tr style=\"text-align: right;\">\n",
       "      <th></th>\n",
       "      <th>Item_Identifier</th>\n",
       "      <th>Item_Weight</th>\n",
       "      <th>Item_Fat_Content</th>\n",
       "      <th>Item_Visibility</th>\n",
       "      <th>Item_Type</th>\n",
       "      <th>Item_MRP</th>\n",
       "      <th>Outlet_Identifier</th>\n",
       "      <th>Outlet_Establishment_Year</th>\n",
       "      <th>Outlet_Size</th>\n",
       "      <th>Outlet_Location_Type</th>\n",
       "      <th>Outlet_Type</th>\n",
       "      <th>Item_Outlet_Sales</th>\n",
       "      <th>Outlet_Age</th>\n",
       "      <th>Item_Category</th>\n",
       "    </tr>\n",
       "  </thead>\n",
       "  <tbody>\n",
       "    <tr>\n",
       "      <th>0</th>\n",
       "      <td>FDA15</td>\n",
       "      <td>9.30</td>\n",
       "      <td>0</td>\n",
       "      <td>0.016047</td>\n",
       "      <td>0</td>\n",
       "      <td>249.8092</td>\n",
       "      <td>OUT049</td>\n",
       "      <td>1999</td>\n",
       "      <td>1</td>\n",
       "      <td>0</td>\n",
       "      <td>1</td>\n",
       "      <td>3735.1380</td>\n",
       "      <td>22</td>\n",
       "      <td>FD</td>\n",
       "    </tr>\n",
       "    <tr>\n",
       "      <th>1</th>\n",
       "      <td>DRC01</td>\n",
       "      <td>5.92</td>\n",
       "      <td>1</td>\n",
       "      <td>0.019278</td>\n",
       "      <td>0</td>\n",
       "      <td>48.2692</td>\n",
       "      <td>OUT018</td>\n",
       "      <td>2009</td>\n",
       "      <td>1</td>\n",
       "      <td>2</td>\n",
       "      <td>2</td>\n",
       "      <td>443.4228</td>\n",
       "      <td>12</td>\n",
       "      <td>DR</td>\n",
       "    </tr>\n",
       "    <tr>\n",
       "      <th>2</th>\n",
       "      <td>FDN15</td>\n",
       "      <td>17.50</td>\n",
       "      <td>0</td>\n",
       "      <td>0.016760</td>\n",
       "      <td>0</td>\n",
       "      <td>141.6180</td>\n",
       "      <td>OUT049</td>\n",
       "      <td>1999</td>\n",
       "      <td>1</td>\n",
       "      <td>0</td>\n",
       "      <td>1</td>\n",
       "      <td>2097.2700</td>\n",
       "      <td>22</td>\n",
       "      <td>FD</td>\n",
       "    </tr>\n",
       "    <tr>\n",
       "      <th>3</th>\n",
       "      <td>FDX07</td>\n",
       "      <td>19.20</td>\n",
       "      <td>1</td>\n",
       "      <td>0.066132</td>\n",
       "      <td>0</td>\n",
       "      <td>182.0950</td>\n",
       "      <td>OUT010</td>\n",
       "      <td>1998</td>\n",
       "      <td>2</td>\n",
       "      <td>2</td>\n",
       "      <td>0</td>\n",
       "      <td>732.3800</td>\n",
       "      <td>23</td>\n",
       "      <td>FD</td>\n",
       "    </tr>\n",
       "    <tr>\n",
       "      <th>4</th>\n",
       "      <td>NCD19</td>\n",
       "      <td>8.93</td>\n",
       "      <td>0</td>\n",
       "      <td>0.066132</td>\n",
       "      <td>1</td>\n",
       "      <td>53.8614</td>\n",
       "      <td>OUT013</td>\n",
       "      <td>1987</td>\n",
       "      <td>0</td>\n",
       "      <td>2</td>\n",
       "      <td>1</td>\n",
       "      <td>994.7052</td>\n",
       "      <td>34</td>\n",
       "      <td>NC</td>\n",
       "    </tr>\n",
       "  </tbody>\n",
       "</table>\n",
       "</div>"
      ],
      "text/plain": [
       "  Item_Identifier  Item_Weight  Item_Fat_Content  Item_Visibility  Item_Type  \\\n",
       "0           FDA15         9.30                 0         0.016047          0   \n",
       "1           DRC01         5.92                 1         0.019278          0   \n",
       "2           FDN15        17.50                 0         0.016760          0   \n",
       "3           FDX07        19.20                 1         0.066132          0   \n",
       "4           NCD19         8.93                 0         0.066132          1   \n",
       "\n",
       "   Item_MRP Outlet_Identifier  Outlet_Establishment_Year  Outlet_Size  \\\n",
       "0  249.8092            OUT049                       1999            1   \n",
       "1   48.2692            OUT018                       2009            1   \n",
       "2  141.6180            OUT049                       1999            1   \n",
       "3  182.0950            OUT010                       1998            2   \n",
       "4   53.8614            OUT013                       1987            0   \n",
       "\n",
       "   Outlet_Location_Type  Outlet_Type  Item_Outlet_Sales  Outlet_Age  \\\n",
       "0                     0            1          3735.1380          22   \n",
       "1                     2            2           443.4228          12   \n",
       "2                     0            1          2097.2700          22   \n",
       "3                     2            0           732.3800          23   \n",
       "4                     2            1           994.7052          34   \n",
       "\n",
       "  Item_Category  \n",
       "0            FD  \n",
       "1            DR  \n",
       "2            FD  \n",
       "3            FD  \n",
       "4            NC  "
      ]
     },
     "execution_count": 54,
     "metadata": {},
     "output_type": "execute_result"
    }
   ],
   "source": [
    "df.head()"
   ]
  },
  {
   "cell_type": "markdown",
   "id": "074591b2",
   "metadata": {},
   "source": [
    "# Quick Pre-Processing and EDA on Test Data"
   ]
  },
  {
   "cell_type": "code",
   "execution_count": 55,
   "id": "cdf788ae",
   "metadata": {},
   "outputs": [
    {
     "data": {
      "text/html": [
       "<div>\n",
       "<style scoped>\n",
       "    .dataframe tbody tr th:only-of-type {\n",
       "        vertical-align: middle;\n",
       "    }\n",
       "\n",
       "    .dataframe tbody tr th {\n",
       "        vertical-align: top;\n",
       "    }\n",
       "\n",
       "    .dataframe thead th {\n",
       "        text-align: right;\n",
       "    }\n",
       "</style>\n",
       "<table border=\"1\" class=\"dataframe\">\n",
       "  <thead>\n",
       "    <tr style=\"text-align: right;\">\n",
       "      <th></th>\n",
       "      <th>Item_Identifier</th>\n",
       "      <th>Item_Weight</th>\n",
       "      <th>Item_Fat_Content</th>\n",
       "      <th>Item_Visibility</th>\n",
       "      <th>Item_Type</th>\n",
       "      <th>Item_MRP</th>\n",
       "      <th>Outlet_Identifier</th>\n",
       "      <th>Outlet_Establishment_Year</th>\n",
       "      <th>Outlet_Size</th>\n",
       "      <th>Outlet_Location_Type</th>\n",
       "      <th>Outlet_Type</th>\n",
       "    </tr>\n",
       "  </thead>\n",
       "  <tbody>\n",
       "    <tr>\n",
       "      <th>0</th>\n",
       "      <td>FDW58</td>\n",
       "      <td>20.750</td>\n",
       "      <td>Low Fat</td>\n",
       "      <td>0.007565</td>\n",
       "      <td>Snack Foods</td>\n",
       "      <td>107.8622</td>\n",
       "      <td>OUT049</td>\n",
       "      <td>1999</td>\n",
       "      <td>Medium</td>\n",
       "      <td>Tier 1</td>\n",
       "      <td>Supermarket Type1</td>\n",
       "    </tr>\n",
       "    <tr>\n",
       "      <th>1</th>\n",
       "      <td>FDW14</td>\n",
       "      <td>8.300</td>\n",
       "      <td>reg</td>\n",
       "      <td>0.038428</td>\n",
       "      <td>Dairy</td>\n",
       "      <td>87.3198</td>\n",
       "      <td>OUT017</td>\n",
       "      <td>2007</td>\n",
       "      <td>NaN</td>\n",
       "      <td>Tier 2</td>\n",
       "      <td>Supermarket Type1</td>\n",
       "    </tr>\n",
       "    <tr>\n",
       "      <th>2</th>\n",
       "      <td>NCN55</td>\n",
       "      <td>14.600</td>\n",
       "      <td>Low Fat</td>\n",
       "      <td>0.099575</td>\n",
       "      <td>Others</td>\n",
       "      <td>241.7538</td>\n",
       "      <td>OUT010</td>\n",
       "      <td>1998</td>\n",
       "      <td>NaN</td>\n",
       "      <td>Tier 3</td>\n",
       "      <td>Grocery Store</td>\n",
       "    </tr>\n",
       "    <tr>\n",
       "      <th>3</th>\n",
       "      <td>FDQ58</td>\n",
       "      <td>7.315</td>\n",
       "      <td>Low Fat</td>\n",
       "      <td>0.015388</td>\n",
       "      <td>Snack Foods</td>\n",
       "      <td>155.0340</td>\n",
       "      <td>OUT017</td>\n",
       "      <td>2007</td>\n",
       "      <td>NaN</td>\n",
       "      <td>Tier 2</td>\n",
       "      <td>Supermarket Type1</td>\n",
       "    </tr>\n",
       "    <tr>\n",
       "      <th>4</th>\n",
       "      <td>FDY38</td>\n",
       "      <td>NaN</td>\n",
       "      <td>Regular</td>\n",
       "      <td>0.118599</td>\n",
       "      <td>Dairy</td>\n",
       "      <td>234.2300</td>\n",
       "      <td>OUT027</td>\n",
       "      <td>1985</td>\n",
       "      <td>Medium</td>\n",
       "      <td>Tier 3</td>\n",
       "      <td>Supermarket Type3</td>\n",
       "    </tr>\n",
       "  </tbody>\n",
       "</table>\n",
       "</div>"
      ],
      "text/plain": [
       "  Item_Identifier  Item_Weight Item_Fat_Content  Item_Visibility    Item_Type  \\\n",
       "0           FDW58       20.750          Low Fat         0.007565  Snack Foods   \n",
       "1           FDW14        8.300              reg         0.038428        Dairy   \n",
       "2           NCN55       14.600          Low Fat         0.099575       Others   \n",
       "3           FDQ58        7.315          Low Fat         0.015388  Snack Foods   \n",
       "4           FDY38          NaN          Regular         0.118599        Dairy   \n",
       "\n",
       "   Item_MRP Outlet_Identifier  Outlet_Establishment_Year Outlet_Size  \\\n",
       "0  107.8622            OUT049                       1999      Medium   \n",
       "1   87.3198            OUT017                       2007         NaN   \n",
       "2  241.7538            OUT010                       1998         NaN   \n",
       "3  155.0340            OUT017                       2007         NaN   \n",
       "4  234.2300            OUT027                       1985      Medium   \n",
       "\n",
       "  Outlet_Location_Type        Outlet_Type  \n",
       "0               Tier 1  Supermarket Type1  \n",
       "1               Tier 2  Supermarket Type1  \n",
       "2               Tier 3      Grocery Store  \n",
       "3               Tier 2  Supermarket Type1  \n",
       "4               Tier 3  Supermarket Type3  "
      ]
     },
     "execution_count": 55,
     "metadata": {},
     "output_type": "execute_result"
    }
   ],
   "source": [
    "# import test data and preprocess\n",
    "\n",
    "df_test = pd.read_csv('Test.csv')\n",
    "df_test.head()"
   ]
  },
  {
   "cell_type": "code",
   "execution_count": 56,
   "id": "84768366",
   "metadata": {},
   "outputs": [
    {
     "data": {
      "text/plain": [
       "(5681, 11)"
      ]
     },
     "execution_count": 56,
     "metadata": {},
     "output_type": "execute_result"
    }
   ],
   "source": [
    "df_test.shape"
   ]
  },
  {
   "cell_type": "code",
   "execution_count": 57,
   "id": "140ee2f6",
   "metadata": {},
   "outputs": [
    {
     "data": {
      "text/plain": [
       "Item_Identifier                 0\n",
       "Item_Weight                   976\n",
       "Item_Fat_Content                0\n",
       "Item_Visibility                 0\n",
       "Item_Type                       0\n",
       "Item_MRP                        0\n",
       "Outlet_Identifier               0\n",
       "Outlet_Establishment_Year       0\n",
       "Outlet_Size                  1606\n",
       "Outlet_Location_Type            0\n",
       "Outlet_Type                     0\n",
       "dtype: int64"
      ]
     },
     "execution_count": 57,
     "metadata": {},
     "output_type": "execute_result"
    }
   ],
   "source": [
    " df_test.isnull().sum()"
   ]
  },
  {
   "cell_type": "code",
   "execution_count": 58,
   "id": "c8573d37",
   "metadata": {},
   "outputs": [
    {
     "name": "stdout",
     "output_type": "stream",
     "text": [
      "5\n"
     ]
    },
    {
     "data": {
      "text/plain": [
       "array(['Low Fat', 'reg', 'Regular', 'LF', 'low fat'], dtype=object)"
      ]
     },
     "execution_count": 58,
     "metadata": {},
     "output_type": "execute_result"
    }
   ],
   "source": [
    "print(df_test.Item_Fat_Content.nunique())\n",
    "df_test.Item_Fat_Content.unique()"
   ]
  },
  {
   "cell_type": "code",
   "execution_count": 59,
   "id": "002ee59d",
   "metadata": {},
   "outputs": [
    {
     "data": {
      "text/plain": [
       "Low Fat    3668\n",
       "Regular    2013\n",
       "Name: Item_Fat_Content, dtype: int64"
      ]
     },
     "execution_count": 59,
     "metadata": {},
     "output_type": "execute_result"
    }
   ],
   "source": [
    "# Replacing duplicate classes in 'Item_Fat' column\n",
    "df_test.Item_Fat_Content.replace({'low fat':'Low Fat', 'LF':'Low Fat', 'reg':'Regular'}, inplace = True)\n",
    "df_test.Item_Fat_Content.value_counts()"
   ]
  },
  {
   "cell_type": "code",
   "execution_count": 60,
   "id": "1eaf1b81",
   "metadata": {},
   "outputs": [
    {
     "data": {
      "text/html": [
       "<div>\n",
       "<style scoped>\n",
       "    .dataframe tbody tr th:only-of-type {\n",
       "        vertical-align: middle;\n",
       "    }\n",
       "\n",
       "    .dataframe tbody tr th {\n",
       "        vertical-align: top;\n",
       "    }\n",
       "\n",
       "    .dataframe thead th {\n",
       "        text-align: right;\n",
       "    }\n",
       "</style>\n",
       "<table border=\"1\" class=\"dataframe\">\n",
       "  <thead>\n",
       "    <tr style=\"text-align: right;\">\n",
       "      <th></th>\n",
       "      <th>Item_Identifier</th>\n",
       "      <th>Item_Weight</th>\n",
       "      <th>Item_Fat_Content</th>\n",
       "      <th>Item_Visibility</th>\n",
       "      <th>Item_Type</th>\n",
       "      <th>Item_MRP</th>\n",
       "      <th>Outlet_Identifier</th>\n",
       "      <th>Outlet_Establishment_Year</th>\n",
       "      <th>Outlet_Size</th>\n",
       "      <th>Outlet_Location_Type</th>\n",
       "      <th>Outlet_Type</th>\n",
       "      <th>Outlet_Age</th>\n",
       "    </tr>\n",
       "  </thead>\n",
       "  <tbody>\n",
       "    <tr>\n",
       "      <th>0</th>\n",
       "      <td>FDW58</td>\n",
       "      <td>20.75</td>\n",
       "      <td>Low Fat</td>\n",
       "      <td>0.007565</td>\n",
       "      <td>Snack Foods</td>\n",
       "      <td>107.8622</td>\n",
       "      <td>OUT049</td>\n",
       "      <td>1999</td>\n",
       "      <td>Medium</td>\n",
       "      <td>Tier 1</td>\n",
       "      <td>Supermarket Type1</td>\n",
       "      <td>22</td>\n",
       "    </tr>\n",
       "    <tr>\n",
       "      <th>1</th>\n",
       "      <td>FDW14</td>\n",
       "      <td>8.30</td>\n",
       "      <td>Regular</td>\n",
       "      <td>0.038428</td>\n",
       "      <td>Dairy</td>\n",
       "      <td>87.3198</td>\n",
       "      <td>OUT017</td>\n",
       "      <td>2007</td>\n",
       "      <td>NaN</td>\n",
       "      <td>Tier 2</td>\n",
       "      <td>Supermarket Type1</td>\n",
       "      <td>14</td>\n",
       "    </tr>\n",
       "  </tbody>\n",
       "</table>\n",
       "</div>"
      ],
      "text/plain": [
       "  Item_Identifier  Item_Weight Item_Fat_Content  Item_Visibility    Item_Type  \\\n",
       "0           FDW58        20.75          Low Fat         0.007565  Snack Foods   \n",
       "1           FDW14         8.30          Regular         0.038428        Dairy   \n",
       "\n",
       "   Item_MRP Outlet_Identifier  Outlet_Establishment_Year Outlet_Size  \\\n",
       "0  107.8622            OUT049                       1999      Medium   \n",
       "1   87.3198            OUT017                       2007         NaN   \n",
       "\n",
       "  Outlet_Location_Type        Outlet_Type  Outlet_Age  \n",
       "0               Tier 1  Supermarket Type1          22  \n",
       "1               Tier 2  Supermarket Type1          14  "
      ]
     },
     "execution_count": 60,
     "metadata": {},
     "output_type": "execute_result"
    }
   ],
   "source": [
    "# Adding a new column 'Outlet_Age' and drop 'Outlet_Establishment_Year' \n",
    "\n",
    "df_test['Outlet_Age'] = 2021 - df_test['Outlet_Establishment_Year'] \n",
    "df_test.head(2)"
   ]
  },
  {
   "cell_type": "code",
   "execution_count": 61,
   "id": "13bd9820",
   "metadata": {},
   "outputs": [
    {
     "name": "stderr",
     "output_type": "stream",
     "text": [
      "<ipython-input-61-7f1fd5318304>:6: SettingWithCopyWarning: \n",
      "A value is trying to be set on a copy of a slice from a DataFrame\n",
      "\n",
      "See the caveats in the documentation: https://pandas.pydata.org/pandas-docs/stable/user_guide/indexing.html#returning-a-view-versus-a-copy\n",
      "  df_test['Item_Category'][i] = val[0:2]\n"
     ]
    },
    {
     "data": {
      "text/plain": [
       "FD    4076\n",
       "NC    1087\n",
       "DR     518\n",
       "Name: Item_Category, dtype: int64"
      ]
     },
     "execution_count": 61,
     "metadata": {},
     "output_type": "execute_result"
    }
   ],
   "source": [
    "# add new attribute'Item_Category'\n",
    "\n",
    "df_test['Item_Category'] = df_test['Item_Identifier']\n",
    "\n",
    "for i, val in enumerate(df_test['Item_Category']):\n",
    "    df_test['Item_Category'][i] = val[0:2]  \n",
    "\n",
    "df_test['Item_Category'].value_counts()"
   ]
  },
  {
   "cell_type": "code",
   "execution_count": 62,
   "id": "2df214ef",
   "metadata": {},
   "outputs": [],
   "source": [
    "# filling nan values"
   ]
  },
  {
   "cell_type": "code",
   "execution_count": 63,
   "id": "4562d350",
   "metadata": {},
   "outputs": [
    {
     "data": {
      "text/html": [
       "<div>\n",
       "<style scoped>\n",
       "    .dataframe tbody tr th:only-of-type {\n",
       "        vertical-align: middle;\n",
       "    }\n",
       "\n",
       "    .dataframe tbody tr th {\n",
       "        vertical-align: top;\n",
       "    }\n",
       "\n",
       "    .dataframe thead th {\n",
       "        text-align: right;\n",
       "    }\n",
       "</style>\n",
       "<table border=\"1\" class=\"dataframe\">\n",
       "  <thead>\n",
       "    <tr style=\"text-align: right;\">\n",
       "      <th>Outlet_Type</th>\n",
       "      <th>Grocery Store</th>\n",
       "      <th>Supermarket Type1</th>\n",
       "      <th>Supermarket Type2</th>\n",
       "      <th>Supermarket Type3</th>\n",
       "    </tr>\n",
       "    <tr>\n",
       "      <th>Outlet_Size</th>\n",
       "      <th></th>\n",
       "      <th></th>\n",
       "      <th></th>\n",
       "      <th></th>\n",
       "    </tr>\n",
       "  </thead>\n",
       "  <tbody>\n",
       "    <tr>\n",
       "      <th>High</th>\n",
       "      <td>0</td>\n",
       "      <td>621</td>\n",
       "      <td>0</td>\n",
       "      <td>0</td>\n",
       "    </tr>\n",
       "    <tr>\n",
       "      <th>Medium</th>\n",
       "      <td>0</td>\n",
       "      <td>620</td>\n",
       "      <td>618</td>\n",
       "      <td>624</td>\n",
       "    </tr>\n",
       "    <tr>\n",
       "      <th>Small</th>\n",
       "      <td>352</td>\n",
       "      <td>1240</td>\n",
       "      <td>0</td>\n",
       "      <td>0</td>\n",
       "    </tr>\n",
       "  </tbody>\n",
       "</table>\n",
       "</div>"
      ],
      "text/plain": [
       "Outlet_Type  Grocery Store  Supermarket Type1  Supermarket Type2  \\\n",
       "Outlet_Size                                                        \n",
       "High                     0                621                  0   \n",
       "Medium                   0                620                618   \n",
       "Small                  352               1240                  0   \n",
       "\n",
       "Outlet_Type  Supermarket Type3  \n",
       "Outlet_Size                     \n",
       "High                         0  \n",
       "Medium                     624  \n",
       "Small                        0  "
      ]
     },
     "execution_count": 63,
     "metadata": {},
     "output_type": "execute_result"
    }
   ],
   "source": [
    "pd.crosstab(index = df_test['Outlet_Size'], columns = df_test['Outlet_Type'])"
   ]
  },
  {
   "cell_type": "code",
   "execution_count": 64,
   "id": "772b1d1c",
   "metadata": {},
   "outputs": [
    {
     "name": "stderr",
     "output_type": "stream",
     "text": [
      "<ipython-input-64-232470ed4f36>:7: SettingWithCopyWarning: \n",
      "A value is trying to be set on a copy of a slice from a DataFrame\n",
      "\n",
      "See the caveats in the documentation: https://pandas.pydata.org/pandas-docs/stable/user_guide/indexing.html#returning-a-view-versus-a-copy\n",
      "  df_test['Outlet_Size'][i] = 'Small'\n",
      "<ipython-input-64-232470ed4f36>:4: SettingWithCopyWarning: \n",
      "A value is trying to be set on a copy of a slice from a DataFrame\n",
      "\n",
      "See the caveats in the documentation: https://pandas.pydata.org/pandas-docs/stable/user_guide/indexing.html#returning-a-view-versus-a-copy\n",
      "  df_test['Outlet_Size'][i] = 'Small'\n"
     ]
    }
   ],
   "source": [
    "for i, val in enumerate(df_test['Outlet_Size']):\n",
    "    \n",
    "    if(df_test['Outlet_Type'][i] == 'Grocery Store' and df_test['Outlet_Size'].isnull()[i] == True):\n",
    "        df_test['Outlet_Size'][i] = 'Small'\n",
    "    \n",
    "    elif(df_test['Outlet_Type'][i] == 'Supermarket Type1' and df_test['Outlet_Size'].isnull()[i] == True):\n",
    "        df_test['Outlet_Size'][i] = 'Small'  \n",
    "    \n",
    "    elif(df_test['Outlet_Type'][i] == 'Supermarket Type2' and df_test['Outlet_Size'].isnull()[i] == True):\n",
    "        df_test['Outlet_Size'][i] = 'Medium'\n",
    "    \n",
    "    elif(df_test['Outlet_Type'][i] == 'Supermarket Type3' and df_test['Outlet_Size'].isnull()[i] == True):\n",
    "        df_test['Outlet_Size'][i] = 'Medium'"
   ]
  },
  {
   "cell_type": "code",
   "execution_count": 65,
   "id": "44a890e3",
   "metadata": {},
   "outputs": [
    {
     "data": {
      "text/plain": [
       "Small     3198\n",
       "Medium    1862\n",
       "High       621\n",
       "Name: Outlet_Size, dtype: int64"
      ]
     },
     "execution_count": 65,
     "metadata": {},
     "output_type": "execute_result"
    }
   ],
   "source": [
    "df_test['Outlet_Size'].value_counts()"
   ]
  },
  {
   "cell_type": "code",
   "execution_count": 66,
   "id": "d96cae70",
   "metadata": {},
   "outputs": [
    {
     "data": {
      "text/html": [
       "<div>\n",
       "<style scoped>\n",
       "    .dataframe tbody tr th:only-of-type {\n",
       "        vertical-align: middle;\n",
       "    }\n",
       "\n",
       "    .dataframe tbody tr th {\n",
       "        vertical-align: top;\n",
       "    }\n",
       "\n",
       "    .dataframe thead th {\n",
       "        text-align: right;\n",
       "    }\n",
       "</style>\n",
       "<table border=\"1\" class=\"dataframe\">\n",
       "  <thead>\n",
       "    <tr style=\"text-align: right;\">\n",
       "      <th></th>\n",
       "      <th>Item_Weight</th>\n",
       "    </tr>\n",
       "    <tr>\n",
       "      <th>Item_Category</th>\n",
       "      <th></th>\n",
       "    </tr>\n",
       "  </thead>\n",
       "  <tbody>\n",
       "    <tr>\n",
       "      <th>DR</th>\n",
       "      <td>12.187500</td>\n",
       "    </tr>\n",
       "    <tr>\n",
       "      <th>FD</th>\n",
       "      <td>12.591234</td>\n",
       "    </tr>\n",
       "    <tr>\n",
       "      <th>NC</th>\n",
       "      <td>13.328774</td>\n",
       "    </tr>\n",
       "  </tbody>\n",
       "</table>\n",
       "</div>"
      ],
      "text/plain": [
       "               Item_Weight\n",
       "Item_Category             \n",
       "DR               12.187500\n",
       "FD               12.591234\n",
       "NC               13.328774"
      ]
     },
     "execution_count": 66,
     "metadata": {},
     "output_type": "execute_result"
    }
   ],
   "source": [
    "df_test.pivot_table(values = \"Item_Weight\", index = 'Item_Category')"
   ]
  },
  {
   "cell_type": "code",
   "execution_count": 67,
   "id": "acefc094",
   "metadata": {},
   "outputs": [],
   "source": [
    "df_test[\"Item_Weight\"].fillna(df_test[\"Item_Weight\"].mean(), inplace = True)"
   ]
  },
  {
   "cell_type": "code",
   "execution_count": 68,
   "id": "5cfa64c5",
   "metadata": {},
   "outputs": [
    {
     "data": {
      "text/plain": [
       "0"
      ]
     },
     "execution_count": 68,
     "metadata": {},
     "output_type": "execute_result"
    }
   ],
   "source": [
    "df_test.isnull().sum().sum()"
   ]
  },
  {
   "cell_type": "code",
   "execution_count": 69,
   "id": "71be3ef8",
   "metadata": {},
   "outputs": [
    {
     "data": {
      "text/plain": [
       "0.000000    353\n",
       "0.080293      2\n",
       "0.041525      2\n",
       "0.052059      2\n",
       "0.026836      2\n",
       "           ... \n",
       "0.064403      1\n",
       "0.053775      1\n",
       "0.038746      1\n",
       "0.057255      1\n",
       "0.042629      1\n",
       "Name: Item_Visibility, Length: 5277, dtype: int64"
      ]
     },
     "execution_count": 69,
     "metadata": {},
     "output_type": "execute_result"
    }
   ],
   "source": [
    "df_test['Item_Visibility'].value_counts()"
   ]
  },
  {
   "cell_type": "code",
   "execution_count": 70,
   "id": "d6423d83",
   "metadata": {},
   "outputs": [],
   "source": [
    "# replace zeros with mean\n",
    "df_test['Item_Visibility'].replace(0, df_test['Item_Visibility'].mean(), inplace = True)"
   ]
  },
  {
   "cell_type": "code",
   "execution_count": 71,
   "id": "6fc2ac71",
   "metadata": {},
   "outputs": [
    {
     "data": {
      "text/plain": [
       "(31.99, 266.5884)"
      ]
     },
     "execution_count": 71,
     "metadata": {},
     "output_type": "execute_result"
    }
   ],
   "source": [
    "# Check other features\n",
    "\n",
    "df_test['Item_MRP'].min(), df_test['Item_MRP'].max()"
   ]
  },
  {
   "cell_type": "code",
   "execution_count": 72,
   "id": "36dc6920",
   "metadata": {},
   "outputs": [
    {
     "data": {
      "text/plain": [
       "Snack Foods              789\n",
       "Fruits and Vegetables    781\n",
       "Household                638\n",
       "Frozen Foods             570\n",
       "Dairy                    454\n",
       "Baking Goods             438\n",
       "Canned                   435\n",
       "Health and Hygiene       338\n",
       "Meat                     311\n",
       "Soft Drinks              281\n",
       "Breads                   165\n",
       "Hard Drinks              148\n",
       "Starchy Foods            121\n",
       "Others                   111\n",
       "Breakfast                 76\n",
       "Seafood                   25\n",
       "Name: Item_Type, dtype: int64"
      ]
     },
     "execution_count": 72,
     "metadata": {},
     "output_type": "execute_result"
    }
   ],
   "source": [
    "df_test['Item_Type'].value_counts() "
   ]
  },
  {
   "cell_type": "code",
   "execution_count": 73,
   "id": "1e767e74",
   "metadata": {},
   "outputs": [
    {
     "data": {
      "text/plain": [
       "array(['OUT049', 'OUT017', 'OUT010', 'OUT027', 'OUT046', 'OUT018',\n",
       "       'OUT045', 'OUT019', 'OUT013', 'OUT035'], dtype=object)"
      ]
     },
     "execution_count": 73,
     "metadata": {},
     "output_type": "execute_result"
    }
   ],
   "source": [
    "df_test['Outlet_Identifier'].unique() "
   ]
  },
  {
   "cell_type": "code",
   "execution_count": 74,
   "id": "e38fc924",
   "metadata": {},
   "outputs": [
    {
     "data": {
      "text/plain": [
       "edible        4594\n",
       "non-edible    1087\n",
       "Name: Item_Type, dtype: int64"
      ]
     },
     "execution_count": 74,
     "metadata": {},
     "output_type": "execute_result"
    }
   ],
   "source": [
    "df_test['Item_Type'].replace(['Fruits and Vegetables','Snack Foods','Household','Frozen Foods','Dairy','Canned','Baking Goods','Health and Hygiene','Soft Drinks','Meat','Breads','Hard Drinks','Starchy Foods','Breakfast','Seafood','Others'],['edible','edible','non-edible','edible','edible','edible','edible','non-edible','edible','edible','edible','edible','edible','edible','edible','non-edible'],inplace = True)\n",
    "df_test['Item_Type'].value_counts()"
   ]
  },
  {
   "cell_type": "code",
   "execution_count": 75,
   "id": "dc42fbdf",
   "metadata": {},
   "outputs": [],
   "source": [
    "# Data Analysis on Test Data"
   ]
  },
  {
   "cell_type": "code",
   "execution_count": 76,
   "id": "9e5d5da1",
   "metadata": {},
   "outputs": [
    {
     "name": "stderr",
     "output_type": "stream",
     "text": [
      "D:\\Anaconda\\lib\\site-packages\\seaborn\\distributions.py:2619: FutureWarning: `distplot` is a deprecated function and will be removed in a future version. Please adapt your code to use either `displot` (a figure-level function with similar flexibility) or `histplot` (an axes-level function for histograms).\n",
      "  warnings.warn(msg, FutureWarning)\n"
     ]
    },
    {
     "data": {
      "text/plain": [
       "<AxesSubplot:xlabel='Item_MRP', ylabel='Density'>"
      ]
     },
     "execution_count": 76,
     "metadata": {},
     "output_type": "execute_result"
    },
    {
     "data": {
      "image/png": "[encoded data removed]",
      "text/plain": [
       "<Figure size 432x288 with 1 Axes>"
      ]
     },
     "metadata": {
      "needs_background": "light"
     },
     "output_type": "display_data"
    }
   ],
   "source": [
    "sns.distplot(df_test['Item_MRP'])"
   ]
  },
  {
   "cell_type": "code",
   "execution_count": 77,
   "id": "f1e71a1f",
   "metadata": {},
   "outputs": [
    {
     "name": "stderr",
     "output_type": "stream",
     "text": [
      "D:\\Anaconda\\lib\\site-packages\\seaborn\\distributions.py:2619: FutureWarning: `distplot` is a deprecated function and will be removed in a future version. Please adapt your code to use either `displot` (a figure-level function with similar flexibility) or `histplot` (an axes-level function for histograms).\n",
      "  warnings.warn(msg, FutureWarning)\n"
     ]
    },
    {
     "data": {
      "text/plain": [
       "<AxesSubplot:xlabel='Item_Weight', ylabel='Density'>"
      ]
     },
     "execution_count": 77,
     "metadata": {},
     "output_type": "execute_result"
    },
    {
     "data": {
      "image/png": "[encoded data removed]",
      "text/plain": [
       "<Figure size 432x288 with 1 Axes>"
      ]
     },
     "metadata": {
      "needs_background": "light"
     },
     "output_type": "display_data"
    }
   ],
   "source": [
    "sns.distplot(df_test['Item_Weight'])"
   ]
  },
  {
   "cell_type": "code",
   "execution_count": 78,
   "id": "4e565f52",
   "metadata": {
    "scrolled": true
   },
   "outputs": [
    {
     "name": "stderr",
     "output_type": "stream",
     "text": [
      "D:\\Anaconda\\lib\\site-packages\\seaborn\\distributions.py:2619: FutureWarning: `distplot` is a deprecated function and will be removed in a future version. Please adapt your code to use either `displot` (a figure-level function with similar flexibility) or `histplot` (an axes-level function for histograms).\n",
      "  warnings.warn(msg, FutureWarning)\n"
     ]
    },
    {
     "data": {
      "text/plain": [
       "<AxesSubplot:xlabel='Item_Visibility', ylabel='Density'>"
      ]
     },
     "execution_count": 78,
     "metadata": {},
     "output_type": "execute_result"
    },
    {
     "data": {
      "image/png": "[encoded data removed]",
      "text/plain": [
       "<Figure size 432x288 with 1 Axes>"
      ]
     },
     "metadata": {
      "needs_background": "light"
     },
     "output_type": "display_data"
    }
   ],
   "source": [
    "sns.distplot(df_test['Item_Visibility'])"
   ]
  },
  {
   "cell_type": "code",
   "execution_count": 79,
   "id": "81fb6cd1",
   "metadata": {
    "scrolled": true
   },
   "outputs": [
    {
     "name": "stderr",
     "output_type": "stream",
     "text": [
      "D:\\Anaconda\\lib\\site-packages\\seaborn\\_decorators.py:36: FutureWarning: Pass the following variable as a keyword arg: x. From version 0.12, the only valid positional argument will be `data`, and passing other arguments without an explicit keyword will result in an error or misinterpretation.\n",
      "  warnings.warn(\n"
     ]
    },
    {
     "data": {
      "text/plain": [
       "<AxesSubplot:xlabel='Outlet_Location_Type', ylabel='count'>"
      ]
     },
     "execution_count": 79,
     "metadata": {},
     "output_type": "execute_result"
    },
    {
     "data": {
      "image/png": "[encoded data removed]",
      "text/plain": [
       "<Figure size 432x288 with 1 Axes>"
      ]
     },
     "metadata": {
      "needs_background": "light"
     },
     "output_type": "display_data"
    }
   ],
   "source": [
    "sns.countplot(df_test['Outlet_Location_Type'])"
   ]
  },
  {
   "cell_type": "code",
   "execution_count": 80,
   "id": "bbfcf2e4",
   "metadata": {},
   "outputs": [
    {
     "name": "stderr",
     "output_type": "stream",
     "text": [
      "D:\\Anaconda\\lib\\site-packages\\seaborn\\_decorators.py:36: FutureWarning: Pass the following variable as a keyword arg: x. From version 0.12, the only valid positional argument will be `data`, and passing other arguments without an explicit keyword will result in an error or misinterpretation.\n",
      "  warnings.warn(\n"
     ]
    },
    {
     "data": {
      "text/plain": [
       "<AxesSubplot:xlabel='Outlet_Age', ylabel='count'>"
      ]
     },
     "execution_count": 80,
     "metadata": {},
     "output_type": "execute_result"
    },
    {
     "data": {
      "image/png": "[encoded data removed]",
      "text/plain": [
       "<Figure size 432x288 with 1 Axes>"
      ]
     },
     "metadata": {
      "needs_background": "light"
     },
     "output_type": "display_data"
    }
   ],
   "source": [
    "sns.countplot(df_test['Outlet_Age'])"
   ]
  },
  {
   "cell_type": "code",
   "execution_count": 81,
   "id": "aa307830",
   "metadata": {},
   "outputs": [
    {
     "data": {
      "text/html": [
       "<style  type=\"text/css\" >\n",
       "#T_ca104_row0_col0,#T_ca104_row0_col2,#T_ca104_row0_col3,#T_ca104_row1_col1,#T_ca104_row1_col4,#T_ca104_row2_col0,#T_ca104_row2_col2,#T_ca104_row2_col4,#T_ca104_row3_col0,#T_ca104_row3_col3,#T_ca104_row4_col1,#T_ca104_row4_col2,#T_ca104_row4_col4{\n",
       "            color:  None;\n",
       "        }#T_ca104_row0_col1,#T_ca104_row0_col4,#T_ca104_row1_col0,#T_ca104_row1_col2,#T_ca104_row1_col3,#T_ca104_row2_col1,#T_ca104_row2_col3,#T_ca104_row3_col1,#T_ca104_row3_col2,#T_ca104_row3_col4,#T_ca104_row4_col0,#T_ca104_row4_col3{\n",
       "            color:  #FF3344;\n",
       "        }</style><table id=\"T_ca104_\" ><thead>    <tr>        <th class=\"blank level0\" ></th>        <th class=\"col_heading level0 col0\" >Item_Weight</th>        <th class=\"col_heading level0 col1\" >Item_Visibility</th>        <th class=\"col_heading level0 col2\" >Item_MRP</th>        <th class=\"col_heading level0 col3\" >Outlet_Establishment_Year</th>        <th class=\"col_heading level0 col4\" >Outlet_Age</th>    </tr></thead><tbody>\n",
       "                <tr>\n",
       "                        <th id=\"T_ca104_level0_row0\" class=\"row_heading level0 row0\" >Item_Weight</th>\n",
       "                        <td id=\"T_ca104_row0_col0\" class=\"data row0 col0\" >1.00</td>\n",
       "                        <td id=\"T_ca104_row0_col1\" class=\"data row0 col1\" >-0.01</td>\n",
       "                        <td id=\"T_ca104_row0_col2\" class=\"data row0 col2\" >0.05</td>\n",
       "                        <td id=\"T_ca104_row0_col3\" class=\"data row0 col3\" >0.01</td>\n",
       "                        <td id=\"T_ca104_row0_col4\" class=\"data row0 col4\" >-0.01</td>\n",
       "            </tr>\n",
       "            <tr>\n",
       "                        <th id=\"T_ca104_level0_row1\" class=\"row_heading level0 row1\" >Item_Visibility</th>\n",
       "                        <td id=\"T_ca104_row1_col0\" class=\"data row1 col0\" >-0.01</td>\n",
       "                        <td id=\"T_ca104_row1_col1\" class=\"data row1 col1\" >1.00</td>\n",
       "                        <td id=\"T_ca104_row1_col2\" class=\"data row1 col2\" >-0.01</td>\n",
       "                        <td id=\"T_ca104_row1_col3\" class=\"data row1 col3\" >-0.10</td>\n",
       "                        <td id=\"T_ca104_row1_col4\" class=\"data row1 col4\" >0.10</td>\n",
       "            </tr>\n",
       "            <tr>\n",
       "                        <th id=\"T_ca104_level0_row2\" class=\"row_heading level0 row2\" >Item_MRP</th>\n",
       "                        <td id=\"T_ca104_row2_col0\" class=\"data row2 col0\" >0.05</td>\n",
       "                        <td id=\"T_ca104_row2_col1\" class=\"data row2 col1\" >-0.01</td>\n",
       "                        <td id=\"T_ca104_row2_col2\" class=\"data row2 col2\" >1.00</td>\n",
       "                        <td id=\"T_ca104_row2_col3\" class=\"data row2 col3\" >-0.01</td>\n",
       "                        <td id=\"T_ca104_row2_col4\" class=\"data row2 col4\" >0.01</td>\n",
       "            </tr>\n",
       "            <tr>\n",
       "                        <th id=\"T_ca104_level0_row3\" class=\"row_heading level0 row3\" >Outlet_Establishment_Year</th>\n",
       "                        <td id=\"T_ca104_row3_col0\" class=\"data row3 col0\" >0.01</td>\n",
       "                        <td id=\"T_ca104_row3_col1\" class=\"data row3 col1\" >-0.10</td>\n",
       "                        <td id=\"T_ca104_row3_col2\" class=\"data row3 col2\" >-0.01</td>\n",
       "                        <td id=\"T_ca104_row3_col3\" class=\"data row3 col3\" >1.00</td>\n",
       "                        <td id=\"T_ca104_row3_col4\" class=\"data row3 col4\" >-1.00</td>\n",
       "            </tr>\n",
       "            <tr>\n",
       "                        <th id=\"T_ca104_level0_row4\" class=\"row_heading level0 row4\" >Outlet_Age</th>\n",
       "                        <td id=\"T_ca104_row4_col0\" class=\"data row4 col0\" >-0.01</td>\n",
       "                        <td id=\"T_ca104_row4_col1\" class=\"data row4 col1\" >0.10</td>\n",
       "                        <td id=\"T_ca104_row4_col2\" class=\"data row4 col2\" >0.01</td>\n",
       "                        <td id=\"T_ca104_row4_col3\" class=\"data row4 col3\" >-1.00</td>\n",
       "                        <td id=\"T_ca104_row4_col4\" class=\"data row4 col4\" >1.00</td>\n",
       "            </tr>\n",
       "    </tbody></table>"
      ],
      "text/plain": [
       "<pandas.io.formats.style.Styler at 0x1f29c9019a0>"
      ]
     },
     "execution_count": 81,
     "metadata": {},
     "output_type": "execute_result"
    }
   ],
   "source": [
    "klib.corr_mat(df_test)"
   ]
  },
  {
   "cell_type": "code",
   "execution_count": 82,
   "id": "c6ca4706",
   "metadata": {},
   "outputs": [
    {
     "data": {
      "text/plain": [
       "<AxesSubplot:>"
      ]
     },
     "execution_count": 82,
     "metadata": {},
     "output_type": "execute_result"
    },
    {
     "data": {
      "image/png": "[encoded data removed]",
      "text/plain": [
       "<Figure size 432x288 with 2 Axes>"
      ]
     },
     "metadata": {
      "needs_background": "light"
     },
     "output_type": "display_data"
    }
   ],
   "source": [
    "corr = df_test.corr()\n",
    "sns.heatmap(corr, annot=True)"
   ]
  },
  {
   "cell_type": "code",
   "execution_count": 83,
   "id": "b49637ab",
   "metadata": {},
   "outputs": [],
   "source": [
    "# Encoding\n",
    "\n",
    "#df_test = pd.get_dummies(df_test, columns = ['Item_Fat_Content', 'Item_Type','Outlet_Size', 'Outlet_Location_Type', 'Outlet_Type'])"
   ]
  },
  {
   "cell_type": "code",
   "execution_count": 84,
   "id": "750a28b8",
   "metadata": {},
   "outputs": [],
   "source": [
    "new_le = LabelEncoder()\n",
    "\n",
    "df_test['Item_Fat_Content'] = new_le.fit_transform(df_test['Item_Fat_Content'])\n",
    "df_test['Item_Type'] = new_le.fit_transform(df_test['Item_Type'])\n",
    "df_test['Outlet_Size'] = new_le.fit_transform(df_test['Outlet_Size'])\n",
    "df_test['Outlet_Location_Type'] = new_le.fit_transform(df_test['Outlet_Location_Type'])\n",
    "df_test['Outlet_Type'] = new_le.fit_transform(df_test['Outlet_Type'])"
   ]
  },
  {
   "cell_type": "code",
   "execution_count": 85,
   "id": "7ed0c184",
   "metadata": {},
   "outputs": [
    {
     "data": {
      "text/html": [
       "<div>\n",
       "<style scoped>\n",
       "    .dataframe tbody tr th:only-of-type {\n",
       "        vertical-align: middle;\n",
       "    }\n",
       "\n",
       "    .dataframe tbody tr th {\n",
       "        vertical-align: top;\n",
       "    }\n",
       "\n",
       "    .dataframe thead th {\n",
       "        text-align: right;\n",
       "    }\n",
       "</style>\n",
       "<table border=\"1\" class=\"dataframe\">\n",
       "  <thead>\n",
       "    <tr style=\"text-align: right;\">\n",
       "      <th></th>\n",
       "      <th>Item_Identifier</th>\n",
       "      <th>Item_Weight</th>\n",
       "      <th>Item_Fat_Content</th>\n",
       "      <th>Item_Visibility</th>\n",
       "      <th>Item_Type</th>\n",
       "      <th>Item_MRP</th>\n",
       "      <th>Outlet_Identifier</th>\n",
       "      <th>Outlet_Establishment_Year</th>\n",
       "      <th>Outlet_Size</th>\n",
       "      <th>Outlet_Location_Type</th>\n",
       "      <th>Outlet_Type</th>\n",
       "      <th>Outlet_Age</th>\n",
       "      <th>Item_Category</th>\n",
       "    </tr>\n",
       "  </thead>\n",
       "  <tbody>\n",
       "    <tr>\n",
       "      <th>0</th>\n",
       "      <td>FDW58</td>\n",
       "      <td>20.750000</td>\n",
       "      <td>0</td>\n",
       "      <td>0.007565</td>\n",
       "      <td>0</td>\n",
       "      <td>107.8622</td>\n",
       "      <td>OUT049</td>\n",
       "      <td>1999</td>\n",
       "      <td>1</td>\n",
       "      <td>0</td>\n",
       "      <td>1</td>\n",
       "      <td>22</td>\n",
       "      <td>FD</td>\n",
       "    </tr>\n",
       "    <tr>\n",
       "      <th>1</th>\n",
       "      <td>FDW14</td>\n",
       "      <td>8.300000</td>\n",
       "      <td>1</td>\n",
       "      <td>0.038428</td>\n",
       "      <td>0</td>\n",
       "      <td>87.3198</td>\n",
       "      <td>OUT017</td>\n",
       "      <td>2007</td>\n",
       "      <td>2</td>\n",
       "      <td>1</td>\n",
       "      <td>1</td>\n",
       "      <td>14</td>\n",
       "      <td>FD</td>\n",
       "    </tr>\n",
       "    <tr>\n",
       "      <th>2</th>\n",
       "      <td>NCN55</td>\n",
       "      <td>14.600000</td>\n",
       "      <td>0</td>\n",
       "      <td>0.099575</td>\n",
       "      <td>1</td>\n",
       "      <td>241.7538</td>\n",
       "      <td>OUT010</td>\n",
       "      <td>1998</td>\n",
       "      <td>2</td>\n",
       "      <td>2</td>\n",
       "      <td>0</td>\n",
       "      <td>23</td>\n",
       "      <td>NC</td>\n",
       "    </tr>\n",
       "    <tr>\n",
       "      <th>3</th>\n",
       "      <td>FDQ58</td>\n",
       "      <td>7.315000</td>\n",
       "      <td>0</td>\n",
       "      <td>0.015388</td>\n",
       "      <td>0</td>\n",
       "      <td>155.0340</td>\n",
       "      <td>OUT017</td>\n",
       "      <td>2007</td>\n",
       "      <td>2</td>\n",
       "      <td>1</td>\n",
       "      <td>1</td>\n",
       "      <td>14</td>\n",
       "      <td>FD</td>\n",
       "    </tr>\n",
       "    <tr>\n",
       "      <th>4</th>\n",
       "      <td>FDY38</td>\n",
       "      <td>12.695633</td>\n",
       "      <td>1</td>\n",
       "      <td>0.118599</td>\n",
       "      <td>0</td>\n",
       "      <td>234.2300</td>\n",
       "      <td>OUT027</td>\n",
       "      <td>1985</td>\n",
       "      <td>1</td>\n",
       "      <td>2</td>\n",
       "      <td>3</td>\n",
       "      <td>36</td>\n",
       "      <td>FD</td>\n",
       "    </tr>\n",
       "  </tbody>\n",
       "</table>\n",
       "</div>"
      ],
      "text/plain": [
       "  Item_Identifier  Item_Weight  Item_Fat_Content  Item_Visibility  Item_Type  \\\n",
       "0           FDW58    20.750000                 0         0.007565          0   \n",
       "1           FDW14     8.300000                 1         0.038428          0   \n",
       "2           NCN55    14.600000                 0         0.099575          1   \n",
       "3           FDQ58     7.315000                 0         0.015388          0   \n",
       "4           FDY38    12.695633                 1         0.118599          0   \n",
       "\n",
       "   Item_MRP Outlet_Identifier  Outlet_Establishment_Year  Outlet_Size  \\\n",
       "0  107.8622            OUT049                       1999            1   \n",
       "1   87.3198            OUT017                       2007            2   \n",
       "2  241.7538            OUT010                       1998            2   \n",
       "3  155.0340            OUT017                       2007            2   \n",
       "4  234.2300            OUT027                       1985            1   \n",
       "\n",
       "   Outlet_Location_Type  Outlet_Type  Outlet_Age Item_Category  \n",
       "0                     0            1          22            FD  \n",
       "1                     1            1          14            FD  \n",
       "2                     2            0          23            NC  \n",
       "3                     1            1          14            FD  \n",
       "4                     2            3          36            FD  "
      ]
     },
     "execution_count": 85,
     "metadata": {},
     "output_type": "execute_result"
    }
   ],
   "source": [
    "df_test.head()"
   ]
  },
  {
   "cell_type": "code",
   "execution_count": null,
   "id": "d068ad08",
   "metadata": {},
   "outputs": [],
   "source": []
  },
  {
   "cell_type": "markdown",
   "id": "a8a0921a",
   "metadata": {},
   "source": [
    "# Split the data"
   ]
  },
  {
   "cell_type": "code",
   "execution_count": 86,
   "id": "5f2e62bb",
   "metadata": {},
   "outputs": [],
   "source": [
    "X = df.drop(columns=['Outlet_Establishment_Year', 'Item_Identifier', 'Outlet_Identifier', 'Item_Outlet_Sales', 'Item_Category', 'Outlet_Age'])\n",
    "y = df['Item_Outlet_Sales']"
   ]
  },
  {
   "cell_type": "code",
   "execution_count": 87,
   "id": "e97ce761",
   "metadata": {},
   "outputs": [],
   "source": [
    "X_test = df_test.drop(columns=['Outlet_Establishment_Year', 'Item_Identifier', 'Outlet_Identifier', 'Item_Category', 'Outlet_Age'])"
   ]
  },
  {
   "cell_type": "code",
   "execution_count": 88,
   "id": "4cf5471d",
   "metadata": {},
   "outputs": [],
   "source": [
    "# Split the data\n",
    "\n",
    "from sklearn.model_selection import train_test_split\n",
    "\n",
    "X_train, X_val, y_train, y_val = train_test_split(X, y, random_state = 42, test_size = 0.3)"
   ]
  },
  {
   "cell_type": "code",
   "execution_count": 89,
   "id": "1c3c6c6b",
   "metadata": {},
   "outputs": [
    {
     "data": {
      "text/plain": [
       "((5966,), (5966, 8), (2557, 8), (2557,), (5681, 8))"
      ]
     },
     "execution_count": 89,
     "metadata": {},
     "output_type": "execute_result"
    }
   ],
   "source": [
    "y_train.shape, X_train.shape, X_val.shape, y_val.shape, X_test.shape"
   ]
  },
  {
   "cell_type": "code",
   "execution_count": 90,
   "id": "38ed96eb",
   "metadata": {},
   "outputs": [],
   "source": [
    "# Scaling\n",
    "\n",
    "from sklearn.preprocessing import StandardScaler\n",
    "sc = StandardScaler()\n",
    "\n",
    "X_train_std = sc.fit_transform(X_train)\n",
    "X_train_std = pd.DataFrame(X_train,columns = X_val.columns)\n",
    "\n",
    "X_val_std = sc.transform(X_val)\n",
    "X_val_std = pd.DataFrame(X_val,columns = X_train.columns)\n",
    "\n",
    "X_test_std = sc.transform(X_test)\n",
    "X_test_std = pd.DataFrame(X_test,columns =  X_train.columns)"
   ]
  },
  {
   "cell_type": "markdown",
   "id": "4b854c5b",
   "metadata": {},
   "source": [
    "# Models"
   ]
  },
  {
   "cell_type": "markdown",
   "id": "af096f4e",
   "metadata": {},
   "source": [
    "# Linear Regression"
   ]
  },
  {
   "cell_type": "code",
   "execution_count": 91,
   "id": "66f68397",
   "metadata": {},
   "outputs": [
    {
     "data": {
      "text/plain": [
       "(0.5058250622820923, 876.5506377145333, 1384180.8019320988, 1176.5121342052103)"
      ]
     },
     "execution_count": 91,
     "metadata": {},
     "output_type": "execute_result"
    }
   ],
   "source": [
    "from sklearn import linear_model\n",
    "from sklearn.metrics import r2_score\n",
    "from sklearn.metrics import mean_absolute_error\n",
    "from sklearn.metrics import mean_squared_error\n",
    "\n",
    "\n",
    "lr = linear_model.LinearRegression(normalize = True)\n",
    "lr.fit(X_train_std, y_train)\n",
    "lr_pred = lr.predict(X_val_std)\n",
    "\n",
    "lr_score = r2_score((y_val), (lr_pred))\n",
    "lr_mae = mean_absolute_error((y_val), (lr_pred))\n",
    "lr_mse = mean_squared_error((y_val), (lr_pred))\n",
    "lr_rmse = np.sqrt(lr_mse)\n",
    "\n",
    "lr_score, lr_mae, lr_mse, lr_rmse"
   ]
  },
  {
   "cell_type": "markdown",
   "id": "ecb3ed9e",
   "metadata": {},
   "source": [
    "# XGB Regressor"
   ]
  },
  {
   "cell_type": "code",
   "execution_count": 92,
   "id": "1da1432e",
   "metadata": {},
   "outputs": [
    {
     "data": {
      "text/plain": [
       "(0.5949237409952608, 737.9952380600482, 1134615.979560058, 1065.1835426629807)"
      ]
     },
     "execution_count": 92,
     "metadata": {},
     "output_type": "execute_result"
    }
   ],
   "source": [
    "from xgboost import XGBRegressor\n",
    "\n",
    "xgb_model = XGBRegressor(learning_rate = 0.1, n_estimators = 34, random_state = 0)\n",
    "                 \n",
    "xgb_model.fit(X_train_std, y_train)\n",
    "xgb_pred = xgb_model.predict(X_val_std)\n",
    "\n",
    "xgb_score = r2_score((y_val), (xgb_pred))\n",
    "xgb_mae = mean_absolute_error((y_val), (xgb_pred))\n",
    "xgb_mse = mean_squared_error((y_val), (xgb_pred))\n",
    "xgb_rmse = np.sqrt(xgb_mse)\n",
    "\n",
    "xgb_score, xgb_mae, xgb_mse, xgb_rmse"
   ]
  },
  {
   "cell_type": "code",
   "execution_count": 93,
   "id": "ee924baa",
   "metadata": {},
   "outputs": [
    {
     "data": {
      "text/plain": [
       "(array([1096.3214,  692.737 ,  673.7631, 4784.0356, 2986.0422],\n",
       "       dtype=float32),\n",
       " 7503    1743.0644\n",
       " 2957     356.8688\n",
       " 7031     377.5086\n",
       " 1084    5778.4782\n",
       " 856     2356.9320\n",
       " Name: Item_Outlet_Sales, dtype: float64)"
      ]
     },
     "execution_count": 93,
     "metadata": {},
     "output_type": "execute_result"
    }
   ],
   "source": [
    "(xgb_pred[:5]), (y_val[:5])"
   ]
  },
  {
   "cell_type": "code",
   "execution_count": 94,
   "id": "69735684",
   "metadata": {},
   "outputs": [
    {
     "data": {
      "text/plain": [
       "(5966, 8)"
      ]
     },
     "execution_count": 94,
     "metadata": {},
     "output_type": "execute_result"
    }
   ],
   "source": [
    "X_train_std.shape"
   ]
  },
  {
   "cell_type": "markdown",
   "id": "0bfa99b1",
   "metadata": {},
   "source": [
    "# Ann"
   ]
  },
  {
   "cell_type": "code",
   "execution_count": 95,
   "id": "b45f8cda",
   "metadata": {},
   "outputs": [
    {
     "name": "stdout",
     "output_type": "stream",
     "text": [
      "Epoch 1/300\n",
      "187/187 [==============================] - 1s 2ms/step - loss: 1253.4443 - mse: 3104166.2500 - val_loss: 1008.2435 - val_mse: 1877398.6250\n",
      "Epoch 2/300\n",
      "187/187 [==============================] - 0s 1ms/step - loss: 1036.9597 - mse: 2010566.6250 - val_loss: 1005.1033 - val_mse: 1858344.0000\n",
      "Epoch 3/300\n",
      "187/187 [==============================] - 0s 1ms/step - loss: 1031.0226 - mse: 1989686.3750 - val_loss: 994.9109 - val_mse: 1832681.2500\n",
      "Epoch 4/300\n",
      "187/187 [==============================] - 0s 1ms/step - loss: 1022.2250 - mse: 1942691.3750 - val_loss: 988.5656 - val_mse: 1797982.3750\n",
      "Epoch 5/300\n",
      "187/187 [==============================] - 0s 1ms/step - loss: 1011.7718 - mse: 1906731.1250 - val_loss: 974.4523 - val_mse: 1754087.6250\n",
      "Epoch 6/300\n",
      "187/187 [==============================] - 0s 1ms/step - loss: 998.0361 - mse: 1850735.2500 - val_loss: 957.9064 - val_mse: 1677432.1250\n",
      "Epoch 7/300\n",
      "187/187 [==============================] - 0s 1ms/step - loss: 982.2828 - mse: 1794645.0000 - val_loss: 936.6309 - val_mse: 1633142.1250\n",
      "Epoch 8/300\n",
      "187/187 [==============================] - 0s 1ms/step - loss: 954.5254 - mse: 1674483.0000 - val_loss: 956.1799 - val_mse: 1593355.0000\n",
      "Epoch 9/300\n",
      "187/187 [==============================] - 0s 1ms/step - loss: 922.1624 - mse: 1565612.2500 - val_loss: 852.9984 - val_mse: 1456480.8750\n",
      "Epoch 10/300\n",
      "187/187 [==============================] - 0s 1ms/step - loss: 878.8589 - mse: 1479771.1250 - val_loss: 805.6367 - val_mse: 1272552.5000\n",
      "Epoch 11/300\n",
      "187/187 [==============================] - 0s 1ms/step - loss: 847.4825 - mse: 1417833.1250 - val_loss: 792.1290 - val_mse: 1252517.3750\n",
      "Epoch 12/300\n",
      "187/187 [==============================] - 0s 1ms/step - loss: 834.5714 - mse: 1398533.0000 - val_loss: 778.7413 - val_mse: 1230864.3750\n",
      "Epoch 13/300\n",
      "187/187 [==============================] - 0s 1ms/step - loss: 818.3050 - mse: 1348284.5000 - val_loss: 770.9119 - val_mse: 1242554.7500\n",
      "Epoch 14/300\n",
      "187/187 [==============================] - 0s 1ms/step - loss: 819.6031 - mse: 1362822.6250 - val_loss: 793.5874 - val_mse: 1244460.8750\n",
      "Epoch 15/300\n",
      "187/187 [==============================] - 0s 1ms/step - loss: 812.6175 - mse: 1348602.0000 - val_loss: 768.3503 - val_mse: 1236263.3750\n",
      "Epoch 16/300\n",
      "187/187 [==============================] - 0s 1ms/step - loss: 806.3893 - mse: 1335708.6250 - val_loss: 782.9748 - val_mse: 1239534.8750\n",
      "Epoch 17/300\n",
      "187/187 [==============================] - 0s 1ms/step - loss: 819.6058 - mse: 1369709.2500 - val_loss: 780.3098 - val_mse: 1235045.3750\n",
      "Epoch 18/300\n",
      "187/187 [==============================] - 0s 1ms/step - loss: 808.3914 - mse: 1337336.3750 - val_loss: 768.7021 - val_mse: 1258298.1250\n",
      "Epoch 19/300\n",
      "187/187 [==============================] - 0s 1ms/step - loss: 816.7774 - mse: 1367280.3750 - val_loss: 770.9071 - val_mse: 1230759.7500\n",
      "Epoch 20/300\n",
      "187/187 [==============================] - 0s 1ms/step - loss: 807.9067 - mse: 1329418.2500 - val_loss: 778.6421 - val_mse: 1287279.8750\n",
      "Epoch 21/300\n",
      "187/187 [==============================] - 0s 1ms/step - loss: 806.8435 - mse: 1339326.5000 - val_loss: 765.1340 - val_mse: 1223064.0000\n",
      "Epoch 22/300\n",
      "187/187 [==============================] - 0s 1ms/step - loss: 801.9915 - mse: 1326515.2500 - val_loss: 778.7696 - val_mse: 1233060.8750\n",
      "Epoch 23/300\n",
      "187/187 [==============================] - 0s 1ms/step - loss: 803.9784 - mse: 1322751.6250 - val_loss: 762.8447 - val_mse: 1230791.8750\n",
      "Epoch 24/300\n",
      "187/187 [==============================] - 0s 1ms/step - loss: 803.8138 - mse: 1326379.6250 - val_loss: 774.5953 - val_mse: 1227802.2500\n",
      "Epoch 25/300\n",
      "187/187 [==============================] - 0s 1ms/step - loss: 806.2534 - mse: 1333287.1250 - val_loss: 765.7470 - val_mse: 1214374.7500\n",
      "Epoch 26/300\n",
      "187/187 [==============================] - 0s 1ms/step - loss: 801.1077 - mse: 1320073.5000 - val_loss: 762.1909 - val_mse: 1219127.6250\n",
      "Epoch 27/300\n",
      "187/187 [==============================] - 0s 1ms/step - loss: 802.3522 - mse: 1327633.2500 - val_loss: 762.6210 - val_mse: 1224623.1250\n",
      "Epoch 28/300\n",
      "187/187 [==============================] - 0s 1ms/step - loss: 800.3779 - mse: 1324899.7500 - val_loss: 766.6423 - val_mse: 1213633.5000\n",
      "Epoch 29/300\n",
      "187/187 [==============================] - 0s 1ms/step - loss: 801.0463 - mse: 1320369.6250 - val_loss: 774.8707 - val_mse: 1219198.5000\n",
      "Epoch 30/300\n",
      "187/187 [==============================] - 0s 1ms/step - loss: 798.9478 - mse: 1314994.8750 - val_loss: 759.2800 - val_mse: 1217538.0000\n",
      "Epoch 31/300\n",
      "187/187 [==============================] - 0s 1ms/step - loss: 798.8569 - mse: 1310958.3750 - val_loss: 759.6008 - val_mse: 1205406.6250\n",
      "Epoch 32/300\n",
      "187/187 [==============================] - 0s 1ms/step - loss: 796.8865 - mse: 1306300.2500 - val_loss: 759.3619 - val_mse: 1203905.8750\n",
      "Epoch 33/300\n",
      "187/187 [==============================] - 0s 1ms/step - loss: 794.2435 - mse: 1300830.0000 - val_loss: 764.1701 - val_mse: 1260662.7500\n",
      "Epoch 34/300\n",
      "187/187 [==============================] - 0s 1ms/step - loss: 797.1426 - mse: 1311177.2500 - val_loss: 759.5118 - val_mse: 1198663.3750\n",
      "Epoch 35/300\n",
      "187/187 [==============================] - 0s 1ms/step - loss: 795.0886 - mse: 1299104.2500 - val_loss: 756.2863 - val_mse: 1212366.8750\n",
      "Epoch 36/300\n",
      "187/187 [==============================] - 0s 1ms/step - loss: 795.8962 - mse: 1300515.1250 - val_loss: 752.7780 - val_mse: 1198981.0000\n",
      "Epoch 37/300\n",
      "187/187 [==============================] - 0s 1ms/step - loss: 791.6370 - mse: 1291672.2500 - val_loss: 760.6414 - val_mse: 1191733.7500\n",
      "Epoch 38/300\n",
      "187/187 [==============================] - 0s 1ms/step - loss: 790.2224 - mse: 1285815.6250 - val_loss: 750.5464 - val_mse: 1181434.7500\n",
      "Epoch 39/300\n",
      "187/187 [==============================] - 0s 1ms/step - loss: 792.6189 - mse: 1298034.5000 - val_loss: 751.3947 - val_mse: 1184969.8750\n",
      "Epoch 40/300\n",
      "187/187 [==============================] - 0s 1ms/step - loss: 795.5840 - mse: 1303951.0000 - val_loss: 748.6526 - val_mse: 1189281.7500\n",
      "Epoch 41/300\n",
      "187/187 [==============================] - 0s 1ms/step - loss: 784.2993 - mse: 1265767.2500 - val_loss: 751.5481 - val_mse: 1189689.6250\n",
      "Epoch 42/300\n",
      "187/187 [==============================] - 0s 1ms/step - loss: 783.9863 - mse: 1260371.2500 - val_loss: 745.4501 - val_mse: 1163865.3750\n",
      "Epoch 43/300\n",
      "187/187 [==============================] - 0s 1ms/step - loss: 784.1152 - mse: 1261237.5000 - val_loss: 746.8722 - val_mse: 1190276.0000\n",
      "Epoch 44/300\n",
      "187/187 [==============================] - 0s 1ms/step - loss: 784.0777 - mse: 1272437.8750 - val_loss: 772.4559 - val_mse: 1225395.2500\n",
      "Epoch 45/300\n",
      "187/187 [==============================] - 0s 1ms/step - loss: 784.4679 - mse: 1265133.1250 - val_loss: 754.6160 - val_mse: 1168107.7500\n",
      "Epoch 46/300\n",
      "187/187 [==============================] - 0s 1ms/step - loss: 779.2816 - mse: 1252194.1250 - val_loss: 747.4382 - val_mse: 1153583.2500\n",
      "Epoch 47/300\n",
      "187/187 [==============================] - 0s 1ms/step - loss: 775.2516 - mse: 1231313.6250 - val_loss: 740.2062 - val_mse: 1144380.6250\n",
      "Epoch 48/300\n",
      "187/187 [==============================] - 0s 1ms/step - loss: 795.3733 - mse: 1295397.3750 - val_loss: 746.2372 - val_mse: 1147211.5000\n",
      "Epoch 49/300\n",
      "187/187 [==============================] - 0s 1ms/step - loss: 775.1758 - mse: 1236262.3750 - val_loss: 749.4230 - val_mse: 1147137.0000\n",
      "Epoch 50/300\n",
      "187/187 [==============================] - 0s 1ms/step - loss: 774.7783 - mse: 1231360.6250 - val_loss: 741.6573 - val_mse: 1146910.3750\n",
      "Epoch 51/300\n",
      "187/187 [==============================] - 0s 1ms/step - loss: 775.7076 - mse: 1238063.0000 - val_loss: 748.1526 - val_mse: 1141898.5000\n",
      "Epoch 52/300\n",
      "187/187 [==============================] - 0s 1ms/step - loss: 775.9602 - mse: 1243082.6250 - val_loss: 734.9774 - val_mse: 1125758.2500\n",
      "Epoch 53/300\n",
      "187/187 [==============================] - 0s 1ms/step - loss: 774.0598 - mse: 1230981.7500 - val_loss: 738.1633 - val_mse: 1135209.3750\n",
      "Epoch 54/300\n",
      "187/187 [==============================] - 0s 1ms/step - loss: 773.0667 - mse: 1231706.7500 - val_loss: 743.6686 - val_mse: 1151454.6250\n",
      "Epoch 55/300\n"
     ]
    },
    {
     "name": "stdout",
     "output_type": "stream",
     "text": [
      "187/187 [==============================] - 0s 1ms/step - loss: 768.1224 - mse: 1215306.5000 - val_loss: 736.1110 - val_mse: 1131486.2500\n",
      "Epoch 56/300\n",
      "187/187 [==============================] - 0s 1ms/step - loss: 774.0524 - mse: 1230217.0000 - val_loss: 736.1463 - val_mse: 1144151.1250\n",
      "Epoch 57/300\n",
      "187/187 [==============================] - 0s 1ms/step - loss: 773.8223 - mse: 1230248.8750 - val_loss: 739.6550 - val_mse: 1130040.6250\n",
      "Epoch 58/300\n",
      "187/187 [==============================] - 0s 1ms/step - loss: 768.4871 - mse: 1214180.2500 - val_loss: 732.8806 - val_mse: 1116112.0000\n",
      "Epoch 59/300\n",
      "187/187 [==============================] - 0s 1ms/step - loss: 767.4005 - mse: 1210515.3750 - val_loss: 738.2000 - val_mse: 1118128.2500\n",
      "Epoch 60/300\n",
      "187/187 [==============================] - 0s 1ms/step - loss: 768.1359 - mse: 1210447.0000 - val_loss: 732.8997 - val_mse: 1131407.0000\n",
      "Epoch 61/300\n",
      "187/187 [==============================] - 0s 1ms/step - loss: 765.2446 - mse: 1211885.7500 - val_loss: 745.4335 - val_mse: 1156790.0000\n",
      "Epoch 62/300\n",
      "187/187 [==============================] - 0s 1ms/step - loss: 765.9823 - mse: 1212922.3750 - val_loss: 740.6189 - val_mse: 1148454.0000\n",
      "Epoch 63/300\n",
      "187/187 [==============================] - 0s 1ms/step - loss: 771.0054 - mse: 1226173.0000 - val_loss: 738.0750 - val_mse: 1124916.0000\n",
      "Epoch 64/300\n",
      "187/187 [==============================] - 0s 1ms/step - loss: 761.9890 - mse: 1193270.3750 - val_loss: 867.9935 - val_mse: 1751710.3750\n",
      "Epoch 65/300\n",
      "187/187 [==============================] - 0s 1ms/step - loss: 775.1588 - mse: 1245035.7500 - val_loss: 736.9783 - val_mse: 1149211.0000\n",
      "Epoch 66/300\n",
      "187/187 [==============================] - 0s 1ms/step - loss: 767.1378 - mse: 1214341.5000 - val_loss: 734.1530 - val_mse: 1133243.3750\n",
      "Epoch 67/300\n",
      "187/187 [==============================] - 0s 1ms/step - loss: 765.7399 - mse: 1207974.3750 - val_loss: 730.9800 - val_mse: 1108631.6250\n",
      "Epoch 68/300\n",
      "187/187 [==============================] - 0s 1ms/step - loss: 766.3495 - mse: 1208928.5000 - val_loss: 740.4503 - val_mse: 1129343.5000\n",
      "Epoch 69/300\n",
      "187/187 [==============================] - 0s 1ms/step - loss: 765.3125 - mse: 1206475.0000 - val_loss: 737.9044 - val_mse: 1142273.2500\n",
      "Epoch 70/300\n",
      "187/187 [==============================] - 0s 1ms/step - loss: 766.8604 - mse: 1218229.1250 - val_loss: 743.0322 - val_mse: 1178146.0000\n",
      "Epoch 71/300\n",
      "187/187 [==============================] - 0s 1ms/step - loss: 762.4348 - mse: 1202246.7500 - val_loss: 740.3616 - val_mse: 1174745.1250\n",
      "Epoch 72/300\n",
      "187/187 [==============================] - 0s 1ms/step - loss: 763.4713 - mse: 1207101.5000 - val_loss: 733.3968 - val_mse: 1129041.5000\n",
      "Epoch 73/300\n",
      "187/187 [==============================] - 0s 1ms/step - loss: 763.8783 - mse: 1200666.8750 - val_loss: 740.6524 - val_mse: 1167146.1250\n",
      "Epoch 74/300\n",
      "187/187 [==============================] - 0s 1ms/step - loss: 769.6901 - mse: 1225836.5000 - val_loss: 739.5122 - val_mse: 1162950.8750\n",
      "Epoch 75/300\n",
      "187/187 [==============================] - 0s 1ms/step - loss: 764.7601 - mse: 1205909.6250 - val_loss: 734.4144 - val_mse: 1141973.7500\n",
      "Epoch 76/300\n",
      "187/187 [==============================] - 0s 1ms/step - loss: 767.8835 - mse: 1222471.8750 - val_loss: 735.1752 - val_mse: 1115047.7500\n",
      "Epoch 77/300\n",
      "187/187 [==============================] - 0s 1ms/step - loss: 763.5809 - mse: 1200967.2500 - val_loss: 738.4088 - val_mse: 1135117.6250\n",
      "Epoch 78/300\n",
      "187/187 [==============================] - 0s 1ms/step - loss: 768.2013 - mse: 1211103.0000 - val_loss: 754.4827 - val_mse: 1165925.7500\n",
      "Epoch 79/300\n",
      "187/187 [==============================] - 0s 1ms/step - loss: 763.7454 - mse: 1207069.7500 - val_loss: 729.9758 - val_mse: 1114036.2500\n",
      "Epoch 80/300\n",
      "187/187 [==============================] - 0s 1ms/step - loss: 767.7985 - mse: 1220241.2500 - val_loss: 735.4694 - val_mse: 1118667.6250\n",
      "Epoch 81/300\n",
      "187/187 [==============================] - 0s 1ms/step - loss: 763.3911 - mse: 1199058.6250 - val_loss: 748.4392 - val_mse: 1127149.8750\n",
      "Epoch 82/300\n",
      "187/187 [==============================] - 0s 1ms/step - loss: 765.3589 - mse: 1214264.5000 - val_loss: 744.1583 - val_mse: 1127523.3750\n",
      "Epoch 83/300\n",
      "187/187 [==============================] - 0s 1ms/step - loss: 766.0579 - mse: 1211716.0000 - val_loss: 731.3146 - val_mse: 1116878.0000\n",
      "Epoch 84/300\n",
      "187/187 [==============================] - 0s 1ms/step - loss: 763.1390 - mse: 1201266.5000 - val_loss: 736.5311 - val_mse: 1113160.7500\n",
      "Epoch 85/300\n",
      "187/187 [==============================] - 0s 1ms/step - loss: 763.2861 - mse: 1202470.7500 - val_loss: 732.5389 - val_mse: 1124509.1250\n",
      "Epoch 86/300\n",
      "187/187 [==============================] - 0s 1ms/step - loss: 762.4448 - mse: 1200035.3750 - val_loss: 734.6661 - val_mse: 1137250.5000\n",
      "Epoch 87/300\n",
      "187/187 [==============================] - 0s 1ms/step - loss: 763.1566 - mse: 1201230.0000 - val_loss: 739.5764 - val_mse: 1136647.3750\n",
      "Epoch 88/300\n",
      "187/187 [==============================] - 0s 1ms/step - loss: 768.4922 - mse: 1225865.0000 - val_loss: 752.0394 - val_mse: 1174258.3750\n",
      "Epoch 89/300\n",
      "187/187 [==============================] - 0s 1ms/step - loss: 762.9402 - mse: 1191627.8750 - val_loss: 745.5224 - val_mse: 1164201.7500\n",
      "Epoch 90/300\n",
      "187/187 [==============================] - 0s 1ms/step - loss: 760.1949 - mse: 1193365.3750 - val_loss: 743.9896 - val_mse: 1179212.7500\n",
      "Epoch 91/300\n",
      "187/187 [==============================] - 0s 1ms/step - loss: 765.7830 - mse: 1209540.1250 - val_loss: 729.2028 - val_mse: 1111189.2500\n",
      "Epoch 92/300\n",
      "187/187 [==============================] - 0s 1ms/step - loss: 765.7763 - mse: 1211361.3750 - val_loss: 737.8010 - val_mse: 1167450.0000\n",
      "Epoch 93/300\n",
      "187/187 [==============================] - 0s 1ms/step - loss: 761.7934 - mse: 1204056.7500 - val_loss: 727.7948 - val_mse: 1110820.0000\n",
      "Epoch 94/300\n",
      "187/187 [==============================] - 0s 1ms/step - loss: 767.0587 - mse: 1213061.8750 - val_loss: 731.4220 - val_mse: 1109472.1250\n",
      "Epoch 95/300\n",
      "187/187 [==============================] - 0s 1ms/step - loss: 763.9497 - mse: 1208949.0000 - val_loss: 741.1167 - val_mse: 1134327.1250\n",
      "Epoch 96/300\n",
      "187/187 [==============================] - 0s 1ms/step - loss: 761.4324 - mse: 1197095.0000 - val_loss: 749.7574 - val_mse: 1217345.0000\n",
      "Epoch 97/300\n",
      "187/187 [==============================] - 0s 1ms/step - loss: 762.6871 - mse: 1198264.7500 - val_loss: 730.4179 - val_mse: 1124375.8750\n",
      "Epoch 98/300\n",
      "187/187 [==============================] - 0s 1ms/step - loss: 760.1174 - mse: 1185067.8750 - val_loss: 732.3231 - val_mse: 1124327.0000\n",
      "Epoch 99/300\n",
      "187/187 [==============================] - 0s 1ms/step - loss: 760.9980 - mse: 1197879.7500 - val_loss: 729.1439 - val_mse: 1120874.8750\n",
      "Epoch 100/300\n",
      "187/187 [==============================] - 0s 1ms/step - loss: 763.9681 - mse: 1208448.6250 - val_loss: 737.8496 - val_mse: 1130214.2500\n",
      "Epoch 101/300\n",
      "187/187 [==============================] - 0s 1ms/step - loss: 766.0796 - mse: 1219760.6250 - val_loss: 728.2908 - val_mse: 1113046.0000\n",
      "Epoch 102/300\n",
      "187/187 [==============================] - 0s 1ms/step - loss: 760.6566 - mse: 1197590.1250 - val_loss: 744.4351 - val_mse: 1140624.0000\n",
      "Epoch 103/300\n",
      "187/187 [==============================] - 0s 1ms/step - loss: 766.3075 - mse: 1218765.0000 - val_loss: 728.7474 - val_mse: 1108381.2500\n",
      "Epoch 104/300\n",
      "187/187 [==============================] - 0s 1ms/step - loss: 760.8395 - mse: 1198805.5000 - val_loss: 745.7174 - val_mse: 1130856.1250\n",
      "Epoch 105/300\n",
      "187/187 [==============================] - 0s 1ms/step - loss: 761.7426 - mse: 1196861.6250 - val_loss: 730.2614 - val_mse: 1109812.5000\n",
      "Epoch 106/300\n",
      "187/187 [==============================] - 0s 1ms/step - loss: 763.5606 - mse: 1201446.3750 - val_loss: 733.7122 - val_mse: 1140048.7500\n",
      "Epoch 107/300\n",
      "187/187 [==============================] - 0s 1ms/step - loss: 764.5360 - mse: 1211728.6250 - val_loss: 735.9088 - val_mse: 1143319.8750\n",
      "Epoch 108/300\n",
      "187/187 [==============================] - 0s 1ms/step - loss: 762.7067 - mse: 1199049.6250 - val_loss: 728.9017 - val_mse: 1107894.2500\n",
      "Epoch 109/300\n"
     ]
    },
    {
     "name": "stdout",
     "output_type": "stream",
     "text": [
      "187/187 [==============================] - 0s 1ms/step - loss: 762.6512 - mse: 1207100.6250 - val_loss: 749.0745 - val_mse: 1176310.5000\n",
      "Epoch 110/300\n",
      "187/187 [==============================] - 0s 1ms/step - loss: 761.7350 - mse: 1198120.3750 - val_loss: 737.1436 - val_mse: 1130840.7500\n",
      "Epoch 111/300\n",
      "187/187 [==============================] - 0s 1ms/step - loss: 763.4142 - mse: 1204963.5000 - val_loss: 730.5414 - val_mse: 1120240.0000\n",
      "Epoch 112/300\n",
      "187/187 [==============================] - 0s 1ms/step - loss: 759.5233 - mse: 1190385.6250 - val_loss: 730.4556 - val_mse: 1111160.5000\n",
      "Epoch 113/300\n",
      "187/187 [==============================] - 0s 1ms/step - loss: 761.9998 - mse: 1203674.6250 - val_loss: 733.9889 - val_mse: 1114255.6250\n",
      "Epoch 114/300\n",
      "187/187 [==============================] - 0s 1ms/step - loss: 763.4915 - mse: 1200511.7500 - val_loss: 752.4439 - val_mse: 1173806.0000\n",
      "Epoch 115/300\n",
      "187/187 [==============================] - 0s 1ms/step - loss: 763.0892 - mse: 1217425.7500 - val_loss: 731.7955 - val_mse: 1119450.1250\n",
      "Epoch 116/300\n",
      "187/187 [==============================] - 0s 1ms/step - loss: 762.0582 - mse: 1196988.5000 - val_loss: 728.0531 - val_mse: 1114417.5000\n",
      "Epoch 117/300\n",
      "187/187 [==============================] - 0s 1ms/step - loss: 764.7221 - mse: 1202952.6250 - val_loss: 734.4647 - val_mse: 1124562.2500\n",
      "Epoch 118/300\n",
      "187/187 [==============================] - 0s 1ms/step - loss: 759.0304 - mse: 1192599.7500 - val_loss: 735.7008 - val_mse: 1137125.8750\n",
      "Epoch 119/300\n",
      "187/187 [==============================] - 0s 1ms/step - loss: 761.8648 - mse: 1196054.2500 - val_loss: 735.5319 - val_mse: 1132364.2500\n",
      "Epoch 120/300\n",
      "187/187 [==============================] - 0s 1ms/step - loss: 761.6959 - mse: 1198977.3750 - val_loss: 738.2886 - val_mse: 1140419.8750\n",
      "Epoch 121/300\n",
      "187/187 [==============================] - 0s 1ms/step - loss: 761.9174 - mse: 1198778.6250 - val_loss: 743.6785 - val_mse: 1150313.3750\n",
      "Epoch 122/300\n",
      "187/187 [==============================] - 0s 1ms/step - loss: 769.1470 - mse: 1248201.8750 - val_loss: 737.0895 - val_mse: 1129250.0000\n",
      "Epoch 123/300\n",
      "187/187 [==============================] - 0s 1ms/step - loss: 759.5182 - mse: 1190982.1250 - val_loss: 729.2935 - val_mse: 1109053.6250\n",
      "Epoch 124/300\n",
      "187/187 [==============================] - 0s 2ms/step - loss: 761.3273 - mse: 1199863.6250 - val_loss: 731.0068 - val_mse: 1121292.8750\n",
      "Epoch 125/300\n",
      "187/187 [==============================] - 0s 1ms/step - loss: 762.1977 - mse: 1197462.1250 - val_loss: 730.5669 - val_mse: 1112764.2500\n",
      "Epoch 126/300\n",
      "187/187 [==============================] - 0s 1ms/step - loss: 759.8441 - mse: 1192807.8750 - val_loss: 736.1376 - val_mse: 1122076.3750\n",
      "Epoch 127/300\n",
      "187/187 [==============================] - 0s 1ms/step - loss: 757.3540 - mse: 1186249.1250 - val_loss: 733.7869 - val_mse: 1113136.0000\n",
      "Epoch 128/300\n",
      "187/187 [==============================] - 0s 1ms/step - loss: 758.0244 - mse: 1193663.2500 - val_loss: 730.5539 - val_mse: 1115902.7500\n",
      "Epoch 129/300\n",
      "187/187 [==============================] - 0s 1ms/step - loss: 759.4306 - mse: 1192837.8750 - val_loss: 732.7786 - val_mse: 1131522.7500\n",
      "Epoch 130/300\n",
      "187/187 [==============================] - 0s 1ms/step - loss: 759.2280 - mse: 1194543.2500 - val_loss: 738.4261 - val_mse: 1126826.6250\n",
      "Epoch 131/300\n",
      "187/187 [==============================] - 0s 1ms/step - loss: 763.5764 - mse: 1198749.6250 - val_loss: 734.4554 - val_mse: 1125244.0000\n",
      "Epoch 132/300\n",
      "187/187 [==============================] - 0s 1ms/step - loss: 759.3351 - mse: 1193523.6250 - val_loss: 730.8772 - val_mse: 1112462.5000\n",
      "Epoch 133/300\n",
      "187/187 [==============================] - 0s 1ms/step - loss: 760.9391 - mse: 1193739.8750 - val_loss: 742.0804 - val_mse: 1135238.8750\n",
      "Epoch 134/300\n",
      "187/187 [==============================] - 0s 1ms/step - loss: 759.6689 - mse: 1188348.5000 - val_loss: 749.9927 - val_mse: 1199979.7500\n",
      "Epoch 135/300\n",
      "187/187 [==============================] - 0s 1ms/step - loss: 768.3600 - mse: 1225199.7500 - val_loss: 750.9335 - val_mse: 1165887.1250\n",
      "Epoch 136/300\n",
      "187/187 [==============================] - 0s 1ms/step - loss: 761.5581 - mse: 1191685.1250 - val_loss: 731.4332 - val_mse: 1116901.1250\n",
      "Epoch 137/300\n",
      "187/187 [==============================] - 0s 1ms/step - loss: 761.0923 - mse: 1203216.6250 - val_loss: 732.9179 - val_mse: 1131138.8750\n",
      "Epoch 138/300\n",
      "187/187 [==============================] - 0s 1ms/step - loss: 760.0790 - mse: 1201311.7500 - val_loss: 735.5859 - val_mse: 1139497.2500\n",
      "Epoch 139/300\n",
      "187/187 [==============================] - 0s 1ms/step - loss: 761.4901 - mse: 1200022.0000 - val_loss: 733.3487 - val_mse: 1138902.0000\n",
      "Epoch 140/300\n",
      "187/187 [==============================] - 0s 1ms/step - loss: 760.3016 - mse: 1202600.7500 - val_loss: 741.7975 - val_mse: 1127629.2500\n",
      "Epoch 141/300\n",
      "187/187 [==============================] - 0s 1ms/step - loss: 760.2649 - mse: 1194941.6250 - val_loss: 738.8427 - val_mse: 1148031.6250\n",
      "Epoch 142/300\n",
      "187/187 [==============================] - 0s 1ms/step - loss: 759.3450 - mse: 1192420.2500 - val_loss: 727.8072 - val_mse: 1114143.2500\n",
      "Epoch 143/300\n",
      "187/187 [==============================] - 0s 1ms/step - loss: 760.0608 - mse: 1196603.0000 - val_loss: 731.6136 - val_mse: 1123175.6250\n",
      "Epoch 144/300\n",
      "187/187 [==============================] - 0s 1ms/step - loss: 761.0735 - mse: 1196132.1250 - val_loss: 730.6550 - val_mse: 1125605.1250\n",
      "Epoch 145/300\n",
      "187/187 [==============================] - 0s 1ms/step - loss: 758.6370 - mse: 1192312.7500 - val_loss: 735.8666 - val_mse: 1129350.2500\n",
      "Epoch 146/300\n",
      "187/187 [==============================] - 0s 1ms/step - loss: 760.1890 - mse: 1192253.7500 - val_loss: 749.8059 - val_mse: 1192538.8750\n",
      "Epoch 147/300\n",
      "187/187 [==============================] - 0s 1ms/step - loss: 758.1453 - mse: 1192361.6250 - val_loss: 730.3959 - val_mse: 1123830.1250\n",
      "Epoch 148/300\n",
      "187/187 [==============================] - 0s 1ms/step - loss: 757.5126 - mse: 1192744.3750 - val_loss: 737.0683 - val_mse: 1134211.3750\n",
      "Epoch 149/300\n",
      "187/187 [==============================] - 0s 1ms/step - loss: 766.9317 - mse: 1220604.5000 - val_loss: 736.1141 - val_mse: 1118179.5000\n",
      "Epoch 150/300\n",
      "187/187 [==============================] - 0s 1ms/step - loss: 763.0050 - mse: 1206683.6250 - val_loss: 731.8597 - val_mse: 1111749.8750\n",
      "Epoch 151/300\n",
      "187/187 [==============================] - 0s 1ms/step - loss: 762.0869 - mse: 1207515.5000 - val_loss: 729.6421 - val_mse: 1118151.6250\n",
      "Epoch 152/300\n",
      "187/187 [==============================] - 0s 1ms/step - loss: 758.9847 - mse: 1186478.5000 - val_loss: 739.9893 - val_mse: 1159780.8750\n",
      "Epoch 153/300\n",
      "187/187 [==============================] - 0s 1ms/step - loss: 758.6599 - mse: 1193071.2500 - val_loss: 731.2123 - val_mse: 1123284.0000\n",
      "Epoch 154/300\n",
      "187/187 [==============================] - 0s 1ms/step - loss: 757.9903 - mse: 1185307.1250 - val_loss: 732.8609 - val_mse: 1133979.8750\n",
      "Epoch 155/300\n",
      "187/187 [==============================] - 0s 1ms/step - loss: 757.3949 - mse: 1193465.8750 - val_loss: 740.0631 - val_mse: 1145985.1250\n",
      "Epoch 156/300\n",
      "187/187 [==============================] - 0s 1ms/step - loss: 761.0206 - mse: 1192589.7500 - val_loss: 728.3752 - val_mse: 1111684.6250\n",
      "Epoch 157/300\n",
      "187/187 [==============================] - 0s 1ms/step - loss: 763.6159 - mse: 1216246.1250 - val_loss: 740.7310 - val_mse: 1134684.3750\n",
      "Epoch 158/300\n",
      "187/187 [==============================] - 0s 1ms/step - loss: 761.1603 - mse: 1204470.2500 - val_loss: 732.3500 - val_mse: 1135065.1250\n",
      "Epoch 159/300\n",
      "187/187 [==============================] - 0s 1ms/step - loss: 758.4776 - mse: 1182607.3750 - val_loss: 730.2781 - val_mse: 1110160.1250\n",
      "Epoch 160/300\n",
      "187/187 [==============================] - 0s 1ms/step - loss: 755.5719 - mse: 1184931.0000 - val_loss: 729.4302 - val_mse: 1118667.3750\n",
      "Epoch 161/300\n",
      "187/187 [==============================] - 0s 1ms/step - loss: 757.9250 - mse: 1195684.8750 - val_loss: 730.4247 - val_mse: 1112227.2500\n",
      "Epoch 162/300\n",
      "187/187 [==============================] - 0s 1ms/step - loss: 758.1053 - mse: 1193236.1250 - val_loss: 729.3206 - val_mse: 1119494.8750\n",
      "Epoch 163/300\n"
     ]
    },
    {
     "name": "stdout",
     "output_type": "stream",
     "text": [
      "187/187 [==============================] - 0s 1ms/step - loss: 759.0442 - mse: 1193852.8750 - val_loss: 737.5620 - val_mse: 1127078.7500\n",
      "Epoch 164/300\n",
      "187/187 [==============================] - 0s 1ms/step - loss: 757.4935 - mse: 1182053.6250 - val_loss: 727.7485 - val_mse: 1107418.2500\n",
      "Epoch 165/300\n",
      "187/187 [==============================] - 0s 1ms/step - loss: 756.7704 - mse: 1187211.0000 - val_loss: 729.6804 - val_mse: 1119550.7500\n",
      "Epoch 166/300\n",
      "187/187 [==============================] - 0s 1ms/step - loss: 758.8776 - mse: 1193936.1250 - val_loss: 733.3948 - val_mse: 1124145.6250\n",
      "Epoch 167/300\n",
      "187/187 [==============================] - 0s 1ms/step - loss: 757.7193 - mse: 1187909.6250 - val_loss: 731.6335 - val_mse: 1123837.0000\n",
      "Epoch 168/300\n",
      "187/187 [==============================] - 0s 1ms/step - loss: 760.0107 - mse: 1192332.3750 - val_loss: 733.5701 - val_mse: 1130734.1250\n",
      "Epoch 169/300\n",
      "187/187 [==============================] - 0s 1ms/step - loss: 757.7001 - mse: 1186951.2500 - val_loss: 752.2349 - val_mse: 1204305.7500\n",
      "Epoch 170/300\n",
      "187/187 [==============================] - 0s 1ms/step - loss: 760.1019 - mse: 1195154.8750 - val_loss: 733.4890 - val_mse: 1117259.6250\n",
      "Epoch 171/300\n",
      "187/187 [==============================] - 0s 1ms/step - loss: 757.8889 - mse: 1185999.3750 - val_loss: 751.5216 - val_mse: 1160832.5000\n",
      "Epoch 172/300\n",
      "187/187 [==============================] - 0s 1ms/step - loss: 764.2466 - mse: 1208257.1250 - val_loss: 731.3950 - val_mse: 1111127.5000\n",
      "Epoch 173/300\n",
      "187/187 [==============================] - 0s 1ms/step - loss: 762.2333 - mse: 1202803.3750 - val_loss: 780.9053 - val_mse: 1241407.2500\n",
      "Epoch 174/300\n",
      "187/187 [==============================] - 0s 1ms/step - loss: 760.6832 - mse: 1197556.5000 - val_loss: 750.4514 - val_mse: 1165988.0000\n",
      "Epoch 175/300\n",
      "187/187 [==============================] - 0s 1ms/step - loss: 759.3958 - mse: 1186709.6250 - val_loss: 735.2572 - val_mse: 1153484.5000\n",
      "Epoch 176/300\n",
      "187/187 [==============================] - 0s 1ms/step - loss: 755.7250 - mse: 1184451.5000 - val_loss: 734.9213 - val_mse: 1127356.3750\n",
      "Epoch 177/300\n",
      "187/187 [==============================] - 0s 1ms/step - loss: 758.6298 - mse: 1191579.0000 - val_loss: 734.1276 - val_mse: 1120450.6250\n",
      "Epoch 178/300\n",
      "187/187 [==============================] - 0s 1ms/step - loss: 759.6217 - mse: 1188699.0000 - val_loss: 746.9338 - val_mse: 1150628.2500\n",
      "Epoch 179/300\n",
      "187/187 [==============================] - 0s 1ms/step - loss: 760.0070 - mse: 1196581.8750 - val_loss: 753.9360 - val_mse: 1180537.5000\n",
      "Epoch 180/300\n",
      "187/187 [==============================] - 0s 1ms/step - loss: 758.2982 - mse: 1192439.1250 - val_loss: 729.9260 - val_mse: 1107819.3750\n",
      "Epoch 181/300\n",
      "187/187 [==============================] - 0s 1ms/step - loss: 760.5975 - mse: 1202628.7500 - val_loss: 729.7754 - val_mse: 1110288.7500\n",
      "Epoch 182/300\n",
      "187/187 [==============================] - 0s 1ms/step - loss: 759.7454 - mse: 1187728.1250 - val_loss: 733.7136 - val_mse: 1136982.5000\n",
      "Epoch 183/300\n",
      "187/187 [==============================] - 0s 1ms/step - loss: 756.1784 - mse: 1183422.1250 - val_loss: 736.2699 - val_mse: 1138282.3750\n",
      "Epoch 184/300\n",
      "187/187 [==============================] - 0s 1ms/step - loss: 756.8709 - mse: 1185898.1250 - val_loss: 731.9937 - val_mse: 1132882.5000\n",
      "Epoch 185/300\n",
      "187/187 [==============================] - 0s 1ms/step - loss: 757.7947 - mse: 1191518.5000 - val_loss: 731.7965 - val_mse: 1115949.8750\n",
      "Epoch 186/300\n",
      "187/187 [==============================] - 0s 1ms/step - loss: 757.8162 - mse: 1185285.1250 - val_loss: 742.7509 - val_mse: 1145359.7500\n",
      "Epoch 187/300\n",
      "187/187 [==============================] - 0s 1ms/step - loss: 761.0389 - mse: 1194163.7500 - val_loss: 732.0435 - val_mse: 1133255.3750\n",
      "Epoch 188/300\n",
      "187/187 [==============================] - 0s 1ms/step - loss: 769.6497 - mse: 1221020.1250 - val_loss: 731.3173 - val_mse: 1115603.1250\n",
      "Epoch 189/300\n",
      "187/187 [==============================] - 0s 1ms/step - loss: 756.8950 - mse: 1188460.2500 - val_loss: 734.0298 - val_mse: 1124040.5000\n",
      "Epoch 190/300\n",
      "187/187 [==============================] - 0s 1ms/step - loss: 756.6546 - mse: 1188313.5000 - val_loss: 747.5963 - val_mse: 1151881.7500\n",
      "Epoch 191/300\n",
      "187/187 [==============================] - 0s 1ms/step - loss: 759.1060 - mse: 1188205.6250 - val_loss: 729.4439 - val_mse: 1114047.8750\n",
      "Epoch 192/300\n",
      "187/187 [==============================] - 0s 1ms/step - loss: 758.8832 - mse: 1199941.7500 - val_loss: 739.1378 - val_mse: 1151506.2500\n",
      "Epoch 193/300\n",
      "187/187 [==============================] - 0s 1ms/step - loss: 757.5847 - mse: 1191452.3750 - val_loss: 734.3890 - val_mse: 1109140.6250\n",
      "Epoch 194/300\n",
      "187/187 [==============================] - 0s 1ms/step - loss: 759.5932 - mse: 1192712.8750 - val_loss: 730.3671 - val_mse: 1112203.5000\n",
      "Epoch 195/300\n",
      "187/187 [==============================] - 0s 1ms/step - loss: 759.7383 - mse: 1196595.3750 - val_loss: 736.0404 - val_mse: 1132470.3750\n",
      "Epoch 196/300\n",
      "187/187 [==============================] - 0s 1ms/step - loss: 757.7978 - mse: 1191496.5000 - val_loss: 729.6312 - val_mse: 1120158.5000\n",
      "Epoch 197/300\n",
      "187/187 [==============================] - 0s 1ms/step - loss: 757.5413 - mse: 1187373.0000 - val_loss: 732.0934 - val_mse: 1112017.3750\n",
      "Epoch 198/300\n",
      "187/187 [==============================] - 0s 1ms/step - loss: 760.5795 - mse: 1196276.6250 - val_loss: 741.4905 - val_mse: 1151378.6250\n",
      "Epoch 199/300\n",
      "187/187 [==============================] - 0s 1ms/step - loss: 758.2639 - mse: 1195403.7500 - val_loss: 739.9755 - val_mse: 1153475.3750\n",
      "Epoch 200/300\n",
      "187/187 [==============================] - 0s 1ms/step - loss: 758.0290 - mse: 1195807.3750 - val_loss: 731.0419 - val_mse: 1126643.6250\n",
      "Epoch 201/300\n",
      "187/187 [==============================] - 0s 1ms/step - loss: 757.9267 - mse: 1195756.6250 - val_loss: 735.5133 - val_mse: 1119285.2500\n",
      "Epoch 202/300\n",
      "187/187 [==============================] - 0s 1ms/step - loss: 758.9556 - mse: 1181875.6250 - val_loss: 729.8752 - val_mse: 1115212.5000\n",
      "Epoch 203/300\n",
      "187/187 [==============================] - 0s 1ms/step - loss: 755.9827 - mse: 1185612.3750 - val_loss: 733.7383 - val_mse: 1143694.6250\n",
      "Epoch 204/300\n",
      "187/187 [==============================] - 0s 1ms/step - loss: 762.5457 - mse: 1203912.2500 - val_loss: 730.9683 - val_mse: 1120235.6250\n",
      "Epoch 205/300\n",
      "187/187 [==============================] - 0s 1ms/step - loss: 759.3798 - mse: 1196873.7500 - val_loss: 731.0232 - val_mse: 1121294.8750\n",
      "Epoch 206/300\n",
      "187/187 [==============================] - 0s 1ms/step - loss: 759.5688 - mse: 1191283.1250 - val_loss: 729.6652 - val_mse: 1117945.3750\n",
      "Epoch 207/300\n",
      "187/187 [==============================] - 0s 1ms/step - loss: 757.9403 - mse: 1182383.0000 - val_loss: 734.3972 - val_mse: 1118945.7500\n",
      "Epoch 208/300\n",
      "187/187 [==============================] - 0s 1ms/step - loss: 756.9235 - mse: 1188661.7500 - val_loss: 737.0679 - val_mse: 1147805.8750\n",
      "Epoch 209/300\n",
      "187/187 [==============================] - 0s 1ms/step - loss: 764.1557 - mse: 1208771.3750 - val_loss: 734.7054 - val_mse: 1135859.6250\n",
      "Epoch 210/300\n",
      "187/187 [==============================] - 0s 2ms/step - loss: 756.9579 - mse: 1191044.8750 - val_loss: 731.7714 - val_mse: 1123201.8750\n",
      "Epoch 211/300\n",
      "187/187 [==============================] - 0s 1ms/step - loss: 758.4341 - mse: 1202474.6250 - val_loss: 732.9258 - val_mse: 1111446.7500\n",
      "Epoch 212/300\n",
      "187/187 [==============================] - 0s 1ms/step - loss: 759.1328 - mse: 1195598.3750 - val_loss: 732.0620 - val_mse: 1114542.8750\n",
      "Epoch 213/300\n",
      "187/187 [==============================] - 0s 1ms/step - loss: 757.5319 - mse: 1188356.0000 - val_loss: 734.3055 - val_mse: 1128847.8750\n",
      "Epoch 214/300\n",
      "187/187 [==============================] - 0s 1ms/step - loss: 753.7878 - mse: 1176289.0000 - val_loss: 729.3330 - val_mse: 1116185.3750\n",
      "Epoch 215/300\n",
      "187/187 [==============================] - 0s 1ms/step - loss: 760.4980 - mse: 1194419.8750 - val_loss: 729.1470 - val_mse: 1107841.3750\n",
      "Epoch 216/300\n",
      "187/187 [==============================] - 0s 1ms/step - loss: 756.7579 - mse: 1183727.6250 - val_loss: 746.0090 - val_mse: 1166709.7500\n",
      "Epoch 217/300\n"
     ]
    },
    {
     "name": "stdout",
     "output_type": "stream",
     "text": [
      "187/187 [==============================] - 0s 1ms/step - loss: 759.1332 - mse: 1191558.6250 - val_loss: 733.3149 - val_mse: 1125584.0000\n",
      "Epoch 218/300\n",
      "187/187 [==============================] - 0s 1ms/step - loss: 755.9344 - mse: 1186107.3750 - val_loss: 755.3510 - val_mse: 1229502.8750\n",
      "Epoch 219/300\n",
      "187/187 [==============================] - 0s 1ms/step - loss: 759.2365 - mse: 1196646.0000 - val_loss: 735.3260 - val_mse: 1121278.7500\n",
      "Epoch 220/300\n",
      "187/187 [==============================] - 0s 1ms/step - loss: 760.9677 - mse: 1196790.8750 - val_loss: 734.4968 - val_mse: 1123276.3750\n",
      "Epoch 221/300\n",
      "187/187 [==============================] - 0s 1ms/step - loss: 755.8813 - mse: 1182977.1250 - val_loss: 731.7374 - val_mse: 1111341.8750\n",
      "Epoch 222/300\n",
      "187/187 [==============================] - 0s 1ms/step - loss: 757.3376 - mse: 1186424.1250 - val_loss: 731.2303 - val_mse: 1122844.8750\n",
      "Epoch 223/300\n",
      "187/187 [==============================] - 0s 1ms/step - loss: 760.1123 - mse: 1198596.1250 - val_loss: 740.2994 - val_mse: 1146141.6250\n",
      "Epoch 224/300\n",
      "187/187 [==============================] - 0s 1ms/step - loss: 759.8578 - mse: 1189691.1250 - val_loss: 774.8490 - val_mse: 1245639.8750\n",
      "Epoch 225/300\n",
      "187/187 [==============================] - 0s 1ms/step - loss: 759.9766 - mse: 1193939.2500 - val_loss: 728.9618 - val_mse: 1113216.5000\n",
      "Epoch 226/300\n",
      "187/187 [==============================] - 0s 1ms/step - loss: 755.8248 - mse: 1185277.6250 - val_loss: 735.7551 - val_mse: 1130044.5000\n",
      "Epoch 227/300\n",
      "187/187 [==============================] - 0s 1ms/step - loss: 757.4166 - mse: 1185027.6250 - val_loss: 733.3852 - val_mse: 1127276.0000\n",
      "Epoch 228/300\n",
      "187/187 [==============================] - 0s 1ms/step - loss: 755.9583 - mse: 1182941.6250 - val_loss: 734.2734 - val_mse: 1133716.2500\n",
      "Epoch 229/300\n",
      "187/187 [==============================] - 0s 1ms/step - loss: 757.7766 - mse: 1186517.0000 - val_loss: 735.9831 - val_mse: 1132439.8750\n",
      "Epoch 230/300\n",
      "187/187 [==============================] - 0s 1ms/step - loss: 760.7684 - mse: 1194197.3750 - val_loss: 732.0699 - val_mse: 1129109.5000\n",
      "Epoch 231/300\n",
      "187/187 [==============================] - 0s 1ms/step - loss: 756.6642 - mse: 1187231.0000 - val_loss: 731.3986 - val_mse: 1112471.1250\n",
      "Epoch 232/300\n",
      "187/187 [==============================] - 0s 1ms/step - loss: 755.2396 - mse: 1185497.5000 - val_loss: 730.2867 - val_mse: 1131716.3750\n",
      "Epoch 233/300\n",
      "187/187 [==============================] - 0s 1ms/step - loss: 757.2659 - mse: 1185144.0000 - val_loss: 732.6751 - val_mse: 1124128.6250\n",
      "Epoch 234/300\n",
      "187/187 [==============================] - 0s 1ms/step - loss: 758.0640 - mse: 1192297.1250 - val_loss: 748.6172 - val_mse: 1215694.6250\n",
      "Epoch 235/300\n",
      "187/187 [==============================] - 0s 1ms/step - loss: 757.0348 - mse: 1190218.0000 - val_loss: 736.6215 - val_mse: 1154105.6250\n",
      "Epoch 236/300\n",
      "187/187 [==============================] - 0s 1ms/step - loss: 757.0634 - mse: 1185038.0000 - val_loss: 732.2042 - val_mse: 1122615.2500\n",
      "Epoch 237/300\n",
      "187/187 [==============================] - 0s 1ms/step - loss: 754.5862 - mse: 1181546.5000 - val_loss: 730.6986 - val_mse: 1121969.8750\n",
      "Epoch 238/300\n",
      "187/187 [==============================] - 0s 1ms/step - loss: 756.1729 - mse: 1184768.7500 - val_loss: 734.3804 - val_mse: 1134736.1250\n",
      "Epoch 239/300\n",
      "187/187 [==============================] - 0s 1ms/step - loss: 759.6833 - mse: 1197303.2500 - val_loss: 737.0425 - val_mse: 1152479.5000\n",
      "Epoch 240/300\n",
      "187/187 [==============================] - 0s 1ms/step - loss: 757.6002 - mse: 1183902.2500 - val_loss: 730.3653 - val_mse: 1122348.5000\n",
      "Epoch 241/300\n",
      "187/187 [==============================] - 0s 1ms/step - loss: 756.9463 - mse: 1186053.5000 - val_loss: 732.2923 - val_mse: 1121934.2500\n",
      "Epoch 242/300\n",
      "187/187 [==============================] - 0s 1ms/step - loss: 756.4957 - mse: 1183578.5000 - val_loss: 735.8007 - val_mse: 1140793.8750\n",
      "Epoch 243/300\n",
      "187/187 [==============================] - 0s 1ms/step - loss: 757.3760 - mse: 1185383.8750 - val_loss: 732.0844 - val_mse: 1122402.6250\n",
      "Epoch 244/300\n",
      "187/187 [==============================] - 0s 1ms/step - loss: 756.3846 - mse: 1183380.7500 - val_loss: 738.4326 - val_mse: 1134576.6250\n",
      "Epoch 245/300\n",
      "187/187 [==============================] - 0s 1ms/step - loss: 759.7889 - mse: 1197829.3750 - val_loss: 731.4245 - val_mse: 1122460.1250\n",
      "Epoch 246/300\n",
      "187/187 [==============================] - 0s 1ms/step - loss: 757.9228 - mse: 1189170.3750 - val_loss: 739.9431 - val_mse: 1131330.3750\n",
      "Epoch 247/300\n",
      "187/187 [==============================] - 0s 1ms/step - loss: 758.3971 - mse: 1193085.7500 - val_loss: 729.0527 - val_mse: 1113173.2500\n",
      "Epoch 248/300\n",
      "187/187 [==============================] - 0s 1ms/step - loss: 756.0505 - mse: 1184369.8750 - val_loss: 732.4225 - val_mse: 1122612.2500\n",
      "Epoch 249/300\n",
      "187/187 [==============================] - 0s 1ms/step - loss: 759.6293 - mse: 1196422.6250 - val_loss: 738.9673 - val_mse: 1137658.0000\n",
      "Epoch 250/300\n",
      "187/187 [==============================] - 0s 1ms/step - loss: 755.1519 - mse: 1181683.2500 - val_loss: 729.7150 - val_mse: 1112703.1250\n",
      "Epoch 251/300\n",
      "187/187 [==============================] - 0s 1ms/step - loss: 754.2738 - mse: 1177933.8750 - val_loss: 742.1453 - val_mse: 1162950.8750\n",
      "Epoch 252/300\n",
      "187/187 [==============================] - 0s 1ms/step - loss: 760.1601 - mse: 1194126.3750 - val_loss: 734.8100 - val_mse: 1137230.7500\n",
      "Epoch 253/300\n",
      "187/187 [==============================] - 0s 1ms/step - loss: 755.9892 - mse: 1186287.5000 - val_loss: 730.3732 - val_mse: 1120584.5000\n",
      "Epoch 254/300\n",
      "187/187 [==============================] - 0s 1ms/step - loss: 756.0406 - mse: 1183590.2500 - val_loss: 731.8007 - val_mse: 1118492.8750\n",
      "Epoch 255/300\n",
      "187/187 [==============================] - 0s 1ms/step - loss: 756.3464 - mse: 1185186.8750 - val_loss: 738.7422 - val_mse: 1143171.7500\n",
      "Epoch 256/300\n",
      "187/187 [==============================] - 0s 1ms/step - loss: 758.1637 - mse: 1184309.2500 - val_loss: 735.0868 - val_mse: 1123964.5000\n",
      "Epoch 257/300\n",
      "187/187 [==============================] - 0s 1ms/step - loss: 755.3938 - mse: 1183923.5000 - val_loss: 733.3068 - val_mse: 1121048.3750\n",
      "Epoch 258/300\n",
      "187/187 [==============================] - 0s 1ms/step - loss: 756.5135 - mse: 1186493.0000 - val_loss: 734.0692 - val_mse: 1130578.2500\n",
      "Epoch 259/300\n",
      "187/187 [==============================] - 0s 1ms/step - loss: 755.9038 - mse: 1182142.6250 - val_loss: 734.7195 - val_mse: 1139994.3750\n",
      "Epoch 260/300\n",
      "187/187 [==============================] - 0s 1ms/step - loss: 756.8900 - mse: 1188512.7500 - val_loss: 731.0859 - val_mse: 1128591.1250\n",
      "Epoch 261/300\n",
      "187/187 [==============================] - 0s 1ms/step - loss: 756.9915 - mse: 1186007.3750 - val_loss: 743.5474 - val_mse: 1139282.1250\n",
      "Epoch 262/300\n",
      "187/187 [==============================] - 0s 1ms/step - loss: 757.3240 - mse: 1182088.2500 - val_loss: 738.9866 - val_mse: 1155901.6250\n",
      "Epoch 263/300\n",
      "187/187 [==============================] - 0s 1ms/step - loss: 756.3572 - mse: 1176581.5000 - val_loss: 734.3575 - val_mse: 1122772.2500\n",
      "Epoch 264/300\n",
      "187/187 [==============================] - 0s 1ms/step - loss: 759.1556 - mse: 1198235.6250 - val_loss: 762.6608 - val_mse: 1223603.8750\n",
      "Epoch 265/300\n",
      "187/187 [==============================] - 0s 1ms/step - loss: 758.8872 - mse: 1197203.1250 - val_loss: 731.5110 - val_mse: 1125758.2500\n",
      "Epoch 266/300\n",
      "187/187 [==============================] - 0s 1ms/step - loss: 755.7934 - mse: 1180072.5000 - val_loss: 730.0659 - val_mse: 1126566.6250\n",
      "Epoch 267/300\n",
      "187/187 [==============================] - 0s 1ms/step - loss: 755.1319 - mse: 1179117.5000 - val_loss: 730.9442 - val_mse: 1120866.3750\n",
      "Epoch 268/300\n",
      "187/187 [==============================] - 0s 1ms/step - loss: 764.9254 - mse: 1221726.3750 - val_loss: 752.5920 - val_mse: 1169251.0000\n",
      "Epoch 269/300\n",
      "187/187 [==============================] - 0s 1ms/step - loss: 757.6013 - mse: 1189492.7500 - val_loss: 738.9928 - val_mse: 1118893.0000\n",
      "Epoch 270/300\n",
      "187/187 [==============================] - 0s 1ms/step - loss: 757.3334 - mse: 1188196.7500 - val_loss: 731.9146 - val_mse: 1116366.0000\n",
      "Epoch 271/300\n"
     ]
    },
    {
     "name": "stdout",
     "output_type": "stream",
     "text": [
      "187/187 [==============================] - 0s 1ms/step - loss: 755.6469 - mse: 1181113.0000 - val_loss: 748.4070 - val_mse: 1149613.7500\n",
      "Epoch 272/300\n",
      "187/187 [==============================] - 0s 1ms/step - loss: 755.8572 - mse: 1183964.8750 - val_loss: 735.3806 - val_mse: 1142805.6250\n",
      "Epoch 273/300\n",
      "187/187 [==============================] - 0s 1ms/step - loss: 755.2181 - mse: 1180865.6250 - val_loss: 731.7219 - val_mse: 1116220.7500\n",
      "Epoch 274/300\n",
      "187/187 [==============================] - 0s 1ms/step - loss: 755.8383 - mse: 1181281.8750 - val_loss: 730.6664 - val_mse: 1125141.0000\n",
      "Epoch 275/300\n",
      "187/187 [==============================] - 0s 1ms/step - loss: 756.8055 - mse: 1186799.8750 - val_loss: 730.6187 - val_mse: 1128548.7500\n",
      "Epoch 276/300\n",
      "187/187 [==============================] - 0s 1ms/step - loss: 755.7042 - mse: 1185727.5000 - val_loss: 739.8890 - val_mse: 1134637.2500\n",
      "Epoch 277/300\n",
      "187/187 [==============================] - 0s 1ms/step - loss: 759.9167 - mse: 1210842.1250 - val_loss: 730.6592 - val_mse: 1108377.6250\n",
      "Epoch 278/300\n",
      "187/187 [==============================] - 0s 1ms/step - loss: 755.9440 - mse: 1184354.0000 - val_loss: 730.8525 - val_mse: 1115286.6250\n",
      "Epoch 279/300\n",
      "187/187 [==============================] - 0s 1ms/step - loss: 755.1629 - mse: 1187130.8750 - val_loss: 738.6141 - val_mse: 1139886.2500\n",
      "Epoch 280/300\n",
      "187/187 [==============================] - 0s 1ms/step - loss: 754.8276 - mse: 1176690.2500 - val_loss: 732.8693 - val_mse: 1126566.2500\n",
      "Epoch 281/300\n",
      "187/187 [==============================] - 0s 1ms/step - loss: 753.9062 - mse: 1179699.5000 - val_loss: 731.5186 - val_mse: 1127584.8750\n",
      "Epoch 282/300\n",
      "187/187 [==============================] - 0s 1ms/step - loss: 758.2812 - mse: 1192067.0000 - val_loss: 729.1573 - val_mse: 1115278.6250\n",
      "Epoch 283/300\n",
      "187/187 [==============================] - 0s 1ms/step - loss: 754.6447 - mse: 1182473.5000 - val_loss: 730.8145 - val_mse: 1115334.3750\n",
      "Epoch 284/300\n",
      "187/187 [==============================] - 0s 1ms/step - loss: 755.0171 - mse: 1180923.5000 - val_loss: 730.4596 - val_mse: 1118306.2500\n",
      "Epoch 285/300\n",
      "187/187 [==============================] - 0s 1ms/step - loss: 754.5795 - mse: 1188509.7500 - val_loss: 732.2985 - val_mse: 1118180.6250\n",
      "Epoch 286/300\n",
      "187/187 [==============================] - 0s 1ms/step - loss: 754.7401 - mse: 1185677.7500 - val_loss: 745.0653 - val_mse: 1164038.2500\n",
      "Epoch 287/300\n",
      "187/187 [==============================] - 0s 1ms/step - loss: 754.8567 - mse: 1181080.5000 - val_loss: 736.4068 - val_mse: 1135586.1250\n",
      "Epoch 288/300\n",
      "187/187 [==============================] - 0s 1ms/step - loss: 755.0315 - mse: 1186190.7500 - val_loss: 730.9911 - val_mse: 1126772.0000\n",
      "Epoch 289/300\n",
      "187/187 [==============================] - 0s 1ms/step - loss: 755.3120 - mse: 1187348.1250 - val_loss: 731.5952 - val_mse: 1115694.8750\n",
      "Epoch 290/300\n",
      "187/187 [==============================] - 0s 1ms/step - loss: 753.5438 - mse: 1180521.2500 - val_loss: 743.3353 - val_mse: 1168137.0000\n",
      "Epoch 291/300\n",
      "187/187 [==============================] - 0s 1ms/step - loss: 756.4450 - mse: 1194810.7500 - val_loss: 752.4813 - val_mse: 1152951.3750\n",
      "Epoch 292/300\n",
      "187/187 [==============================] - 0s 1ms/step - loss: 755.9141 - mse: 1177007.7500 - val_loss: 730.9535 - val_mse: 1113562.2500\n",
      "Epoch 293/300\n",
      "187/187 [==============================] - 0s 1ms/step - loss: 755.8275 - mse: 1178980.3750 - val_loss: 742.2638 - val_mse: 1174450.0000\n",
      "Epoch 294/300\n",
      "187/187 [==============================] - 0s 1ms/step - loss: 757.4724 - mse: 1186600.6250 - val_loss: 739.3651 - val_mse: 1167333.7500\n",
      "Epoch 295/300\n",
      "187/187 [==============================] - 0s 1ms/step - loss: 755.3214 - mse: 1189201.1250 - val_loss: 732.8240 - val_mse: 1111540.6250\n",
      "Epoch 296/300\n",
      "187/187 [==============================] - 0s 1ms/step - loss: 758.6604 - mse: 1195643.6250 - val_loss: 735.0762 - val_mse: 1116169.5000\n",
      "Epoch 297/300\n",
      "187/187 [==============================] - 0s 1ms/step - loss: 756.3776 - mse: 1183723.3750 - val_loss: 734.0734 - val_mse: 1129371.0000\n",
      "Epoch 298/300\n",
      "187/187 [==============================] - 0s 1ms/step - loss: 755.0201 - mse: 1185826.6250 - val_loss: 733.5203 - val_mse: 1123736.5000\n",
      "Epoch 299/300\n",
      "187/187 [==============================] - 0s 1ms/step - loss: 754.0144 - mse: 1181905.6250 - val_loss: 739.8643 - val_mse: 1160791.7500\n",
      "Epoch 300/300\n",
      "187/187 [==============================] - 0s 1ms/step - loss: 756.5342 - mse: 1190127.1250 - val_loss: 734.8552 - val_mse: 1125992.8750\n"
     ]
    }
   ],
   "source": [
    "# import tensorflow as tf\n",
    "from tensorflow import keras\n",
    "\n",
    "\n",
    "model = keras.Sequential([\n",
    "    keras.layers.Dense(128, input_shape=(8,), activation='relu'),\n",
    "    keras.layers.Dense(64, activation='relu'),\n",
    "    keras.layers.Dense(32, activation='relu'),\n",
    "    keras.layers.Dense(16, activation='relu'),\n",
    "    keras.layers.Dense(8, activation='linear'),\n",
    "    keras.layers.Dense(4, activation='linear'),\n",
    "    keras.layers.Dense(1, activation='linear')\n",
    "])\n",
    "\n",
    "model.compile(optimizer='adam',\n",
    "              loss='mae',\n",
    "              metrics=['mse'])\n",
    "\n",
    "history = model.fit(X_train_std, y_train, validation_data = (X_val_std, y_val), epochs = 300)"
   ]
  },
  {
   "cell_type": "code",
   "execution_count": 96,
   "id": "d5cf7daf",
   "metadata": {},
   "outputs": [
    {
     "name": "stdout",
     "output_type": "stream",
     "text": [
      "80/80 [==============================] - 0s 620us/step - loss: 734.8552 - mse: 1125992.8750\n"
     ]
    },
    {
     "data": {
      "text/plain": [
       "[734.855224609375, 1125992.875]"
      ]
     },
     "execution_count": 96,
     "metadata": {},
     "output_type": "execute_result"
    }
   ],
   "source": [
    "model.evaluate(X_val_std, y_val)"
   ]
  },
  {
   "cell_type": "code",
   "execution_count": 97,
   "id": "01c605bf",
   "metadata": {},
   "outputs": [],
   "source": [
    "Ann_pred = (model.predict(X_val_std))"
   ]
  },
  {
   "cell_type": "code",
   "execution_count": 98,
   "id": "73b9ea82",
   "metadata": {},
   "outputs": [
    {
     "data": {
      "text/plain": [
       "(0.5980024255099164, 734.8550730730507, 1125992.6041617198, 1061.127986701755)"
      ]
     },
     "execution_count": 98,
     "metadata": {},
     "output_type": "execute_result"
    }
   ],
   "source": [
    "Ann_score = r2_score((y_val), Ann_pred)\n",
    "Ann_mae = mean_absolute_error((y_val), Ann_pred)\n",
    "Ann_mse = mean_squared_error((y_val), Ann_pred)\n",
    "Ann_rmse = np.sqrt(Ann_mse)\n",
    "Ann_score, Ann_mae, Ann_mse, Ann_rmse"
   ]
  },
  {
   "cell_type": "code",
   "execution_count": 99,
   "id": "31243579",
   "metadata": {},
   "outputs": [
    {
     "data": {
      "text/plain": [
       "(array([[1302.238 ],\n",
       "        [ 672.1125],\n",
       "        [ 735.9007],\n",
       "        [4652.8945],\n",
       "        [3162.918 ]], dtype=float32),\n",
       " 7503    1743.0644\n",
       " 2957     356.8688\n",
       " 7031     377.5086\n",
       " 1084    5778.4782\n",
       " 856     2356.9320\n",
       " Name: Item_Outlet_Sales, dtype: float64)"
      ]
     },
     "execution_count": 99,
     "metadata": {},
     "output_type": "execute_result"
    }
   ],
   "source": [
    "Ann_pred[:5], (y_val)[:5]"
   ]
  },
  {
   "cell_type": "code",
   "execution_count": 100,
   "id": "3e420b85",
   "metadata": {},
   "outputs": [
    {
     "data": {
      "image/png": "[encoded data removed]",
      "text/plain": [
       "<Figure size 432x288 with 1 Axes>"
      ]
     },
     "metadata": {
      "needs_background": "light"
     },
     "output_type": "display_data"
    }
   ],
   "source": [
    "#loss\n",
    "plt.plot(history.history['loss'])\n",
    "plt.plot(history.history['val_loss'])\n",
    "plt.title('model loss')\n",
    "plt.ylabel('loss')\n",
    "plt.xlabel('epoch')\n",
    "plt.legend(['train', 'validation'], loc='upper right')\n",
    "plt.show()"
   ]
  },
  {
   "cell_type": "markdown",
   "id": "dfac535a",
   "metadata": {},
   "source": [
    "# ExtraTrees Regression"
   ]
  },
  {
   "cell_type": "code",
   "execution_count": 101,
   "id": "c971f46f",
   "metadata": {},
   "outputs": [
    {
     "data": {
      "text/plain": [
       "(0.4999733859961485, 823.6657757645675, 1400571.3093332418, 1183.4573542520413)"
      ]
     },
     "execution_count": 101,
     "metadata": {},
     "output_type": "execute_result"
    }
   ],
   "source": [
    "from sklearn.ensemble import ExtraTreesRegressor\n",
    "\n",
    "ExtraTrees_reg = ExtraTreesRegressor(n_estimators = 300, random_state = 0)\n",
    "\n",
    "ExtraTrees_reg.fit(X_train_std, y_train)\n",
    "ExtraTrees_pred = ExtraTrees_reg.predict(X_val_std)\n",
    "\n",
    "ExtraTrees_score = r2_score((y_val), (ExtraTrees_pred))\n",
    "ExtraTrees_mae = mean_absolute_error((y_val), (ExtraTrees_pred))\n",
    "ExtraTrees_mse = mean_squared_error((y_val), (ExtraTrees_pred))\n",
    "ExtraTrees_rmse = np.sqrt(ExtraTrees_mse)\n",
    "\n",
    "ExtraTrees_score, ExtraTrees_mae, ExtraTrees_mse, ExtraTrees_rmse"
   ]
  },
  {
   "cell_type": "markdown",
   "id": "d9d19ca0",
   "metadata": {},
   "source": [
    "# Random Forest Regression"
   ]
  },
  {
   "cell_type": "code",
   "execution_count": 102,
   "id": "f918a363",
   "metadata": {},
   "outputs": [
    {
     "data": {
      "text/plain": [
       "(0.5450212242740884, 784.1899821114587, 1274392.6058951076, 1128.8899883935137)"
      ]
     },
     "execution_count": 102,
     "metadata": {},
     "output_type": "execute_result"
    }
   ],
   "source": [
    "from sklearn.ensemble import RandomForestRegressor\n",
    "\n",
    "rf_model = RandomForestRegressor(random_state = 0, n_estimators = 200, max_depth = 100)\n",
    "\n",
    "\n",
    "rf_model.fit(X_train_std, y_train)\n",
    "rf_pred = rf_model.predict(X_val_std)\n",
    "\n",
    "rf_score = r2_score((y_val), (rf_pred))\n",
    "rf_mae = mean_absolute_error((y_val), (rf_pred))\n",
    "rf_mse = mean_squared_error((y_val), (rf_pred))\n",
    "rf_rmse = np.sqrt(rf_mse)\n",
    "\n",
    "rf_score, rf_mae, rf_mse, rf_rmse"
   ]
  },
  {
   "cell_type": "markdown",
   "id": "14f7998a",
   "metadata": {},
   "source": [
    "# Gradient Boosting regression"
   ]
  },
  {
   "cell_type": "code",
   "execution_count": 116,
   "id": "bf5844b4",
   "metadata": {},
   "outputs": [
    {
     "data": {
      "text/plain": [
       "(0.6014989841202969, 742.6580967274199, 1116198.766126004, 1056.5030838222879)"
      ]
     },
     "execution_count": 116,
     "metadata": {},
     "output_type": "execute_result"
    }
   ],
   "source": [
    "from sklearn.ensemble import GradientBoostingRegressor\n",
    "\n",
    "gb_reg = GradientBoostingRegressor(learning_rate = 0.1, n_estimators = 37, random_state = 0)\n",
    "\n",
    "gb_model = gb_reg.fit(X_train_std, y_train)\n",
    "gb_pred = gb_reg.predict(X_val_std)\n",
    "\n",
    "gb_score = r2_score(y_val, gb_pred)\n",
    "gb_mae = mean_absolute_error(y_val, gb_pred)\n",
    "gb_mse = mean_squared_error(y_val, gb_pred)\n",
    "gb_rmse = np.sqrt(gb_mse)\n",
    "\n",
    "gb_score, gb_mae, gb_mse, gb_rmse"
   ]
  },
  {
   "cell_type": "code",
   "execution_count": 117,
   "id": "721f87a8",
   "metadata": {},
   "outputs": [
    {
     "data": {
      "text/plain": [
       "(7503    1743.0644\n",
       " 2957     356.8688\n",
       " 7031     377.5086\n",
       " 1084    5778.4782\n",
       " 856     2356.9320\n",
       " Name: Item_Outlet_Sales, dtype: float64,\n",
       " array([1271.16597076,  781.5953535 ,  781.5953535 , 4797.71216527,\n",
       "        3121.43715093]))"
      ]
     },
     "execution_count": 117,
     "metadata": {},
     "output_type": "execute_result"
    }
   ],
   "source": [
    "y_val[:5], gb_pred[:5]"
   ]
  },
  {
   "cell_type": "markdown",
   "id": "34f5e4e9",
   "metadata": {},
   "source": [
    "# Making Predictions on test data\n"
   ]
  },
  {
   "cell_type": "code",
   "execution_count": 105,
   "id": "c61c3125",
   "metadata": {},
   "outputs": [
    {
     "data": {
      "text/plain": [
       "array([1663.90107646, 1368.02962074,  687.10646932, 2465.22274231,\n",
       "       6201.38838404])"
      ]
     },
     "execution_count": 105,
     "metadata": {},
     "output_type": "execute_result"
    }
   ],
   "source": [
    "# using the GradientBoostingRegressor for predictions \n",
    "\n",
    "gb_reg_test = gb_reg.predict(X_test_std)\n",
    "gb_reg_test[:5]"
   ]
  },
  {
   "cell_type": "code",
   "execution_count": 106,
   "id": "336b9865",
   "metadata": {},
   "outputs": [
    {
     "data": {
      "text/html": [
       "<div>\n",
       "<style scoped>\n",
       "    .dataframe tbody tr th:only-of-type {\n",
       "        vertical-align: middle;\n",
       "    }\n",
       "\n",
       "    .dataframe tbody tr th {\n",
       "        vertical-align: top;\n",
       "    }\n",
       "\n",
       "    .dataframe thead th {\n",
       "        text-align: right;\n",
       "    }\n",
       "</style>\n",
       "<table border=\"1\" class=\"dataframe\">\n",
       "  <thead>\n",
       "    <tr style=\"text-align: right;\">\n",
       "      <th></th>\n",
       "      <th>Item_Identifier</th>\n",
       "      <th>Outlet_Identifier</th>\n",
       "    </tr>\n",
       "  </thead>\n",
       "  <tbody>\n",
       "    <tr>\n",
       "      <th>0</th>\n",
       "      <td>FDW58</td>\n",
       "      <td>OUT049</td>\n",
       "    </tr>\n",
       "    <tr>\n",
       "      <th>1</th>\n",
       "      <td>FDW14</td>\n",
       "      <td>OUT017</td>\n",
       "    </tr>\n",
       "    <tr>\n",
       "      <th>2</th>\n",
       "      <td>NCN55</td>\n",
       "      <td>OUT010</td>\n",
       "    </tr>\n",
       "    <tr>\n",
       "      <th>3</th>\n",
       "      <td>FDQ58</td>\n",
       "      <td>OUT017</td>\n",
       "    </tr>\n",
       "    <tr>\n",
       "      <th>4</th>\n",
       "      <td>FDY38</td>\n",
       "      <td>OUT027</td>\n",
       "    </tr>\n",
       "  </tbody>\n",
       "</table>\n",
       "</div>"
      ],
      "text/plain": [
       "  Item_Identifier Outlet_Identifier\n",
       "0           FDW58            OUT049\n",
       "1           FDW14            OUT017\n",
       "2           NCN55            OUT010\n",
       "3           FDQ58            OUT017\n",
       "4           FDY38            OUT027"
      ]
     },
     "execution_count": 106,
     "metadata": {},
     "output_type": "execute_result"
    }
   ],
   "source": [
    "df_test_out = df_test[['Item_Identifier', 'Outlet_Identifier']]\n",
    "df_test_out.head()"
   ]
  },
  {
   "cell_type": "code",
   "execution_count": 107,
   "id": "99eefe0b",
   "metadata": {},
   "outputs": [],
   "source": [
    "df_out = df_out = pd.merge(df_test_out,pd.DataFrame(gb_reg_test),how = 'left',left_index = True, right_index = True)"
   ]
  },
  {
   "cell_type": "code",
   "execution_count": 108,
   "id": "12db1ad6",
   "metadata": {},
   "outputs": [
    {
     "data": {
      "text/html": [
       "<div>\n",
       "<style scoped>\n",
       "    .dataframe tbody tr th:only-of-type {\n",
       "        vertical-align: middle;\n",
       "    }\n",
       "\n",
       "    .dataframe tbody tr th {\n",
       "        vertical-align: top;\n",
       "    }\n",
       "\n",
       "    .dataframe thead th {\n",
       "        text-align: right;\n",
       "    }\n",
       "</style>\n",
       "<table border=\"1\" class=\"dataframe\">\n",
       "  <thead>\n",
       "    <tr style=\"text-align: right;\">\n",
       "      <th></th>\n",
       "      <th>Item_Identifier</th>\n",
       "      <th>Outlet_Identifier</th>\n",
       "      <th>Item_Outlet_Sales</th>\n",
       "    </tr>\n",
       "  </thead>\n",
       "  <tbody>\n",
       "    <tr>\n",
       "      <th>5676</th>\n",
       "      <td>FDB58</td>\n",
       "      <td>OUT046</td>\n",
       "      <td>2132.230004</td>\n",
       "    </tr>\n",
       "    <tr>\n",
       "      <th>5677</th>\n",
       "      <td>FDD47</td>\n",
       "      <td>OUT018</td>\n",
       "      <td>2605.007791</td>\n",
       "    </tr>\n",
       "    <tr>\n",
       "      <th>5678</th>\n",
       "      <td>NCO17</td>\n",
       "      <td>OUT045</td>\n",
       "      <td>1910.472217</td>\n",
       "    </tr>\n",
       "    <tr>\n",
       "      <th>5679</th>\n",
       "      <td>FDJ26</td>\n",
       "      <td>OUT017</td>\n",
       "      <td>3402.642672</td>\n",
       "    </tr>\n",
       "    <tr>\n",
       "      <th>5680</th>\n",
       "      <td>FDU37</td>\n",
       "      <td>OUT045</td>\n",
       "      <td>1271.165971</td>\n",
       "    </tr>\n",
       "  </tbody>\n",
       "</table>\n",
       "</div>"
      ],
      "text/plain": [
       "     Item_Identifier Outlet_Identifier  Item_Outlet_Sales\n",
       "5676           FDB58            OUT046        2132.230004\n",
       "5677           FDD47            OUT018        2605.007791\n",
       "5678           NCO17            OUT045        1910.472217\n",
       "5679           FDJ26            OUT017        3402.642672\n",
       "5680           FDU37            OUT045        1271.165971"
      ]
     },
     "execution_count": 108,
     "metadata": {},
     "output_type": "execute_result"
    }
   ],
   "source": [
    "df_out.rename(columns = {0:'Item_Outlet_Sales'}, inplace = True)\n",
    "df_out.tail()"
   ]
  },
  {
   "cell_type": "code",
   "execution_count": 109,
   "id": "6c24b51b",
   "metadata": {},
   "outputs": [],
   "source": [
    "# Save the data frame as a csv\n",
    "\n",
    "import os\n",
    "os.chdir(r'C:\\Users\\apega\\My py notes\\Machine Learning\\My ML Projects\\Stores Sales Prediction')\n",
    "\n",
    "df_out.to_csv('final_submission.csv', index = False)"
   ]
  },
  {
   "cell_type": "markdown",
   "id": "8e1f00fb",
   "metadata": {},
   "source": [
    "# Save the model"
   ]
  },
  {
   "cell_type": "code",
   "execution_count": 110,
   "id": "67201171",
   "metadata": {},
   "outputs": [],
   "source": [
    "import pickle"
   ]
  },
  {
   "cell_type": "code",
   "execution_count": 125,
   "id": "427c9029",
   "metadata": {},
   "outputs": [],
   "source": [
    "pickle.dump(gb_reg, open('models/gb.pkl','wb'))\n",
    "pickle.dump(sc, open('models/scaler.pkl','wb'))"
   ]
  },
  {
   "cell_type": "code",
   "execution_count": 126,
   "id": "e81310b0",
   "metadata": {},
   "outputs": [],
   "source": [
    "# load the model\n",
    "\n",
    "model = pickle.load(open('models/gbm.pkl','rb'))"
   ]
  },
  {
   "cell_type": "code",
   "execution_count": 127,
   "id": "d4252f17",
   "metadata": {},
   "outputs": [
    {
     "data": {
      "text/plain": [
       "array([[31.   ,  1.   ,  0.032,  1.   , 30.   ,  0.   ,  0.   ,  0.   ]])"
      ]
     },
     "execution_count": 127,
     "metadata": {},
     "output_type": "execute_result"
    }
   ],
   "source": [
    "# Custom Predictions\n",
    "pred = np.array([[31, 1, 0.032, 1, 30, 0, 0, 0]])\n",
    "pred"
   ]
  },
  {
   "cell_type": "code",
   "execution_count": 128,
   "id": "e18bfa9c",
   "metadata": {},
   "outputs": [
    {
     "data": {
      "text/plain": [
       "array([137.26722759])"
      ]
     },
     "execution_count": 128,
     "metadata": {},
     "output_type": "execute_result"
    }
   ],
   "source": [
    "model.predict(pred)"
   ]
  },
  {
   "cell_type": "code",
   "execution_count": null,
   "id": "9b81a351",
   "metadata": {},
   "outputs": [],
   "source": []
  },
  {
   "cell_type": "code",
   "execution_count": null,
   "id": "8b98fe48",
   "metadata": {},
   "outputs": [],
   "source": []
  }
 ],
 "metadata": {
  "kernelspec": {
   "display_name": "Python 3",
   "language": "python",
   "name": "python3"
  },
  "language_info": {
   "codemirror_mode": {
    "name": "ipython",
    "version": 3
   },
   "file_extension": ".py",
   "mimetype": "text/x-python",
   "name": "python",
   "nbconvert_exporter": "python",
   "pygments_lexer": "ipython3",
   "version": "3.8.5"
  }
 },
 "nbformat": 4,
 "nbformat_minor": 5
}
